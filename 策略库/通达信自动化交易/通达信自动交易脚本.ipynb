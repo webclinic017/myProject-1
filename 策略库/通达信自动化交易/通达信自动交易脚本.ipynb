{
 "cells": [
  {
   "cell_type": "code",
   "execution_count": null,
   "id": "44325c22",
   "metadata": {},
   "outputs": [],
   "source": [
    "import win32gui, win32con,win32api\n",
    "import pyautogui\n",
    "import time\n",
    "import pandas as pd\n",
    "import os\n",
    "import re\n",
    "import logging\n",
    "Handle = win32gui.FindWindow('TdxW_MainFrame_Class', None) # 通达信模拟交易终端V8.09 - [行情报价-自选股]\n",
    "Handle"
   ]
  },
  {
   "cell_type": "markdown",
   "id": "4ef56048",
   "metadata": {},
   "source": [
    "# email发送错误信息"
   ]
  },
  {
   "cell_type": "code",
   "execution_count": null,
   "id": "13d91f11",
   "metadata": {},
   "outputs": [],
   "source": [
    "from email.mime.multipart import MIMEMultipart # 一封邮件\n",
    "from email.mime.text import MIMEText # 邮件内容\n",
    "from email.mime.image import MIMEImage # 图片\n",
    "from email.mime.application import MIMEApplication # 附件\n",
    "import smtplib # 发送功能\n",
    "def send_email(text, subject = '无题', filepath='', to_list = ['12757205@qq.com'], cc_list = []):\n",
    "    sender = \"pyerrorsend@163.com\"\n",
    "    license_code = 'IESOZGAJEOAHRWHP'\n",
    "    \n",
    "    em = MIMEMultipart() # 一封邮件 （其实就是message.Message对象的一个子类）\n",
    "    em['Subject'] = subject # 邮件主题\n",
    "    em['From'] = sender # 发件人\n",
    "    em['To'] = ','.join(to_list) # 发送对象\n",
    "    em['Cc'] = ','.join(cc_list) # 抄送对象\n",
    "    \n",
    "    content = MIMEText(text) # 把普通文字转换为邮件正文\n",
    "    em.attach(content) # 把邮件的正文丢给邮件的主体\n",
    "    \n",
    "    if filepath == '':\n",
    "        pass\n",
    "    else:\n",
    "        app = MIMEApplication(open(filepath, mode='rb').read()) # 把文件读进来\n",
    "        app.add_header(\"content-disposition\", \"attachment\", filename=\"运行状况.gif\") # 给文件重新命一个下载名\n",
    "        em.attach(app)\n",
    "\n",
    "    smtp = smtplib.SMTP() # 先创建一个SMTP对象\n",
    "    smtp.connect('smtp.163.com') # 连上对应的服务器\n",
    "    \n",
    "    smtp.login(sender, license_code)\n",
    "    \n",
    "    smtp.send_message(em)\n",
    "    \n",
    "    smtp.close()"
   ]
  },
  {
   "cell_type": "markdown",
   "id": "5822ee45",
   "metadata": {},
   "source": [
    "# 日志记录"
   ]
  },
  {
   "cell_type": "code",
   "execution_count": null,
   "id": "845df3ca",
   "metadata": {},
   "outputs": [],
   "source": [
    "logger = logging.getLogger(name='通达信交易终端') # 日志器\n",
    "console_handler = logging.StreamHandler() # 控制台处理器\n",
    "file_handler = logging.FileHandler('./log.txt', mode='a', encoding='utf-8') # 文本处理器\n",
    "# 显示等级\n",
    "logger.setLevel(level='INFO')\n",
    "console_handler.setLevel(level='INFO')\n",
    "file_handler.setLevel(level='INFO')\n",
    "# 格式\n",
    "console_fmt = '%(asctime)s --- %(message)s --- 来自函数：%(funcName)s'\n",
    "file_fmt    = '%(asctime)s --- %(message)s --- 来自函数：%(funcName)s'\n",
    "# 格式器\n",
    "fmt1 = logging.Formatter(fmt=console_fmt)\n",
    "fmt2 = logging.Formatter(fmt= file_fmt)\n",
    "# 消息处理器中加入格式器\n",
    "console_handler.setFormatter(fmt1)\n",
    "file_handler.setFormatter(fmt2)\n",
    "# 日志器中加入消息处理器\n",
    "logger.addHandler(console_handler)\n",
    "logger.addHandler(file_handler)\n",
    "\n",
    "# logger.debug('这是debug信息')\n",
    "# logger.info('这是info信息')\n",
    "# logger.warning('这是warning信息')\n",
    "# logger.error('这是error信息')\n",
    "# logger.critical('这是critical信息')"
   ]
  },
  {
   "cell_type": "markdown",
   "id": "da0b6834",
   "metadata": {},
   "source": [
    "# 用全屏的坐标点击"
   ]
  },
  {
   "cell_type": "code",
   "execution_count": null,
   "id": "29f6a9c5",
   "metadata": {},
   "outputs": [],
   "source": [
    "def click_screen(screen_x,screen_y): #输入为全屏的自由坐标。\n",
    "    pos = (screen_x,screen_y)\n",
    "    handle= win32gui.WindowFromPoint(pos) # 获取坐标所指的子窗口的handle\n",
    "    # print('鼠标所指的子窗口的handle:',handle)\n",
    "    client_pos =win32gui.ScreenToClient(handle,pos) # 获取全屏坐标在该子窗下的坐标\n",
    "    tmp=win32api.MAKELONG(client_pos[0],client_pos[1]) # 鼠标后台移动到该子窗的该坐标\n",
    "    win32gui.PostMessage(handle, win32con.WM_ACTIVATE,win32con.WA_ACTIVE,0) # 激活鼠标下的东西\n",
    "    win32gui.PostMessage(handle, win32con.WM_LBUTTONDOWN,win32con.MK_LBUTTON,tmp) # 左键按下\n",
    "    win32gui.PostMessage(handle, win32con.WM_LBUTTONUP,win32con.MK_LBUTTON,tmp) # 左键弹起\n"
   ]
  },
  {
   "cell_type": "markdown",
   "id": "eb902de9",
   "metadata": {},
   "source": [
    "# 端内坐标转化为全屏坐标"
   ]
  },
  {
   "cell_type": "code",
   "execution_count": null,
   "id": "5fafed09",
   "metadata": {},
   "outputs": [],
   "source": [
    "def p(client_x,client_y):\n",
    "    pos = win32gui.ClientToScreen(Handle, (client_x,client_y)) \n",
    "    return pos[0],pos[1]"
   ]
  },
  {
   "cell_type": "markdown",
   "id": "ccb79256",
   "metadata": {},
   "source": [
    "# 用客户端内坐标点击"
   ]
  },
  {
   "cell_type": "code",
   "execution_count": null,
   "id": "ba1617dc",
   "metadata": {},
   "outputs": [],
   "source": [
    "def click_it(client_x, client_y, click=True): #输入为金融客户端的端内坐标。\n",
    "    pos = win32gui.ClientToScreen(Handle, (client_x,client_y)) # 端内坐标转化为全屏坐标\n",
    "    handle= win32gui.WindowFromPoint(pos) # 获取全屏坐标所指的子窗口的handle\n",
    "    # print('鼠标所指的子窗口的handle:',handle)\n",
    "    if click==True:\n",
    "        client_pos =win32gui.ScreenToClient(handle,pos) # 获取全屏坐标在该子窗下的坐标\n",
    "        tmp=win32api.MAKELONG(client_pos[0],client_pos[1]) # 鼠标后台移动到该子窗的该坐标\n",
    "        win32gui.PostMessage(handle, win32con.WM_ACTIVATE,win32con.WA_ACTIVE,0) # 激活鼠标下的东西\n",
    "        win32gui.PostMessage(handle, win32con.WM_LBUTTONDOWN,win32con.MK_LBUTTON,tmp) # 左键按下\n",
    "        win32gui.PostMessage(handle, win32con.WM_LBUTTONUP,win32con.MK_LBUTTON,tmp) # 左键弹起\n",
    "        time.sleep(0.02)\n",
    "    else:\n",
    "        pass\n",
    "    return handle"
   ]
  },
  {
   "cell_type": "markdown",
   "id": "58d23d9e",
   "metadata": {},
   "source": [
    "# 用客户端内坐标找handle"
   ]
  },
  {
   "cell_type": "raw",
   "id": "d8f4c437",
   "metadata": {},
   "source": [
    "def get_it(client_x, client_y): #输入为金融客户端的端内坐标。\n",
    "    pos = win32gui.ClientToScreen(Handle, (client_x,client_y)) # 端内坐标转化为全屏坐标\n",
    "    handle= win32gui.WindowFromPoint(pos) # 获取全屏坐标所指的子窗口的handle\n",
    "    # print('鼠标所指的子窗口的handle:',handle)"
   ]
  },
  {
   "cell_type": "markdown",
   "id": "e50635a2",
   "metadata": {},
   "source": [
    "# 初始化"
   ]
  },
  {
   "cell_type": "code",
   "execution_count": null,
   "id": "86b1ab0c",
   "metadata": {},
   "outputs": [],
   "source": [
    "def initiallize(password='87148095'):\n",
    "    if win32gui.IsIconic(Handle):\n",
    "        # print('最小化了')\n",
    "        win32gui.ShowWindow(Handle,win32con.SW_RESTORE)\n",
    "        print('已恢复')\n",
    "    else:\n",
    "        # print('没最小化')\n",
    "        pass\n",
    "    win32gui.SetWindowPos(\n",
    "        Handle, \n",
    "        win32con.HWND_TOPMOST, \n",
    "        0, 0, 640, 480, \n",
    "        win32con.SWP_SHOWWINDOW)\n",
    "    \n",
    "    # 判断是否上锁\n",
    "    while True:\n",
    "        anchor = pyautogui.locateOnScreen(\n",
    "            'password_pic.png', \n",
    "            region=(340, 170, 375, 210),\n",
    "            # confidence=0.9,  # 精度 需要安装openCV包\n",
    "            grayscale=True     # 灰度 可提升找图速度\n",
    "        ) \n",
    "        if anchor:\n",
    "            a, b = pyautogui.position() # 保存鼠标的当前坐标\n",
    "            pyautogui.doubleClick(183, 193) # 双击密码输入框\n",
    "            pyautogui.typewrite(message=password, interval=0.08)\n",
    "            time.sleep(0.08)\n",
    "            pyautogui.press('enter')\n",
    "            pyautogui.moveTo(x=a, y=b)\n",
    "        else:\n",
    "            break\n",
    "            \n",
    "    # 清理各种乱七八糟的弹窗\n",
    "    for title in ['提示','买入交易确认','卖出交易确认','输出','请输入验证码']:          \n",
    "        clear_handle = win32gui.FindWindow('#32770',title)\n",
    "        if clear_handle!=0:\n",
    "            win32gui.PostMessage(clear_handle, win32con.WM_CLOSE, 0, 0)\n",
    "            \n",
    "            if title == '请输入验证码': # 外挂检测窗口单独处理一下\n",
    "                time.sleep(0.2)\n",
    "                clear_handle = win32gui.FindWindow('#32770','提示')\n",
    "                win32gui.PostMessage(clear_handle, win32con.WM_CLOSE, 0, 0)\n",
    "    "
   ]
  },
  {
   "cell_type": "markdown",
   "id": "9fe7491a",
   "metadata": {},
   "source": [
    "# 寻找子窗口句柄函数"
   ]
  },
  {
   "cell_type": "code",
   "execution_count": null,
   "id": "131ef0e9",
   "metadata": {},
   "outputs": [],
   "source": [
    "def find_brother_Handle(pHandle, winClass, index=0):\n",
    "    \"\"\"\n",
    "    已知子窗口的窗体类名\n",
    "    寻找第index号个同类型的兄弟窗口\n",
    "    \"\"\"\n",
    "    assert type(index) == int and index >= 0\n",
    "    handle = win32gui.FindWindowEx(pHandle, 0, winClass, None)\n",
    "    while index > 0:\n",
    "        handle = win32gui.FindWindowEx(pHandle, handle, winClass, None)\n",
    "        index -= 1\n",
    "    return handle"
   ]
  },
  {
   "cell_type": "markdown",
   "id": "3c3e4465",
   "metadata": {},
   "source": [
    "# 交易确认函数"
   ]
  },
  {
   "cell_type": "code",
   "execution_count": null,
   "id": "0a2acf8f",
   "metadata": {},
   "outputs": [],
   "source": [
    "def tips():\n",
    "    Handle_tips = win32gui.FindWindow('#32770','提示')\n",
    "    Handle_tips_message = find_brother_Handle(Handle_tips,'Static',1)\n",
    "    Handle_tips_yes = find_brother_Handle(Handle_tips,'Button',0)\n",
    "    # print('提示3句柄：',Handle_tips,Handle_tips_message,Handle_tips_yes)\n",
    "    message = win32gui.GetWindowText(Handle_tips_message)\n",
    "    if Handle_tips!=0 and Handle_tips_message!=0 and Handle_tips_yes!=0:\n",
    "        win32gui.PostMessage(Handle_tips_yes, win32con.WM_LBUTTONDOWN, win32con.MK_LBUTTON, 0)\n",
    "        win32gui.PostMessage(Handle_tips_yes, win32con.WM_LBUTTONDOWN, win32con.MK_LBUTTON, 0)\n",
    "        win32gui.PostMessage(Handle_tips_yes, win32con.WM_LBUTTONUP, win32con.MK_LBUTTON, 0)\n",
    "        return message\n",
    "    else:\n",
    "        return '提示窗口不存在'\n",
    "\n",
    "\n",
    "def confirm(buyORsell='买入',operate_keyword = 'no'):\n",
    "    Handle_confirm = win32gui.FindWindow('#32770',buyORsell+'交易确认')\n",
    "    Handle_confirm_message = find_brother_Handle(Handle_confirm,'Static',1)\n",
    "    Handle_confirm_yes = find_brother_Handle(Handle_confirm,'Button',0)\n",
    "    Handle_confirm_no  = find_brother_Handle(Handle_confirm,'Button',1)\n",
    "    # print(buyORsell+'确认4句柄：',Handle_confirm,Handle_confirm_message,Handle_confirm_yes,Handle_confirm_no)\n",
    "    if operate_keyword == 'no':\n",
    "        operate = Handle_confirm_no\n",
    "    elif operate_keyword == 'yes':\n",
    "        operate = Handle_confirm_yes\n",
    "    elif operate_keyword == 'message':\n",
    "        return '待补充message操作'\n",
    "    else:\n",
    "        return '输入操作码不对'\n",
    "    \n",
    "    if Handle_confirm!=0 and Handle_confirm_message!=0 and Handle_confirm_yes!=0 and Handle_confirm_no!=0:\n",
    "        win32gui.PostMessage(operate, win32con.WM_LBUTTONDOWN, win32con.MK_LBUTTON, 0)\n",
    "        win32gui.PostMessage(operate, win32con.WM_LBUTTONDOWN, win32con.MK_LBUTTON, 0)\n",
    "        win32gui.PostMessage(operate, win32con.WM_LBUTTONUP, win32con.MK_LBUTTON, 0)\n",
    "        time.sleep(0.5)\n",
    "        contract_id = tips()\n",
    "        return contract_id\n",
    "    else:\n",
    "        return buyORsell+'确认窗口不存在'\n",
    "\n",
    "    "
   ]
  },
  {
   "cell_type": "markdown",
   "id": "0e427ef8",
   "metadata": {},
   "source": [
    "# 输出确认框"
   ]
  },
  {
   "cell_type": "code",
   "execution_count": null,
   "id": "5d77fe00",
   "metadata": {},
   "outputs": [],
   "source": [
    "def output_confirm(path):\n",
    "    Handle_withdraw = win32gui.FindWindow('#32770','输出')\n",
    "    out_as_txt = find_brother_Handle(Handle_withdraw,'Button',0)\n",
    "    out_as_txt_path = find_brother_Handle(Handle_withdraw,'Edit',0)\n",
    "    out_yes = find_brother_Handle(Handle_withdraw,'Button',8)\n",
    "    out_no = find_brother_Handle(Handle_withdraw,'Button',9)\n",
    "    if Handle_withdraw!=0 and out_as_txt!=0 and out_as_txt_path!=0 and out_yes!=0 and out_no!=0:\n",
    "        # 选择：输出到Excel表格button\n",
    "        win32gui.PostMessage(out_as_txt, win32con.WM_LBUTTONDOWN, win32con.MK_LBUTTON, 0)\n",
    "        win32gui.PostMessage(out_as_txt, win32con.WM_LBUTTONDOWN, win32con.MK_LBUTTON, 0)\n",
    "        win32gui.PostMessage(out_as_txt, win32con.WM_LBUTTONUP, win32con.MK_LBUTTON, 0)\n",
    "        time.sleep(0.1)\n",
    "        # 填写路径\n",
    "        win32api.SendMessage(out_as_txt_path, win32con.WM_SETTEXT, 0, path)\n",
    "        time.sleep(0.1)\n",
    "        # 点确认\n",
    "        win32gui.PostMessage(out_yes, win32con.WM_LBUTTONDOWN, win32con.MK_LBUTTON, 0)\n",
    "        win32gui.PostMessage(out_yes, win32con.WM_LBUTTONDOWN, win32con.MK_LBUTTON, 0)\n",
    "        win32gui.PostMessage(out_yes, win32con.WM_LBUTTONUP, win32con.MK_LBUTTON, 0)\n",
    "        time.sleep(0.1)\n",
    "        return '文件已经输出'\n",
    "    else:\n",
    "        return '当前无法输出文件'\n",
    "        \n"
   ]
  },
  {
   "cell_type": "markdown",
   "id": "15b96dee",
   "metadata": {},
   "source": [
    "# 买入卖出鼠标操作函数"
   ]
  },
  {
   "cell_type": "code",
   "execution_count": null,
   "id": "91cb02de",
   "metadata": {},
   "outputs": [],
   "source": [
    "# 填入股票代码后可能由于网络不好而没来得及刷新\n",
    "def buy(code,price,amount,t=0.01,max_try = 3):\n",
    "    for times in range(max_try):\n",
    "        initiallize()\n",
    "        a, b = pyautogui.position() # 保存鼠标的当前坐标\n",
    "        pyautogui.click(p(232, 41)) # 左击买\n",
    "        pyautogui.moveTo(x=a, y=b)  # 鼠标返回原先位置\n",
    "        pyautogui.typewrite(message=str(code), interval=t)\n",
    "        time.sleep(t*10)\n",
    "        h = click_it(321, 133, click=False) # 价格输入窗\n",
    "        if len(str(price)) > 0:\n",
    "            win32api.SendMessage(h, win32con.WM_SETTEXT, 0, str(price))\n",
    "        time.sleep(t)\n",
    "        h = click_it(317, 208, click=False) # 数量输入窗\n",
    "        win32api.SendMessage(h, win32con.WM_SETTEXT, 0, str(amount))\n",
    "        time.sleep(t)\n",
    "        h = click_it(363, 233, click=True) # 下单按钮\n",
    "        time.sleep(t*3)\n",
    "        message=confirm('买入','yes')\n",
    "        result=re.search('合同号是(.*?)$', message)\n",
    "\n",
    "        if result:\n",
    "            return result.group(1)\n",
    "        else:\n",
    "            logger.info(f'尝试第{times}次。|{message} ')\n",
    "            time.sleep(1)\n",
    "    # 发送邮件\n",
    "    send_email(message,'买入错误')\n",
    "    \n",
    "    \n",
    "    \n",
    "def sell(code,price,amount,t=0.01,max_try = 3):\n",
    "    for times in range(max_try):\n",
    "        initiallize()\n",
    "        a, b = pyautogui.position() # 保存鼠标的当前坐标\n",
    "        pyautogui.click(p(264, 41)) # 左击卖\n",
    "        time.sleep(t)\n",
    "        pyautogui.moveTo(x=a, y=b)  # 鼠标返回原先位置\n",
    "        time.sleep(0.6)\n",
    "        pyautogui.typewrite(message=str(code), interval=t)\n",
    "        time.sleep(t)\n",
    "        h = click_it(300, 135, click=False) # 价格输入窗\n",
    "        if len(str(price)) > 0:\n",
    "            win32api.SendMessage(h, win32con.WM_SETTEXT, 0, str(price))\n",
    "        time.sleep(t)\n",
    "        h = click_it(293, 194, click=False) # 数量输入窗\n",
    "        win32api.SendMessage(h, win32con.WM_SETTEXT, 0, str(amount))\n",
    "        time.sleep(t)\n",
    "        h = click_it(367, 217, click=True) # 下单按钮\n",
    "        time.sleep(t*10)\n",
    "        message=confirm('卖出','yes')\n",
    "        result=re.search('合同号是(.*?)$', message)\n",
    "        if result:\n",
    "            return result.group(1)\n",
    "        else:\n",
    "            logger.info(f'尝试第{times}次。|{message} ')\n",
    "            time.sleep(1)\n",
    "    # 发送邮件\n",
    "    send_email(message,'卖出错误')"
   ]
  },
  {
   "cell_type": "markdown",
   "id": "6a2bda06",
   "metadata": {},
   "source": [
    "# 撤单函数"
   ]
  },
  {
   "cell_type": "code",
   "execution_count": null,
   "id": "a3cc6d09",
   "metadata": {},
   "outputs": [],
   "source": [
    "def withdraw(contract_id, max_try=3):\n",
    "    for times in range(max_try):\n",
    "        initiallize()\n",
    "        # a, b = pyautogui.position() # 保存鼠标的当前坐标\n",
    "        click_it(296, 41) # 左击撤单\n",
    "        time.sleep(0.2)\n",
    "        click_it(604, 68) # 左击输出\n",
    "        time.sleep(0.2)\n",
    "        # pyautogui.moveTo(x=a, y=b)\n",
    "        path = r'C:\\Users\\Administrator\\Desktop\\temporary.txt'\n",
    "\n",
    "        message = output_confirm(path)\n",
    "        if message == '当前无法输出文件':\n",
    "            logger.info(f'尝试第{times}次。| {message}')\n",
    "        else:\n",
    "            df=pd.read_table(path, encoding='gbk',sep='\\s+',skiprows=1)\n",
    "            nrows=df.shape[0] # 获取总行数\n",
    "\n",
    "            time.sleep(0.1)\n",
    "            txt_handle = win32gui.FindWindow('Notepad', 'temporary.txt - 记事本')\n",
    "            win32gui.PostMessage(txt_handle, win32con.WM_CLOSE, 0, 0)\n",
    "            os.remove(path) # 删除临时txt文件\n",
    "            time.sleep(0.1)\n",
    "\n",
    "            for i in range(0,nrows):\n",
    "                cell = str(df.iloc[i,2]) # 把该列第i个单元格转化为字符串，目的是下一步的关键字比对\n",
    "                if cell == contract_id: # 进行关键字比对，包含关键字返回1，否则返回0\n",
    "                    pyautogui.doubleClick(435, 111+17*i)\n",
    "                    time.sleep(0.25)\n",
    "                    tips()\n",
    "                    time.sleep(0.25)\n",
    "                    tips()\n",
    "                    time.sleep(0.25)\n",
    "                    message = '撤单成功'\n",
    "                    return message\n",
    "            else:\n",
    "                message = '撤单列表里没有匹配的合同号'\n",
    "                logger.info(f'尝试第{times}次。| {message}')\n",
    "                time.sleep(1)\n",
    "    # 发送邮件\n",
    "    send_email(message,'撤单错误')\n",
    "    \n"
   ]
  },
  {
   "cell_type": "markdown",
   "id": "747a4c76",
   "metadata": {},
   "source": [
    "# 获取可用资金"
   ]
  },
  {
   "cell_type": "code",
   "execution_count": null,
   "id": "f58092ba",
   "metadata": {},
   "outputs": [],
   "source": [
    "# 买入标签卡中输入股票代码查询\n",
    "def unUsed_captical(max_try=3):\n",
    "    for times in range(max_try):\n",
    "        try:\n",
    "            t = 0.01\n",
    "            initiallize()\n",
    "            a, b = pyautogui.position() # 保存鼠标的当前坐标\n",
    "            pyautogui.click(p(232, 41)) # 左击买\n",
    "            pyautogui.moveTo(x=a, y=b)  # 鼠标返回原先位置\n",
    "            pyautogui.typewrite(message='600002', interval=t)\n",
    "            time.sleep(t*25)\n",
    "            h = click_it(300, 153, click=False) # 可用资金窗\n",
    "            money = win32gui.GetWindowText(h)\n",
    "            if money:\n",
    "                return float(money)\n",
    "            else:\n",
    "                logger.info(f'尝试第{times}次。| 获取不到可用资金')\n",
    "                time.sleep(1)\n",
    "        except Exception as e:\n",
    "            logger.info(f'尝试第{times}次。| {e}')\n",
    "    \n",
    "    # 发送邮件\n",
    "    send_email('获取不到可用资金','获取可用资金错误')"
   ]
  },
  {
   "cell_type": "raw",
   "id": "de12317c",
   "metadata": {},
   "source": [
    "# 持仓标签卡中输出文件查询\n",
    "def unUsed_captical():\n",
    "    initiallize()\n",
    "    click_it(361, 41) # 左击持仓\n",
    "    time.sleep(1)\n",
    "    click_it(605, 124) # 左击输出\n",
    "    time.sleep(0.2)\n",
    "    path = r'C:\\Users\\Administrator\\Desktop\\temporary.txt'\n",
    "    output_confirm(path)\n",
    "    time.sleep(0.2)\n",
    "    with open(path, \"r\") as f:\n",
    "        data = f.readline()\n",
    "    money = re.findall(\"\\s可用:(.*?)\\s\",data)[0]\n",
    "    money = float(money)\n",
    "    time.sleep(0.1)\n",
    "    txt_handle = win32gui.FindWindow('Notepad', 'temporary.txt - 记事本')\n",
    "    win32gui.PostMessage(txt_handle, win32con.WM_CLOSE, 0, 0) # 关闭临时txt文件\n",
    "    os.remove(path) # 删除临时txt文件\n",
    "    time.sleep(0.1) \n",
    "    return money"
   ]
  },
  {
   "cell_type": "markdown",
   "id": "3f1a4c97",
   "metadata": {},
   "source": [
    "# 获取持仓"
   ]
  },
  {
   "cell_type": "code",
   "execution_count": null,
   "id": "15c8d552",
   "metadata": {},
   "outputs": [],
   "source": [
    "def stock_hold(max_try=3):\n",
    "    for times in range(max_try):\n",
    "        initiallize()\n",
    "        click_it(361, 41) # 左击持仓\n",
    "        time.sleep(1.5)\n",
    "        click_it(605, 124) # 左击输出\n",
    "        time.sleep(0.1)\n",
    "        path = r'C:\\Users\\Administrator\\Desktop\\temporary.txt'\n",
    "        message = output_confirm(path)\n",
    "        time.sleep(0.1)\n",
    "        if message == '当前无法输出文件':\n",
    "            logger.info(f'尝试第{times}次。| {message}')\n",
    "        else:\n",
    "            time.sleep(0.1)\n",
    "            txt_handle = win32gui.FindWindow('Notepad', 'temporary.txt - 记事本')\n",
    "            time.sleep(0.1)\n",
    "            win32gui.PostMessage(txt_handle, win32con.WM_CLOSE, 0, 0) # 关闭临时txt文件\n",
    "            time.sleep(0.1)\n",
    "            df = pd.read_table(path, encoding='gbk', sep='\\s\\s+',skiprows=2)\n",
    "            time.sleep(0.1)\n",
    "            os.remove(path) # 删除临时txt文件\n",
    "            time.sleep(0.1)\n",
    "            if pd.isnull(df.iloc[0,1]):\n",
    "                return f'持仓：{df.iloc[0,0]}'\n",
    "            else:\n",
    "                return df\n",
    "    # 发送邮件\n",
    "    send_email(message,'获取持仓错误')"
   ]
  },
  {
   "cell_type": "markdown",
   "id": "89e859ed",
   "metadata": {},
   "source": [
    "# 撤单后查询当日委托"
   ]
  },
  {
   "cell_type": "code",
   "execution_count": null,
   "id": "a9cac717",
   "metadata": {},
   "outputs": [],
   "source": []
  },
  {
   "cell_type": "markdown",
   "id": "93ac95c8",
   "metadata": {},
   "source": [
    "# 查看今日成交"
   ]
  },
  {
   "cell_type": "code",
   "execution_count": null,
   "id": "10bb5070",
   "metadata": {},
   "outputs": [],
   "source": []
  },
  {
   "cell_type": "code",
   "execution_count": null,
   "id": "c5a40db9",
   "metadata": {},
   "outputs": [],
   "source": [
    "buy('600000','9.00',100)"
   ]
  },
  {
   "cell_type": "code",
   "execution_count": null,
   "id": "929bedff",
   "metadata": {},
   "outputs": [],
   "source": [
    "sell('600000','',100)"
   ]
  },
  {
   "cell_type": "code",
   "execution_count": null,
   "id": "c7d133f7",
   "metadata": {},
   "outputs": [],
   "source": [
    "withdraw('O2110181220130088651')"
   ]
  },
  {
   "cell_type": "code",
   "execution_count": null,
   "id": "0820c629",
   "metadata": {},
   "outputs": [],
   "source": [
    "unUsed_captical()"
   ]
  },
  {
   "cell_type": "code",
   "execution_count": null,
   "id": "36f9abbe",
   "metadata": {},
   "outputs": [],
   "source": [
    "stock_hold()"
   ]
  },
  {
   "cell_type": "raw",
   "id": "dcea8375",
   "metadata": {},
   "source": []
  },
  {
   "cell_type": "raw",
   "id": "81b6230e",
   "metadata": {},
   "source": []
  },
  {
   "cell_type": "raw",
   "id": "7e18b198",
   "metadata": {},
   "source": []
  },
  {
   "cell_type": "raw",
   "id": "b0c8f1c7",
   "metadata": {},
   "source": []
  }
 ],
 "metadata": {
  "kernelspec": {
   "display_name": "Python 3 (ipykernel)",
   "language": "python",
   "name": "python3"
  },
  "language_info": {
   "codemirror_mode": {
    "name": "ipython",
    "version": 3
   },
   "file_extension": ".py",
   "mimetype": "text/x-python",
   "name": "python",
   "nbconvert_exporter": "python",
   "pygments_lexer": "ipython3",
   "version": "3.7.11"
  }
 },
 "nbformat": 4,
 "nbformat_minor": 5
}
