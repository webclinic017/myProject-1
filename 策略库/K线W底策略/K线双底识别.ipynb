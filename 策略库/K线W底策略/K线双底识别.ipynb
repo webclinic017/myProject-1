{
 "cells": [
  {
   "cell_type": "code",
   "execution_count": 1,
   "id": "5205e73b",
   "metadata": {},
   "outputs": [
    {
     "name": "stdout",
     "output_type": "stream",
     "text": [
      "本接口即将停止更新，请尽快使用Pro版接口：https://waditu.com/document/2\n"
     ]
    }
   ],
   "source": [
    "import pandas as pd\n",
    "import numpy as np\n",
    "from decimal import Decimal, ROUND_HALF_UP\n",
    "import tushare as ts\n",
    "pd.set_option('display.max_rows', 50000)  # 最多显示数据的行数\n",
    "code_list = ['600619']\n",
    "for i in code_list:\n",
    "    df = ts.get_k_data(i, ktype='D', start='2011-19-27', end='2021-10-13')\n",
    "df['ma_short'] = df['close'].rolling(5, min_periods=1).mean()"
   ]
  },
  {
   "cell_type": "code",
   "execution_count": 24,
   "id": "cd4185a9",
   "metadata": {
    "scrolled": true
   },
   "outputs": [
    {
     "name": "stderr",
     "output_type": "stream",
     "text": [
      "c:\\anaconda3\\envs\\py37\\lib\\site-packages\\ipykernel_launcher.py:1: FutureWarning: As the xlwt package is no longer maintained, the xlwt engine will be removed in a future version of pandas. This is the only engine in pandas that supports writing in the xls format. Install openpyxl and write to an xlsx file instead. You can set the option io.excel.xls.writer to 'xlwt' to silence this warning. While this option is deprecated and will also raise a warning, it can be globally set and the warning suppressed.\n",
      "  \"\"\"Entry point for launching an IPython kernel.\n"
     ]
    }
   ],
   "source": [
    "df.to_excel('temp.xls')"
   ]
  },
  {
   "cell_type": "code",
   "execution_count": 2,
   "id": "946274e6",
   "metadata": {},
   "outputs": [],
   "source": [
    "para = 10\n",
    "half = int(para/2)\n",
    "# df['left_min']=df['low'].shift(half).rolling(half,min_periods=1).min()\n",
    "# df['right_min']=df['low'].rolling(half,min_periods=1).min()\n",
    "df.reset_index(inplace=True,drop=True)\n",
    "df['left_min'] = np.nan\n",
    "df['right_min'] = np.nan\n",
    "df['left_min_index'] = np.nan\n",
    "df['right_min_index'] = np.nan\n",
    "df['middle_low_max'] = np.nan\n",
    "df['middle_high_max'] = np.nan\n"
   ]
  },
  {
   "cell_type": "code",
   "execution_count": null,
   "id": "8cf6a6a6",
   "metadata": {},
   "outputs": [],
   "source": [
    "for i in range(para-1,df.shape[0]):\n",
    "    up = int(i-half)\n",
    "    down = int(i-half+1)\n",
    "    left_min_index = up\n",
    "    right_min_index = down\n",
    "    left_min_value = df.iat[up,4]\n",
    "    right_min_value = df.iat[down,4]\n",
    "\n",
    "    for step in range(half-1):\n",
    "        up-=1\n",
    "        if df.iat[up,4] < left_min_value:\n",
    "            left_min_value = df.iat[up,4]\n",
    "            left_min_index = up\n",
    "        else:\n",
    "            pass\n",
    "\n",
    "        down+=1\n",
    "        if df.iat[down,4] < right_min_value:\n",
    "            right_min_value = df.iat[down,4]\n",
    "            right_min_index = down\n",
    "        else:\n",
    "            pass\n",
    "    \n",
    "    df.loc[i,'left_min'] = left_min_value\n",
    "    df.loc[i,'right_min'] = right_min_value\n",
    "    df.loc[i,'left_min_index'] = left_min_index\n",
    "    df.loc[i,'right_min_index'] = right_min_index\n",
    "    df.loc[i,'middle_low_max'] = df.iloc[left_min_index+1:right_min_index,4].max() # middle_low_max\n",
    "    df.loc[i,'middle_high_max'] = df.iloc[left_min_index+1:right_min_index,3].max() # middle_high_max\n"
   ]
  },
  {
   "cell_type": "raw",
   "id": "897e8466",
   "metadata": {},
   "source": [
    "df['ma_10'] = df['close'].rolling(10, min_periods=1).mean()"
   ]
  },
  {
   "cell_type": "code",
   "execution_count": null,
   "id": "2cbd21f7",
   "metadata": {
    "scrolled": false
   },
   "outputs": [],
   "source": [
    "df['low_x_days_ago'] = df['low'].shift(int(1.5 * para))\n",
    "df.tail(100)"
   ]
  },
  {
   "cell_type": "code",
   "execution_count": null,
   "id": "e8cad7a1",
   "metadata": {},
   "outputs": [],
   "source": []
  },
  {
   "cell_type": "code",
   "execution_count": null,
   "id": "755a7355",
   "metadata": {},
   "outputs": [],
   "source": [
    "fund_condition1 = df['left_min'] < df['middle_low_max']\n",
    "fund_condition2 = df['right_min'] < df['middle_low_max']\n",
    "condition1 = df['low_x_days_ago'] > df['middle_high_max']\n",
    "condition2 = df['close'] > df.iloc[left_min_index+1:right_min_index,4].max()\n",
    "condition3 = df['close'] > df['middle_high_max']"
   ]
  },
  {
   "cell_type": "code",
   "execution_count": null,
   "id": "939bd932",
   "metadata": {},
   "outputs": [],
   "source": [
    "print(df[fund_condition1].shape[0])\n",
    "print(df[fund_condition1 & fund_condition2].shape[0])\n",
    "print(df[fund_condition1 & fund_condition2 & fund_condition3].shape[0])\n",
    "print(df[fund_condition1 & fund_condition2 & fund_condition4].shape[0])\n",
    "print(df[fund_condition1 & fund_condition2 & condition1].shape[0])\n",
    "print(df[fund_condition1 & fund_condition2 & condition1 & condition2].shape[0])\n",
    "print(df[fund_condition1 & fund_condition2 & condition1 & condition2 & condition3].shape[0])"
   ]
  },
  {
   "cell_type": "code",
   "execution_count": null,
   "id": "3a301606",
   "metadata": {
    "scrolled": true
   },
   "outputs": [],
   "source": [
    "df.loc[(fund_condition1 & fund_condition2 & condition1 & condition3),'signal'] = 1\n",
    "df[df['signal']==1]"
   ]
  },
  {
   "cell_type": "code",
   "execution_count": null,
   "id": "1ae56350",
   "metadata": {},
   "outputs": [],
   "source": [
    "position_at_close(df)"
   ]
  },
  {
   "cell_type": "raw",
   "id": "566e32d6",
   "metadata": {},
   "source": [
    "df.to_excel('./新建excel文档.xls')"
   ]
  },
  {
   "cell_type": "raw",
   "id": "ada0b95c",
   "metadata": {},
   "source": [
    "df"
   ]
  },
  {
   "cell_type": "raw",
   "id": "70bb2341",
   "metadata": {},
   "source": [
    "df.iloc[2017:2020,:]"
   ]
  },
  {
   "cell_type": "raw",
   "id": "7044987f",
   "metadata": {},
   "source": [
    "df['pre_close'] = df['close'].shift(1)"
   ]
  },
  {
   "cell_type": "raw",
   "id": "c944389f",
   "metadata": {},
   "source": [
    "df.tail()"
   ]
  },
  {
   "cell_type": "code",
   "execution_count": null,
   "id": "dbfe4bdf",
   "metadata": {},
   "outputs": [],
   "source": []
  },
  {
   "cell_type": "code",
   "execution_count": null,
   "id": "ee6ed96d",
   "metadata": {},
   "outputs": [],
   "source": [
    "%matplotlib inline\n",
    "import numpy as np\n",
    "import tensorflow as tf\n",
    "import matplotlib.pyplot as plt\n",
    " \n",
    "num_points = 1000\n",
    "vectors_set = []\n",
    "for i in range (num_points):\n",
    "    x1 = np.random.normal (0.0, 0.6)\n",
    "    y1 = x1*0.5+0.3+np.random.normal(0.0,0.3)\n",
    "    vectors_set.append([x1,y1])\n",
    "x_data = [v[0] for v in vectors_set]\n",
    "y_data = [v[1] for v in vectors_set]\n",
    "# display\n",
    "plt.scatter (x_data,y_data, c='r')\n",
    "plt.show"
   ]
  },
  {
   "cell_type": "code",
   "execution_count": null,
   "id": "06b35731",
   "metadata": {},
   "outputs": [],
   "source": []
  },
  {
   "cell_type": "code",
   "execution_count": null,
   "id": "b7b5bed5",
   "metadata": {},
   "outputs": [],
   "source": [
    "# 在返回（-1, 1）范围内的等差序列，生成200个数字\n",
    "X = np.linspace(-1, 1, 200)\n",
    "  \n",
    "# 打乱顺序\n",
    "np.random.shuffle(X) \n",
    "\n",
    "# 生成Y并添加噪声\n",
    "Y = 0.5 * X + 2 + np.random.normal(0, 0.05, 200)\n",
    "\n",
    "# 画图\n",
    "\n",
    "plt.scatter(X, Y)\n",
    "plt.show()"
   ]
  },
  {
   "cell_type": "code",
   "execution_count": null,
   "id": "b56b6b36",
   "metadata": {},
   "outputs": [],
   "source": [
    "y = np.array([9.01,9.02,9.03,9.08,8.01,8.0,8.03,7.94])\n",
    "x = np.array([1,1,1,1,2,2,2,2])\n",
    "plt.scatter(x, y)\n",
    "plt.show()"
   ]
  },
  {
   "cell_type": "code",
   "execution_count": null,
   "id": "b382be55",
   "metadata": {},
   "outputs": [],
   "source": [
    "model = tf.keras.Sequential([\n",
    "    tf.keras.layers.Dense(units=1, input_shape=[1])\n",
    "])\n",
    "\n",
    "model.compile(loss='mean_squared_error',\n",
    "              optimizer=tf.keras.optimizers.Adam(0.1))\n",
    "history = model.fit(x, y, epochs=100, verbose=1)\n",
    "\n",
    "# 画出损失函数的图\n",
    "plt.xlabel(\"Epoch Number\")\n",
    "plt.ylabel(\"Loss Magnidute\")\n",
    "plt.plot(history.history['loss'])\n",
    "plt.show()"
   ]
  },
  {
   "cell_type": "code",
   "execution_count": null,
   "id": "13a8ce64",
   "metadata": {},
   "outputs": [],
   "source": []
  },
  {
   "cell_type": "code",
   "execution_count": null,
   "id": "2ac86cad",
   "metadata": {},
   "outputs": [],
   "source": [
    "# 测试\n",
    "lost = model.evaluate(x, y, batch_size=1, verbose=0)\n",
    "print('test lost:', lost)\n",
    "\n",
    "# 将训练结果绘出\n",
    "Y_pred = model.predict(x)\n",
    "plt.scatter(x, y)\n",
    "plt.plot(x, y)\n",
    "plt.show()"
   ]
  },
  {
   "cell_type": "code",
   "execution_count": null,
   "id": "32c80bfa",
   "metadata": {},
   "outputs": [],
   "source": [
    "W, b = model.layers[0].get_weights()\n",
    "print('Weights=', W, '\\nbiases=', b)"
   ]
  },
  {
   "cell_type": "code",
   "execution_count": 1,
   "id": "17bb9410",
   "metadata": {},
   "outputs": [
    {
     "name": "stdout",
     "output_type": "stream",
     "text": [
      "step: 50, loss: 0.138827, W: 0.392687, b: -0.201195\n",
      "step: 100, loss: 0.131748, W: 0.384376, b: -0.142275\n",
      "step: 150, loss: 0.125478, W: 0.376555, b: -0.086825\n",
      "step: 200, loss: 0.119926, W: 0.369195, b: -0.034643\n",
      "step: 250, loss: 0.115008, W: 0.362268, b: 0.014464\n",
      "step: 300, loss: 0.110653, W: 0.355749, b: 0.060678\n",
      "step: 350, loss: 0.106796, W: 0.349615, b: 0.104169\n",
      "step: 400, loss: 0.103380, W: 0.343842, b: 0.145098\n",
      "step: 450, loss: 0.100355, W: 0.338409, b: 0.183615\n",
      "step: 500, loss: 0.097676, W: 0.333296, b: 0.219862\n",
      "step: 550, loss: 0.095303, W: 0.328484, b: 0.253974\n",
      "step: 600, loss: 0.093201, W: 0.323956, b: 0.286076\n",
      "step: 650, loss: 0.091340, W: 0.319695, b: 0.316286\n",
      "step: 700, loss: 0.089692, W: 0.315685, b: 0.344716\n",
      "step: 750, loss: 0.088232, W: 0.311911, b: 0.371472\n",
      "step: 800, loss: 0.086939, W: 0.308359, b: 0.396650\n",
      "step: 850, loss: 0.085795, W: 0.305017, b: 0.420346\n",
      "step: 900, loss: 0.084781, W: 0.301872, b: 0.442645\n",
      "step: 950, loss: 0.083883, W: 0.298912, b: 0.463630\n",
      "step: 1000, loss: 0.083087, W: 0.296126, b: 0.483378\n"
     ]
    },
    {
     "data": {
      "image/png": "[encoded data removed]",
      "text/plain": [
       "<Figure size 432x288 with 1 Axes>"
      ]
     },
     "metadata": {
      "needs_background": "light"
     },
     "output_type": "display_data"
    }
   ],
   "source": [
    "from __future__ import absolute_import, division, print_function\n",
    "import tensorflow as tf\n",
    "import numpy as np\n",
    "import matplotlib.pyplot as plt\n",
    "\n",
    "\n",
    "# 学习率\n",
    "learning_rate = 0.01\n",
    "\n",
    "# 迭代次数\n",
    "training_steps = 1000\n",
    "\n",
    "display_step = 50\n",
    "\n",
    "# 训练数据\n",
    "X = np.array([3.3,4.4,5.5,6.71,6.93,4.168,9.779,6.182,7.59,2.167,\n",
    "              7.042,10.791,5.313,7.997,5.654,9.27,3.1])\n",
    "Y = np.array([1.7,2.76,2.09,3.19,1.694,1.573,3.366,2.596,2.53,1.221,\n",
    "              2.827,3.465,1.65,2.904,2.42,2.94,1.3])\n",
    "\n",
    "#  取出数组X的长度\n",
    "n_samples = X.shape[0]\n",
    "\n",
    "# 随机初始化权重，偏置\n",
    "W = tf.Variable(np.random.randn(), name=\"weight\")\n",
    "b = tf.Variable(np.random.randn(), name=\"bias\")\n",
    "\n",
    "\n",
    "# 线性回归(Wx+b)\n",
    "def linear_regression(x):\n",
    "    return W * x + b\n",
    "\n",
    "\n",
    "# 均方差\n",
    "def mean_square(y_pred,y_true):\n",
    "    return tf.reduce_sum(tf.pow(y_pred - y_true, 2)) / (2 * n_samples)\n",
    "\n",
    "\n",
    "# 随机梯度下降优化器\n",
    "optimizer = tf.optimizers.SGD(learning_rate)\n",
    "\n",
    "\n",
    "# 优化过程\n",
    "def run_optimization():\n",
    "    # 将计算封装在GradientTape中以实现自动微分\n",
    "    with tf.GradientTape() as g:\n",
    "        pred = linear_regression(X)\n",
    "        loss = mean_square(pred, Y)\n",
    "\n",
    "    # 计算梯度\n",
    "    # print(\"loss is \", loss)\n",
    "    gradients = g.gradient(loss, [W, b])\n",
    "\n",
    "    # 按gradients更新 W 和 b\n",
    "    optimizer.apply_gradients(zip(gradients, [W, b]))\n",
    "\n",
    "\n",
    "# 针对给定训练步骤数开始训练\n",
    "for step in range(1, training_steps + 1):\n",
    "    # 运行优化以更新W和b值\n",
    "    run_optimization()\n",
    "\n",
    "    if step % display_step == 0:\n",
    "        pred = linear_regression(X)\n",
    "        loss = mean_square(pred, Y)\n",
    "        print(\"step: %i, loss: %f, W: %f, b: %f\" % (step, loss, W.numpy(), b.numpy()))\n",
    "\n",
    "# 绘制图\n",
    "plt.plot(X, Y, 'ro', label='Original data')\n",
    "plt.plot(X, np.array(W * X + b), label='Fitted line')\n",
    "plt.legend()\n",
    "plt.show()\n"
   ]
  },
  {
   "cell_type": "code",
   "execution_count": 6,
   "id": "8c381159",
   "metadata": {},
   "outputs": [
    {
     "name": "stdout",
     "output_type": "stream",
     "text": [
      "Weights= tf.Tensor(0.29612616, shape=(), dtype=float32) \n",
      "biases= tf.Tensor(0.4833785, shape=(), dtype=float32)\n"
     ]
    }
   ],
   "source": [
    "\n",
    "print('Weights=', W.value(), '\\nbiases=', b.value())"
   ]
  },
  {
   "cell_type": "code",
   "execution_count": 49,
   "id": "fa86685e",
   "metadata": {},
   "outputs": [],
   "source": [
    "l1=[9.95,9.88,9.97,9.76,\n",
    "9.88,9.9,9.92,9.84,\n",
    "9.8,9.81,9.86,9.65,\n",
    "9.76,9.69,9.8,9.66,\n",
    "9.62,9.66,9.75,9.62,\n",
    "9.65,9.58,9.66,9.51,\n",
    "9.9,10.09,10.19,9.86,\n",
    "10.01,9.89,10.02,9.82,\n",
    "9.94,9.93,9.96,9.83,\n",
    "9.91,10.05,10.44,9.86,\n",
    "9.96,9.78,9.96,9.62,\n",
    "9.72,9.56,9.78,9.47,\n",
    "9.58,9.26,9.64,9.25,\n",
    "9.22,9.26,9.28,9.14,\n",
    "9.2,9.23,9.25,9.16,\n",
    "9.28,9.23,9.34,9.18,\n",
    "9.17,8.81,9.17,8.75,\n",
    "8.86,8.76,8.86,8.76,\n",
    "8.83,8.49,8.91,8.49,\n",
    "8.42,8.47,8.59,8.42,\n",
    "8.46,8.32,8.56,8.3,\n",
    "8.38,8.22,8.4,8.21,\n",
    "8.15,8.46,8.49,8.03]\n",
    "for i in range(len(l1)):\n",
    "    l1[i] -= 8.20\n",
    "\n",
    "l2=[]\n",
    "for i in range(23):\n",
    "    l2.append(i+1)\n",
    "    l2.append(i+1)\n",
    "    l2.append(i+1)\n",
    "    l2.append(i+1)"
   ]
  },
  {
   "cell_type": "code",
   "execution_count": 50,
   "id": "7d00bda2",
   "metadata": {},
   "outputs": [],
   "source": [
    "x = np.array(l2)\n",
    "y = np.array(l1)"
   ]
  },
  {
   "cell_type": "code",
   "execution_count": 51,
   "id": "62cea4e5",
   "metadata": {},
   "outputs": [
    {
     "data": {
      "image/png": "[encoded data removed]",
      "text/plain": [
       "<Figure size 432x288 with 1 Axes>"
      ]
     },
     "metadata": {
      "needs_background": "light"
     },
     "output_type": "display_data"
    }
   ],
   "source": [
    "plt.scatter(x, y)\n",
    "plt.show()"
   ]
  },
  {
   "cell_type": "code",
   "execution_count": 52,
   "id": "6046da29",
   "metadata": {},
   "outputs": [
    {
     "name": "stdout",
     "output_type": "stream",
     "text": [
      "step: 50, loss: 0.259307, W: 0.002577, b: 0.732581\n",
      "step: 100, loss: 0.211433, W: -0.001401, b: 0.882483\n",
      "step: 150, loss: 0.175871, W: -0.009891, b: 1.015559\n",
      "step: 200, loss: 0.147711, W: -0.017459, b: 1.133979\n",
      "step: 250, loss: 0.125412, W: -0.024194, b: 1.239356\n",
      "step: 300, loss: 0.107755, W: -0.030186, b: 1.333129\n",
      "step: 350, loss: 0.093772, W: -0.035519, b: 1.416573\n",
      "step: 400, loss: 0.082700, W: -0.040265, b: 1.490828\n",
      "step: 450, loss: 0.073932, W: -0.044488, b: 1.556905\n",
      "step: 500, loss: 0.066989, W: -0.048246, b: 1.615705\n",
      "step: 550, loss: 0.061491, W: -0.051590, b: 1.668029\n",
      "step: 600, loss: 0.057138, W: -0.054565, b: 1.714591\n",
      "step: 650, loss: 0.053690, W: -0.057213, b: 1.756024\n",
      "step: 700, loss: 0.050961, W: -0.059570, b: 1.792895\n",
      "step: 750, loss: 0.048799, W: -0.061667, b: 1.825705\n",
      "step: 800, loss: 0.047087, W: -0.063533, b: 1.854902\n",
      "step: 850, loss: 0.045732, W: -0.065193, b: 1.880883\n",
      "step: 900, loss: 0.044658, W: -0.066670, b: 1.904002\n",
      "step: 950, loss: 0.043808, W: -0.067985, b: 1.924576\n",
      "step: 1000, loss: 0.043135, W: -0.069155, b: 1.942884\n",
      "step: 1050, loss: 0.042602, W: -0.070197, b: 1.959175\n",
      "step: 1100, loss: 0.042180, W: -0.071123, b: 1.973673\n",
      "step: 1150, loss: 0.041846, W: -0.071948, b: 1.986574\n",
      "step: 1200, loss: 0.041581, W: -0.072681, b: 1.998053\n",
      "step: 1250, loss: 0.041372, W: -0.073334, b: 2.008269\n",
      "step: 1300, loss: 0.041206, W: -0.073915, b: 2.017359\n",
      "step: 1350, loss: 0.041074, W: -0.074432, b: 2.025449\n",
      "step: 1400, loss: 0.040970, W: -0.074892, b: 2.032648\n",
      "step: 1450, loss: 0.040888, W: -0.075301, b: 2.039053\n",
      "step: 1500, loss: 0.040823, W: -0.075666, b: 2.044753\n",
      "step: 1550, loss: 0.040771, W: -0.075990, b: 2.049826\n",
      "step: 1600, loss: 0.040730, W: -0.076278, b: 2.054340\n",
      "step: 1650, loss: 0.040698, W: -0.076535, b: 2.058357\n",
      "step: 1700, loss: 0.040672, W: -0.076764, b: 2.061931\n",
      "step: 1750, loss: 0.040652, W: -0.076967, b: 2.065112\n",
      "step: 1800, loss: 0.040636, W: -0.077148, b: 2.067942\n",
      "step: 1850, loss: 0.040623, W: -0.077309, b: 2.070460\n",
      "step: 1900, loss: 0.040613, W: -0.077452, b: 2.072701\n",
      "step: 1950, loss: 0.040605, W: -0.077579, b: 2.074695\n",
      "step: 2000, loss: 0.040598, W: -0.077693, b: 2.076471\n",
      "step: 2050, loss: 0.040593, W: -0.077794, b: 2.078050\n",
      "step: 2100, loss: 0.040590, W: -0.077884, b: 2.079456\n",
      "step: 2150, loss: 0.040586, W: -0.077963, b: 2.080706\n",
      "step: 2200, loss: 0.040584, W: -0.078035, b: 2.081819\n",
      "step: 2250, loss: 0.040582, W: -0.078098, b: 2.082809\n",
      "step: 2300, loss: 0.040580, W: -0.078154, b: 2.083690\n",
      "step: 2350, loss: 0.040579, W: -0.078204, b: 2.084474\n",
      "step: 2400, loss: 0.040578, W: -0.078249, b: 2.085172\n",
      "step: 2450, loss: 0.040577, W: -0.078289, b: 2.085793\n",
      "step: 2500, loss: 0.040577, W: -0.078324, b: 2.086345\n",
      "step: 2550, loss: 0.040576, W: -0.078355, b: 2.086837\n",
      "step: 2600, loss: 0.040576, W: -0.078383, b: 2.087275\n",
      "step: 2650, loss: 0.040576, W: -0.078408, b: 2.087664\n",
      "step: 2700, loss: 0.040575, W: -0.078430, b: 2.088010\n",
      "step: 2750, loss: 0.040575, W: -0.078450, b: 2.088318\n",
      "step: 2800, loss: 0.040575, W: -0.078467, b: 2.088593\n",
      "step: 2850, loss: 0.040575, W: -0.078483, b: 2.088837\n",
      "step: 2900, loss: 0.040575, W: -0.078497, b: 2.089054\n",
      "step: 2950, loss: 0.040575, W: -0.078509, b: 2.089247\n",
      "step: 3000, loss: 0.040575, W: -0.078520, b: 2.089419\n",
      "step: 3050, loss: 0.040575, W: -0.078530, b: 2.089572\n",
      "step: 3100, loss: 0.040575, W: -0.078539, b: 2.089708\n",
      "step: 3150, loss: 0.040575, W: -0.078547, b: 2.089830\n",
      "step: 3200, loss: 0.040575, W: -0.078553, b: 2.089938\n",
      "step: 3250, loss: 0.040574, W: -0.078560, b: 2.090034\n",
      "step: 3300, loss: 0.040574, W: -0.078565, b: 2.090119\n",
      "step: 3350, loss: 0.040574, W: -0.078570, b: 2.090194\n",
      "step: 3400, loss: 0.040574, W: -0.078574, b: 2.090263\n",
      "step: 3450, loss: 0.040574, W: -0.078578, b: 2.090322\n",
      "step: 3500, loss: 0.040574, W: -0.078581, b: 2.090376\n",
      "step: 3550, loss: 0.040574, W: -0.078584, b: 2.090423\n",
      "step: 3600, loss: 0.040574, W: -0.078587, b: 2.090466\n",
      "step: 3650, loss: 0.040574, W: -0.078590, b: 2.090502\n",
      "step: 3700, loss: 0.040574, W: -0.078592, b: 2.090538\n",
      "step: 3750, loss: 0.040574, W: -0.078594, b: 2.090568\n",
      "step: 3800, loss: 0.040574, W: -0.078595, b: 2.090591\n",
      "step: 3850, loss: 0.040574, W: -0.078597, b: 2.090615\n",
      "step: 3900, loss: 0.040574, W: -0.078598, b: 2.090639\n",
      "step: 3950, loss: 0.040574, W: -0.078600, b: 2.090660\n",
      "step: 4000, loss: 0.040574, W: -0.078600, b: 2.090672\n",
      "step: 4050, loss: 0.040574, W: -0.078601, b: 2.090684\n",
      "step: 4100, loss: 0.040574, W: -0.078602, b: 2.090696\n",
      "step: 4150, loss: 0.040574, W: -0.078603, b: 2.090708\n",
      "step: 4200, loss: 0.040574, W: -0.078603, b: 2.090720\n",
      "step: 4250, loss: 0.040574, W: -0.078604, b: 2.090732\n",
      "step: 4300, loss: 0.040574, W: -0.078605, b: 2.090744\n",
      "step: 4350, loss: 0.040574, W: -0.078606, b: 2.090756\n",
      "step: 4400, loss: 0.040574, W: -0.078606, b: 2.090762\n",
      "step: 4450, loss: 0.040574, W: -0.078606, b: 2.090762\n",
      "step: 4500, loss: 0.040574, W: -0.078606, b: 2.090762\n",
      "step: 4550, loss: 0.040574, W: -0.078606, b: 2.090762\n",
      "step: 4600, loss: 0.040574, W: -0.078606, b: 2.090762\n",
      "step: 4650, loss: 0.040574, W: -0.078606, b: 2.090762\n",
      "step: 4700, loss: 0.040574, W: -0.078606, b: 2.090762\n",
      "step: 4750, loss: 0.040574, W: -0.078606, b: 2.090762\n",
      "step: 4800, loss: 0.040574, W: -0.078606, b: 2.090762\n",
      "step: 4850, loss: 0.040574, W: -0.078606, b: 2.090762\n",
      "step: 4900, loss: 0.040574, W: -0.078606, b: 2.090762\n",
      "step: 4950, loss: 0.040574, W: -0.078606, b: 2.090762\n",
      "step: 5000, loss: 0.040574, W: -0.078606, b: 2.090762\n",
      "step: 5050, loss: 0.040574, W: -0.078606, b: 2.090762\n",
      "step: 5100, loss: 0.040574, W: -0.078606, b: 2.090762\n",
      "step: 5150, loss: 0.040574, W: -0.078606, b: 2.090762\n",
      "step: 5200, loss: 0.040574, W: -0.078606, b: 2.090762\n",
      "step: 5250, loss: 0.040574, W: -0.078606, b: 2.090762\n",
      "step: 5300, loss: 0.040574, W: -0.078606, b: 2.090762\n",
      "step: 5350, loss: 0.040574, W: -0.078606, b: 2.090762\n",
      "step: 5400, loss: 0.040574, W: -0.078606, b: 2.090762\n",
      "step: 5450, loss: 0.040574, W: -0.078606, b: 2.090762\n",
      "step: 5500, loss: 0.040574, W: -0.078606, b: 2.090762\n",
      "step: 5550, loss: 0.040574, W: -0.078606, b: 2.090762\n",
      "step: 5600, loss: 0.040574, W: -0.078606, b: 2.090762\n",
      "step: 5650, loss: 0.040574, W: -0.078606, b: 2.090762\n",
      "step: 5700, loss: 0.040574, W: -0.078606, b: 2.090762\n",
      "step: 5750, loss: 0.040574, W: -0.078606, b: 2.090762\n",
      "step: 5800, loss: 0.040574, W: -0.078606, b: 2.090762\n",
      "step: 5850, loss: 0.040574, W: -0.078606, b: 2.090762\n",
      "step: 5900, loss: 0.040574, W: -0.078606, b: 2.090762\n",
      "step: 5950, loss: 0.040574, W: -0.078606, b: 2.090762\n",
      "step: 6000, loss: 0.040574, W: -0.078606, b: 2.090762\n",
      "step: 6050, loss: 0.040574, W: -0.078606, b: 2.090762\n",
      "step: 6100, loss: 0.040574, W: -0.078606, b: 2.090762\n",
      "step: 6150, loss: 0.040574, W: -0.078606, b: 2.090762\n",
      "step: 6200, loss: 0.040574, W: -0.078606, b: 2.090762\n",
      "step: 6250, loss: 0.040574, W: -0.078606, b: 2.090762\n",
      "step: 6300, loss: 0.040574, W: -0.078606, b: 2.090762\n",
      "step: 6350, loss: 0.040574, W: -0.078606, b: 2.090762\n",
      "step: 6400, loss: 0.040574, W: -0.078606, b: 2.090762\n",
      "step: 6450, loss: 0.040574, W: -0.078606, b: 2.090762\n",
      "step: 6500, loss: 0.040574, W: -0.078606, b: 2.090762\n",
      "step: 6550, loss: 0.040574, W: -0.078606, b: 2.090762\n",
      "step: 6600, loss: 0.040574, W: -0.078606, b: 2.090762\n",
      "step: 6650, loss: 0.040574, W: -0.078606, b: 2.090762\n",
      "step: 6700, loss: 0.040574, W: -0.078606, b: 2.090762\n",
      "step: 6750, loss: 0.040574, W: -0.078606, b: 2.090762\n",
      "step: 6800, loss: 0.040574, W: -0.078606, b: 2.090762\n",
      "step: 6850, loss: 0.040574, W: -0.078606, b: 2.090762\n",
      "step: 6900, loss: 0.040574, W: -0.078606, b: 2.090762\n",
      "step: 6950, loss: 0.040574, W: -0.078606, b: 2.090762\n",
      "step: 7000, loss: 0.040574, W: -0.078606, b: 2.090762\n",
      "step: 7050, loss: 0.040574, W: -0.078606, b: 2.090762\n",
      "step: 7100, loss: 0.040574, W: -0.078606, b: 2.090762\n",
      "step: 7150, loss: 0.040574, W: -0.078606, b: 2.090762\n",
      "step: 7200, loss: 0.040574, W: -0.078606, b: 2.090762\n",
      "step: 7250, loss: 0.040574, W: -0.078606, b: 2.090762\n",
      "step: 7300, loss: 0.040574, W: -0.078606, b: 2.090762\n",
      "step: 7350, loss: 0.040574, W: -0.078606, b: 2.090762\n",
      "step: 7400, loss: 0.040574, W: -0.078606, b: 2.090762\n",
      "step: 7450, loss: 0.040574, W: -0.078606, b: 2.090762\n",
      "step: 7500, loss: 0.040574, W: -0.078606, b: 2.090762\n",
      "step: 7550, loss: 0.040574, W: -0.078606, b: 2.090762\n",
      "step: 7600, loss: 0.040574, W: -0.078606, b: 2.090762\n",
      "step: 7650, loss: 0.040574, W: -0.078606, b: 2.090762\n"
     ]
    },
    {
     "name": "stdout",
     "output_type": "stream",
     "text": [
      "step: 7700, loss: 0.040574, W: -0.078606, b: 2.090762\n",
      "step: 7750, loss: 0.040574, W: -0.078606, b: 2.090762\n",
      "step: 7800, loss: 0.040574, W: -0.078606, b: 2.090762\n",
      "step: 7850, loss: 0.040574, W: -0.078606, b: 2.090762\n",
      "step: 7900, loss: 0.040574, W: -0.078606, b: 2.090762\n",
      "step: 7950, loss: 0.040574, W: -0.078606, b: 2.090762\n",
      "step: 8000, loss: 0.040574, W: -0.078606, b: 2.090762\n",
      "step: 8050, loss: 0.040574, W: -0.078606, b: 2.090762\n",
      "step: 8100, loss: 0.040574, W: -0.078606, b: 2.090762\n",
      "step: 8150, loss: 0.040574, W: -0.078606, b: 2.090762\n",
      "step: 8200, loss: 0.040574, W: -0.078606, b: 2.090762\n",
      "step: 8250, loss: 0.040574, W: -0.078606, b: 2.090762\n",
      "step: 8300, loss: 0.040574, W: -0.078606, b: 2.090762\n",
      "step: 8350, loss: 0.040574, W: -0.078606, b: 2.090762\n",
      "step: 8400, loss: 0.040574, W: -0.078606, b: 2.090762\n",
      "step: 8450, loss: 0.040574, W: -0.078606, b: 2.090762\n",
      "step: 8500, loss: 0.040574, W: -0.078606, b: 2.090762\n",
      "step: 8550, loss: 0.040574, W: -0.078606, b: 2.090762\n",
      "step: 8600, loss: 0.040574, W: -0.078606, b: 2.090762\n",
      "step: 8650, loss: 0.040574, W: -0.078606, b: 2.090762\n",
      "step: 8700, loss: 0.040574, W: -0.078606, b: 2.090762\n",
      "step: 8750, loss: 0.040574, W: -0.078606, b: 2.090762\n",
      "step: 8800, loss: 0.040574, W: -0.078606, b: 2.090762\n",
      "step: 8850, loss: 0.040574, W: -0.078606, b: 2.090762\n",
      "step: 8900, loss: 0.040574, W: -0.078606, b: 2.090762\n",
      "step: 8950, loss: 0.040574, W: -0.078606, b: 2.090762\n",
      "step: 9000, loss: 0.040574, W: -0.078606, b: 2.090762\n",
      "step: 9050, loss: 0.040574, W: -0.078606, b: 2.090762\n",
      "step: 9100, loss: 0.040574, W: -0.078606, b: 2.090762\n",
      "step: 9150, loss: 0.040574, W: -0.078606, b: 2.090762\n",
      "step: 9200, loss: 0.040574, W: -0.078606, b: 2.090762\n",
      "step: 9250, loss: 0.040574, W: -0.078606, b: 2.090762\n",
      "step: 9300, loss: 0.040574, W: -0.078606, b: 2.090762\n",
      "step: 9350, loss: 0.040574, W: -0.078606, b: 2.090762\n",
      "step: 9400, loss: 0.040574, W: -0.078606, b: 2.090762\n",
      "step: 9450, loss: 0.040574, W: -0.078606, b: 2.090762\n",
      "step: 9500, loss: 0.040574, W: -0.078606, b: 2.090762\n",
      "step: 9550, loss: 0.040574, W: -0.078606, b: 2.090762\n",
      "step: 9600, loss: 0.040574, W: -0.078606, b: 2.090762\n",
      "step: 9650, loss: 0.040574, W: -0.078606, b: 2.090762\n",
      "step: 9700, loss: 0.040574, W: -0.078606, b: 2.090762\n",
      "step: 9750, loss: 0.040574, W: -0.078606, b: 2.090762\n",
      "step: 9800, loss: 0.040574, W: -0.078606, b: 2.090762\n",
      "step: 9850, loss: 0.040574, W: -0.078606, b: 2.090762\n",
      "step: 9900, loss: 0.040574, W: -0.078606, b: 2.090762\n",
      "step: 9950, loss: 0.040574, W: -0.078606, b: 2.090762\n"
     ]
    },
    {
     "data": {
      "image/png": "[encoded data removed]",
      "text/plain": [
       "<Figure size 432x288 with 1 Axes>"
      ]
     },
     "metadata": {
      "needs_background": "light"
     },
     "output_type": "display_data"
    }
   ],
   "source": [
    "import tensorflow as tf\n",
    "import numpy as np\n",
    "import matplotlib.pyplot as plt\n",
    "\n",
    "\n",
    "# 学习率\n",
    "learning_rate = 0.01\n",
    "\n",
    "# 迭代次数\n",
    "training_steps = 1000\n",
    "\n",
    "display_step = 50\n",
    "\n",
    "# 训练数据\n",
    "X = x\n",
    "Y = y\n",
    "\n",
    "#  取出数组X的长度\n",
    "n_samples = X.shape[0]\n",
    "\n",
    "# 随机初始化权重，偏置\n",
    "W = tf.Variable(np.random.randn(), name=\"weight\")\n",
    "b = tf.Variable(np.random.randn(), name=\"bias\")\n",
    "\n",
    "\n",
    "# 线性回归(Wx+b)\n",
    "def linear_regression(x):\n",
    "    return W * x + b\n",
    "\n",
    "\n",
    "# 均方差\n",
    "def mean_square(y_pred,y_true):\n",
    "    return tf.reduce_sum(tf.pow(y_pred - y_true, 2)) / (2 * n_samples)\n",
    "\n",
    "\n",
    "# 随机梯度下降优化器\n",
    "optimizer = tf.optimizers.SGD(learning_rate)\n",
    "\n",
    "\n",
    "# 优化过程\n",
    "def run_optimization():\n",
    "    # 将计算封装在GradientTape中以实现自动微分\n",
    "    with tf.GradientTape() as g:\n",
    "        pred = linear_regression(X)\n",
    "        loss = mean_square(pred, Y)\n",
    "\n",
    "    # 计算梯度\n",
    "    # print(\"loss is \", loss)\n",
    "    gradients = g.gradient(loss, [W, b])\n",
    "\n",
    "    # 按gradients更新 W 和 b\n",
    "    optimizer.apply_gradients(zip(gradients, [W, b]))\n",
    "\n",
    "\n",
    "# 针对给定训练步骤数开始训练\n",
    "for step in range(1,10000):\n",
    "    # 运行优化以更新W和b值\n",
    "    run_optimization()\n",
    "\n",
    "    if step % display_step == 0:\n",
    "        pred = linear_regression(X)\n",
    "        loss = mean_square(pred, Y)\n",
    "        print(\"step: %i, loss: %f, W: %f, b: %f\" % (step, loss, W.numpy(), b.numpy()))\n",
    "\n",
    "# 绘制图\n",
    "plt.plot(X, Y, 'ro', label='Original data')\n",
    "plt.plot(X, np.array(W * X + b), label='Fitted line')\n",
    "plt.legend()\n",
    "plt.show()"
   ]
  },
  {
   "cell_type": "code",
   "execution_count": null,
   "id": "976f0397",
   "metadata": {},
   "outputs": [],
   "source": []
  }
 ],
 "metadata": {
  "kernelspec": {
   "display_name": "Python 3 (ipykernel)",
   "language": "python",
   "name": "python3"
  },
  "language_info": {
   "codemirror_mode": {
    "name": "ipython",
    "version": 3
   },
   "file_extension": ".py",
   "mimetype": "text/x-python",
   "name": "python",
   "nbconvert_exporter": "python",
   "pygments_lexer": "ipython3",
   "version": "3.7.11"
  }
 },
 "nbformat": 4,
 "nbformat_minor": 5
}
