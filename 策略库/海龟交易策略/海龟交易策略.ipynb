{
 "cells": [
  {
   "cell_type": "code",
   "execution_count": null,
   "id": "58b2f13d",
   "metadata": {},
   "outputs": [],
   "source": [
    "import pandas as pd\n",
    "\n",
    "index_data = pd.read_csv('sh000001.csv', parse_dates=['date'])\n",
    "index_data = index_data[['date', 'high', 'low', 'close', 'change']]\n",
    "index_data.sort('date', inplace=True)\n",
    "N1 = 20\n",
    "N2 = 10\n",
    "index_data['n1极大值'] =  pd.rolling_max(index_data['high'], N1)\n",
    "index_data['n1极大值'].fillna(value=pd.expanding_max(index_data['high']), inplace=True)\n",
    "index_data['n2极小值'] =  pd.rolling_min(index_data['low'], N1)\n",
    "index_data['n2极小值'].fillna(value=pd.expanding_min(index_data['low']), inplace=True)\n",
    "buy_index = index_data[index_data['close'] > index_data['n1极大值'].shift(1)].index\n",
    "index_data.loc[buy_index, '信号'] = 1\n",
    "sell_index = index_data[index_data['close'] < index_data['n2极小值'].shift(1)].index\n",
    "index_data.loc[sell_index, '信号'] = 0\n",
    "index_data['仓位'] = index_data['信号'].shift(1)\n",
    "index_data['仓位'].fillna(method='ffill', inplace=True)\n",
    "index_data = index_data[index_data['date'] >= pd.to_datetime('19930101')]\n",
    "index_data['资金指数'] = (index_data['change'] * index_data['仓位'] + 1.0).cumprod()\n",
    "initial_idx = index_data.iloc[0]['close'] / (1 + index_data.iloc[0]['change'])\n",
    "index_data['资金指数'] *= initial_idx\n",
    "index_data[['date', 'high', 'low', 'close', 'change', 'n1极大值',\n",
    "            'n2极小值', '仓位', '资金指数']].to_csv('turtle.csv', index=False, encoding='gbk')\n",
    "index_data['每日涨跌'] = index_data['change'] * index_data['仓位']\n",
    "year_rtn = index_data.set_index('date')[['change', '每日涨跌']].\\\n",
    "               resample('A', how=lambda x: (x+1.0).prod() - 1.0) * 100\n",
    "print(year_rtn)"
   ]
  },
  {
   "cell_type": "code",
   "execution_count": null,
   "id": "d0bfd79c",
   "metadata": {},
   "outputs": [],
   "source": []
  }
 ],
 "metadata": {
  "kernelspec": {
   "display_name": "Python 3 (ipykernel)",
   "language": "python",
   "name": "python3"
  },
  "language_info": {
   "codemirror_mode": {
    "name": "ipython",
    "version": 3
   },
   "file_extension": ".py",
   "mimetype": "text/x-python",
   "name": "python",
   "nbconvert_exporter": "python",
   "pygments_lexer": "ipython3",
   "version": "3.7.11"
  }
 },
 "nbformat": 4,
 "nbformat_minor": 5
}
