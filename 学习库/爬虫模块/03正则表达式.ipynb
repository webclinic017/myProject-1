{
 "cells": [
  {
   "cell_type": "raw",
   "id": "390d0a65",
   "metadata": {},
   "source": [
    "正则表达式是处理字符串的强大工具。它能帮助实现字符串的检索、替换、匹配验证。  \n",
    "有了它，要从HTML里提取想要的信息就非常方便了。"
   ]
  },
  {
   "cell_type": "markdown",
   "id": "422d4159",
   "metadata": {},
   "source": [
    "# match\n",
    "match方法会尝试从字符串的起始位置匹配正则表达式，如果匹配，就返回匹配成功的结果；如果不匹配，就返回 None。  \n",
    "因为 match方法 需要考虑到打头开始的内容，这在做匹配时并不方便。它更适合用来检测某个字符串是否符合某个正则表达式的规则。"
   ]
  },
  {
   "cell_type": "code",
   "execution_count": 1,
   "id": "8f5dbed3",
   "metadata": {},
   "outputs": [
    {
     "name": "stdout",
     "output_type": "stream",
     "text": [
      "字符串长度为： 41\n",
      "匹配结果为： <re.Match object; span=(0, 25), match='Hello 123 4567 World_This'>\n",
      "正则表达式规则所匹配的内容： Hello 123 4567 World_This\n",
      "匹配到的结果字符串在原字符串中的位置范围： (0, 25)\n"
     ]
    }
   ],
   "source": [
    "import re\n",
    "content = 'Hello 123 4567 World_This is a Regex Demo'\n",
    "print('字符串长度为：',len(content))\n",
    "result = re.match('^Hello\\s\\d\\d\\d\\s\\d{4}\\s\\w{10}', content)\n",
    "print('匹配结果为：', result)\n",
    "print('正则表达式规则所匹配的内容：', result.group())\n",
    "print('匹配到的结果字符串在原字符串中的位置范围：',result.span())"
   ]
  },
  {
   "cell_type": "markdown",
   "id": "acf732de",
   "metadata": {},
   "source": [
    "|模式|描述|\n",
    "|:---:|:---|\n",
    "|\\w|匹配字母、数字及下划线|\n",
    "|\\W|匹配不是字母、数字及下划线的字符|\n",
    "|\\s|匹配任意空白字符，等价于 [\\t\\n\\r\\f]|\n",
    "|\\S|匹配任意非空字符||\n",
    "|\\d|匹配任意数字，等价于 [0~9]|\n",
    "|\\D|匹配任意非数字的字符|\n",
    "|\\A|匹配字符串开头|\n",
    "|\\Z|匹配字符串结尾，如果存在换行，只匹配到换行前的结束字符串|\n",
    "|\\z|匹配字符串结尾，如果存在换行，同时还会匹配换行符|\n",
    "|\\G|匹配最后匹配完成的位置||\n",
    "|\\n|匹配一个换行符|\n",
    "|\\t|匹配一个制表符|\n",
    "|^|匹配一行字符串的开头|\n",
    "|$|匹配一行字符串的结尾|\n",
    "|.|匹配任意字符，除了换行符，当 re.DOTALL 标记被指定时，则可以匹配包括换行符的任意字符|\n",
    "|[...]|用来表示一组字符，单独列出，比如 [amk] 匹配 a、m 或 k|\n",
    "|[^...]|不在 [] 中的字符，比如 匹配除了 a、b、c 之外的字符|\n",
    "|*|匹配 0 个或多个表达式|\n",
    "|+|匹配 1 个或多个表达式|\n",
    "|?|匹配 0 个或 1 个前面的正则表达式定义的片段，非贪婪方式|\n",
    "|{n}|精确匹配 n 个前面的表达式|\n",
    "|{n, m}|匹配 n 到 m 次由前面正则表达式定义的片段，贪婪方式|\n",
    "|a竖线b|匹配 a 或 b|\n",
    "|()|匹配括号内的表达式，也表示一个组|"
   ]
  },
  {
   "cell_type": "markdown",
   "id": "3120d65b",
   "metadata": {},
   "source": [
    "# 匹配目标\n",
    "一段文本中提取出邮件或电话号码等内容。我们可以使用 () 括号将想提取的子字符串括起来。  \n",
    "()实际上标记了一个子表达式的开始和结束位置，被标记的每个子表达式会依次对应每一个分组，调用 group方法 传入分组的索引即可获取提取的结果。"
   ]
  },
  {
   "cell_type": "code",
   "execution_count": 2,
   "id": "d1250594",
   "metadata": {},
   "outputs": [
    {
     "name": "stdout",
     "output_type": "stream",
     "text": [
      "匹配结果为： <re.Match object; span=(0, 19), match='Hello 1234567 World'>\n",
      "正则表达式规则所匹配的内容： Hello 1234567 World\n",
      "提取内容为： 1234567\n",
      "匹配到的结果字符串在原字符串中的位置范围： (0, 19)\n"
     ]
    }
   ],
   "source": [
    "content = 'Hello 1234567 World_This is a Regex Demo'\n",
    "result = re.match('^Hello\\s(\\d+)\\sWorld', content)\n",
    "print('匹配结果为：', result)\n",
    "print('正则表达式规则所匹配的内容：',result.group())\n",
    "print('提取内容为：', result.group(1))\n",
    "print('匹配到的结果字符串在原字符串中的位置范围：',result.span())"
   ]
  },
  {
   "cell_type": "markdown",
   "id": "846a13a5",
   "metadata": {},
   "source": [
    "# 万能匹配式.*"
   ]
  },
  {
   "cell_type": "code",
   "execution_count": 3,
   "id": "35b20c9b",
   "metadata": {},
   "outputs": [
    {
     "name": "stdout",
     "output_type": "stream",
     "text": [
      "匹配结果为： <re.Match object; span=(0, 20), match='Hello 123 4567 World'>\n",
      "正则表达式规则所匹配的内容： Hello 123 4567 World\n",
      "匹配到的结果字符串在原字符串中的位置范围： (0, 20)\n"
     ]
    }
   ],
   "source": [
    "content = 'Hello 123 4567 World_This is a Regex Demo'\n",
    "result = re.match('^Hello.*World', content)\n",
    "print('匹配结果为：', result)\n",
    "print('正则表达式规则所匹配的内容：',result.group())\n",
    "\n",
    "print('匹配到的结果字符串在原字符串中的位置范围：',result.span())"
   ]
  },
  {
   "cell_type": "markdown",
   "id": "85ad3b09",
   "metadata": {},
   "source": [
    "### 1.贪婪匹配.*\n",
    "匹配尽可能多的字符"
   ]
  },
  {
   "cell_type": "code",
   "execution_count": 4,
   "id": "8e6863fc",
   "metadata": {},
   "outputs": [
    {
     "name": "stdout",
     "output_type": "stream",
     "text": [
      "7\n"
     ]
    }
   ],
   "source": [
    "content = 'Hello 1234567 World_This is a Regex Demo'\n",
    "result = re.match('^He.*(\\d+).*Demo$', content)\n",
    "print(result.group(1))"
   ]
  },
  {
   "cell_type": "markdown",
   "id": "47379bc0",
   "metadata": {},
   "source": [
    "### 2.非贪婪匹配.*？\n",
    "匹配尽可能少的字符"
   ]
  },
  {
   "cell_type": "code",
   "execution_count": 5,
   "id": "94dadc5a",
   "metadata": {},
   "outputs": [
    {
     "name": "stdout",
     "output_type": "stream",
     "text": [
      "1234567\n"
     ]
    }
   ],
   "source": [
    "content = 'Hello 1234567 World_This is a Regex Demo'\n",
    "result = re.match('^He.*?(\\d+).*Demo$', content)\n",
    "print(result.group(1))"
   ]
  },
  {
   "cell_type": "markdown",
   "id": "17531e6a",
   "metadata": {},
   "source": [
    "# 修饰符\n",
    "|修饰符|描述|\n",
    "|:---:|:---|\n",
    "|re.I|使匹配对大小写不敏感|\n",
    "|re.L|做本地化识别（locale-aware）匹配|\n",
    "|re.M|多行匹配，影响 ^ 和 $|\n",
    "|re.S|使匹配包括换行在内的所有字符|\n",
    "|re.U|根据 Unicode 字符集解析字符。这个标志影响 \\w、\\W、\\b 和 \\B|\n",
    "|re.X|该标志通过给予你更灵活的格式以便你将正则表达式写得更易于理解|\n",
    "\n",
    "在网页匹配中，较为常用的修饰符有 re.S  和 re.I 。"
   ]
  },
  {
   "cell_type": "code",
   "execution_count": 6,
   "id": "37729959",
   "metadata": {},
   "outputs": [
    {
     "name": "stdout",
     "output_type": "stream",
     "text": [
      "1234567\n"
     ]
    }
   ],
   "source": [
    "# 字符串中多了换行\n",
    "content = '''Hello 1234567 World_This\n",
    "is a Regex Demo\n",
    "''' \n",
    "# result = re.match('^He.*?(\\d+).*?Demo$', content) # 普通的.*是不能匹配换行符的\n",
    "# 需要添加re.S作为修饰符\n",
    "result = re.match('^He.*?(\\d+).*?Demo$', content, re.S)\n",
    "print(result.group(1))"
   ]
  },
  {
   "cell_type": "markdown",
   "id": "bdc2f230",
   "metadata": {},
   "source": [
    "# Search方法\n",
    "扫描整个字符串，然后返回第一个成功匹配的结果。也就是说，search方法会依次扫描字符串，直到找到第一个符合规则的字符串，然后返回匹配内容，如果搜索完了还没有找到，就返回 None。"
   ]
  },
  {
   "cell_type": "code",
   "execution_count": 7,
   "id": "8dd747af",
   "metadata": {},
   "outputs": [],
   "source": [
    "html = '''<div id=\"songs-list\">\n",
    "<h2 class=\"title\"> 经典老歌 </h2>\n",
    "<p class=\"introduction\">\n",
    "经典老歌列表\n",
    "</p>\n",
    "<ul id=\"list\" class=\"list-group\">\n",
    "<li data-view=\"2\"> 一路上有你 </li>\n",
    "<li data-view=\"7\">\n",
    "<a href=\"/2.mp3\" singer=\" 任贤齐 \"> 沧海一声笑 </a>\n",
    "</li>\n",
    "<li data-view=\"4\" class=\"active\">\n",
    "<a href=\"/3.mp3\" singer=\" 齐秦 \"> 往事随风 </a>\n",
    "</li>\n",
    "<li data-view=\"6\"><a href=\"/4.mp3\" singer=\"beyond\"> 光辉岁月 </a></li>\n",
    "<li data-view=\"5\"><a href=\"/5.mp3\" singer=\" 陈慧琳 \"> 记事本 </a></li>\n",
    "<li data-view=\"5\">\n",
    "<a href=\"/6.mp3\" singer=\" 邓丽君 \"> 但愿人长久 </a>\n",
    "</li>\n",
    "</ul>\n",
    "</div>'''\n"
   ]
  },
  {
   "cell_type": "code",
   "execution_count": 8,
   "id": "8a8b6687",
   "metadata": {},
   "outputs": [
    {
     "name": "stdout",
     "output_type": "stream",
     "text": [
      " 齐秦   往事随风 \n"
     ]
    }
   ],
   "source": [
    "result=re.search('li.*?active.*?singer=\"(.*?)\">(.*?)<', html, re.S)\n",
    "if result:\n",
    "    print(result.group(1), result.group(2))"
   ]
  },
  {
   "cell_type": "markdown",
   "id": "9b5fa129",
   "metadata": {},
   "source": [
    "# findall\n",
    "search方法匹配正则表达式的第一个内容，但是如果想要获取匹配正则表达式的所有内容，要借助 findall方法。"
   ]
  },
  {
   "cell_type": "code",
   "execution_count": 9,
   "id": "be0164dc",
   "metadata": {},
   "outputs": [
    {
     "name": "stdout",
     "output_type": "stream",
     "text": [
      "(' 任贤齐 ', ' 沧海一声笑 ')\n",
      "(' 齐秦 ', ' 往事随风 ')\n",
      "('beyond', ' 光辉岁月 ')\n",
      "(' 陈慧琳 ', ' 记事本 ')\n",
      "(' 邓丽君 ', ' 但愿人长久 ')\n"
     ]
    },
    {
     "data": {
      "text/plain": [
       "' 但愿人长久 '"
      ]
     },
     "execution_count": 9,
     "metadata": {},
     "output_type": "execute_result"
    }
   ],
   "source": [
    "results=re.findall('<li\\s.*?singer=\"(.*?)\">(.*?)<', html, re.S)\n",
    "for result in results:\n",
    "    print(result)\n",
    "results[4][1]"
   ]
  },
  {
   "cell_type": "markdown",
   "id": "6941389f",
   "metadata": {},
   "source": [
    "# sub 修改文本"
   ]
  },
  {
   "cell_type": "code",
   "execution_count": 10,
   "id": "79f32ac8",
   "metadata": {},
   "outputs": [
    {
     "name": "stdout",
     "output_type": "stream",
     "text": [
      "|aK|yr|oiR|ix|L|g\n"
     ]
    }
   ],
   "source": [
    "content = '54aK54yr5oiR54ix5L2g'\n",
    "content = re.sub('\\d+', '|', content)\n",
    "print(content)"
   ]
  },
  {
   "cell_type": "code",
   "execution_count": 11,
   "id": "e57ae674",
   "metadata": {},
   "outputs": [
    {
     "name": "stdout",
     "output_type": "stream",
     "text": [
      "<div id=\"songs-list\">\n",
      "<h2 class=\"title\"> 经典老歌 </h2>\n",
      "<p class=\"introduction\">\n",
      "经典老歌列表\n",
      "</p>\n",
      "<ul id=\"list\" class=\"list-group\">\n",
      "<li data-view=\"2\"> 一路上有你 </li>\n",
      "<li data-view=\"7\">\n",
      " 沧海一声笑 \n",
      "</li>\n",
      "<li data-view=\"4\" class=\"active\">\n",
      " 往事随风 \n",
      "</li>\n",
      "<li data-view=\"6\"> 光辉岁月 </li>\n",
      "<li data-view=\"5\"> 记事本 </li>\n",
      "<li data-view=\"5\">\n",
      " 但愿人长久 \n",
      "</li>\n",
      "</ul>\n",
      "</div> \n",
      "**********************************************\n",
      "一路上有你\n",
      "沧海一声笑\n",
      "往事随风\n",
      "光辉岁月\n",
      "记事本\n",
      "但愿人长久\n"
     ]
    }
   ],
   "source": [
    "# 可以先用sub方法去掉所有的a节点，剩下的全是歌名\n",
    "tmp = re.sub('<a.*?>|</a>', '', html)\n",
    "print(tmp,'\\n**********************************************')\n",
    "results=re.findall('<li.*?>(.*?)</li>',tmp,re.S)\n",
    "for result in results:\n",
    "    print(result.strip())"
   ]
  },
  {
   "cell_type": "markdown",
   "id": "e7fd0a3d",
   "metadata": {},
   "source": [
    "# compile\n",
    "给正则表达式做封装，以便我们更好的复用。"
   ]
  },
  {
   "cell_type": "code",
   "execution_count": 12,
   "id": "89c9efb2",
   "metadata": {},
   "outputs": [
    {
     "name": "stdout",
     "output_type": "stream",
     "text": [
      "2019-12-15  2019-12-17  2019-12-22 \n"
     ]
    }
   ],
   "source": [
    "content1, content2, content3= '2019-12-15 12:00', '2019-12-17 12:55', '2019-12-22 13:21'\n",
    "\n",
    "regulation = re.compile('\\d{2}:\\d{2}') # compile 封装\n",
    "result1 = re.sub(regulation, '', content1) # compile 调用 \n",
    "result2 = re.sub(regulation, '', content2) # compile 调用 \n",
    "result3 = re.sub(regulation, '', content3) # compile 调用\n",
    "print(result1, result2, result3)"
   ]
  },
  {
   "cell_type": "raw",
   "id": "d51596fe",
   "metadata": {},
   "source": []
  },
  {
   "cell_type": "raw",
   "id": "9c5d1d7f",
   "metadata": {},
   "source": []
  },
  {
   "cell_type": "raw",
   "id": "c6836413",
   "metadata": {},
   "source": []
  }
 ],
 "metadata": {
  "kernelspec": {
   "display_name": "Python 3 (ipykernel)",
   "language": "python",
   "name": "python3"
  },
  "language_info": {
   "codemirror_mode": {
    "name": "ipython",
    "version": 3
   },
   "file_extension": ".py",
   "mimetype": "text/x-python",
   "name": "python",
   "nbconvert_exporter": "python",
   "pygments_lexer": "ipython3",
   "version": "3.7.11"
  }
 },
 "nbformat": 4,
 "nbformat_minor": 5
}
