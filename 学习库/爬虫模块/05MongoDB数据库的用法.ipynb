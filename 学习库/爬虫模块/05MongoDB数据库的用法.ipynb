{
 "cells": [
  {
   "cell_type": "raw",
   "id": "fc0e15cd",
   "metadata": {},
   "source": [
    "MongoDB  是由 C++  语言编写的非关系型数据库，是一个基于分布式文件存储的开源数据库系统，其内容存储形式类似 JSON  对象，它的字段值可以包含其他文档、数组及文档数组，非常灵活。\n",
    "MongoDB还有主从复制、副本集、分片集群等集群架构，可用性可靠性更好，如有需要可以自行搭建相应的集群进行使用。"
   ]
  },
  {
   "cell_type": "raw",
   "id": "d62a9ea4",
   "metadata": {},
   "source": [
    "!pip install pymongo"
   ]
  },
  {
   "cell_type": "code",
   "execution_count": 1,
   "id": "f4c3f3e7",
   "metadata": {},
   "outputs": [],
   "source": [
    "import pymongo"
   ]
  },
  {
   "cell_type": "markdown",
   "id": "dd865e71",
   "metadata": {},
   "source": [
    "# 连接MongoDB\n",
    "MongoClient(host= , port= )"
   ]
  },
  {
   "cell_type": "code",
   "execution_count": 46,
   "id": "5c440830",
   "metadata": {},
   "outputs": [],
   "source": [
    "client = pymongo.MongoClient(host='localhost',port=27017)\n",
    "# client = pymongo.MongoClient('mongodb://localhost:27017/')"
   ]
  },
  {
   "cell_type": "markdown",
   "id": "3a6b565e",
   "metadata": {},
   "source": [
    "# 指定数据库"
   ]
  },
  {
   "cell_type": "code",
   "execution_count": 81,
   "id": "9beb6da1",
   "metadata": {},
   "outputs": [],
   "source": [
    "db = client.test\n",
    "db = client['test'] # 或者"
   ]
  },
  {
   "cell_type": "markdown",
   "id": "3645a277",
   "metadata": {},
   "source": [
    "# 指定集合\n",
    "MongoDB的每个数据库又包含许多集合（collection），它们类似于关系型数据库中的表。"
   ]
  },
  {
   "cell_type": "code",
   "execution_count": 82,
   "id": "f6e8314b",
   "metadata": {},
   "outputs": [],
   "source": [
    "collection = db.students\n",
    "collection = db['students'] # 或者"
   ]
  },
  {
   "cell_type": "markdown",
   "id": "e1c21a84",
   "metadata": {},
   "source": [
    "# 插入数据"
   ]
  },
  {
   "cell_type": "code",
   "execution_count": 83,
   "id": "583f62d2",
   "metadata": {},
   "outputs": [
    {
     "name": "stdout",
     "output_type": "stream",
     "text": [
      "[ObjectId('6163b7194d26116f614ffe01'), ObjectId('6163b7194d26116f614ffe02')]\n"
     ]
    },
    {
     "name": "stderr",
     "output_type": "stream",
     "text": [
      "c:\\anaconda3\\envs\\py37\\lib\\site-packages\\ipykernel_launcher.py:3: DeprecationWarning: insert is deprecated. Use insert_one or insert_many instead.\n",
      "  This is separate from the ipykernel package so we can avoid doing imports until\n"
     ]
    }
   ],
   "source": [
    "student1 = {'id': '20170101', 'name': 'Jordan', 'age': 20, 'gender': 'male'} # 字典形式\n",
    "student2 = {'id': '20170202', 'name': 'Mike', 'age': 21, 'gender': 'male'}\n",
    "result = collection.insert([student1, student2])\n",
    "print(result)\n",
    "'''每条数据其实都有一个_id属性来唯一标识, insert()方法会在执行后返回_id值。''';"
   ]
  },
  {
   "cell_type": "markdown",
   "id": "d68fc163",
   "metadata": {},
   "source": [
    "在PyMongo中，官方已经不推荐使用insert方法了。目前，官方推荐使用insert_one和insert_many方法来分别插入单条记录和多条记录。\n",
    "### insert_one方法"
   ]
  },
  {
   "cell_type": "code",
   "execution_count": 84,
   "id": "4152f8c7",
   "metadata": {},
   "outputs": [
    {
     "name": "stdout",
     "output_type": "stream",
     "text": [
      "<pymongo.results.InsertOneResult object at 0x000000000A7C0388>\n",
      "6163b71a4d26116f614ffe03\n"
     ]
    }
   ],
   "source": [
    "student = {'id': '20170101','name': 'Jack','age': 20,'gender': 'male'}\n",
    "result = collection.insert_one(student)\n",
    "print(result) # 返回的是 InsertOneResult 对象\n",
    "print(result.inserted_id) # 调用其 inserted_id  属性获取 _id "
   ]
  },
  {
   "cell_type": "markdown",
   "id": "7ab5c910",
   "metadata": {},
   "source": [
    "### insert_many方法"
   ]
  },
  {
   "cell_type": "code",
   "execution_count": 85,
   "id": "0d021f3d",
   "metadata": {},
   "outputs": [
    {
     "name": "stdout",
     "output_type": "stream",
     "text": [
      "<pymongo.results.InsertManyResult object at 0x000000000A7C7908>\n",
      "[ObjectId('6163b71c4d26116f614ffe04'), ObjectId('6163b71c4d26116f614ffe05')]\n"
     ]
    }
   ],
   "source": [
    "student1 = {'id': '20170101', 'name': 'Bob', 'age': 20, 'gender': 'male'} \n",
    "student2 = {'id': '20170202', 'name': 'Tim', 'age': 21, 'gender': 'male'}\n",
    "result = collection.insert_many([student1, student2])\n",
    "print(result) # 返回的是 InsertOneResult 对象\n",
    "print(result.inserted_ids) # 调用其 inserted_ids  属性获取 _id "
   ]
  },
  {
   "cell_type": "markdown",
   "id": "a0492c66",
   "metadata": {},
   "source": [
    "# 查询\n",
    "### find_one查询 得到的是单个结果"
   ]
  },
  {
   "cell_type": "code",
   "execution_count": 52,
   "id": "ee4eef7c",
   "metadata": {},
   "outputs": [
    {
     "name": "stdout",
     "output_type": "stream",
     "text": [
      "类型： <class 'dict'>\n",
      "结果： {'_id': ObjectId('6163b5eb4d26116f614ffdfd'), 'id': '20170202', 'name': 'Mike', 'age': 21, 'gender': 'male'}\n"
     ]
    }
   ],
   "source": [
    "result = collection.find_one({'name':'Mike'})\n",
    "print('类型：',type(result))\n",
    "print('结果：',result)"
   ]
  },
  {
   "cell_type": "markdown",
   "id": "e94189fd",
   "metadata": {},
   "source": [
    "### find查询 则返回一个生成器对象"
   ]
  },
  {
   "cell_type": "code",
   "execution_count": 70,
   "id": "75a0584b",
   "metadata": {},
   "outputs": [
    {
     "name": "stdout",
     "output_type": "stream",
     "text": [
      "返回一个生成器对象: <pymongo.cursor.Cursor object at 0x000000000A4A8B48>\n"
     ]
    }
   ],
   "source": [
    "results = collection.find({'age': 20})\n",
    "print('返回一个生成器对象:',results)\n",
    "for result in results:\n",
    "    print(result)"
   ]
  },
  {
   "cell_type": "markdown",
   "id": "2d511f6a",
   "metadata": {},
   "source": [
    "+ 查找年龄大于20的所有学生"
   ]
  },
  {
   "cell_type": "code",
   "execution_count": 79,
   "id": "ee25e588",
   "metadata": {},
   "outputs": [
    {
     "name": "stdout",
     "output_type": "stream",
     "text": [
      "返回一个生成器对象: <pymongo.cursor.Cursor object at 0x000000000A7FBF88>\n"
     ]
    }
   ],
   "source": [
    "results = collection.find({'age': {'$gt': 20}})\n",
    "print('返回一个生成器对象:',results)\n",
    "for result in results:\n",
    "    print(result)"
   ]
  },
  {
   "cell_type": "markdown",
   "id": "7ced98dc",
   "metadata": {},
   "source": [
    "这里查询的条件键值已经不是单纯的数字了，而是一个字典，其键名为比较符号 $gt ，意思是大于，键值为 20 。\n",
    "**比较符号表：**\n",
    "\n",
    "|符号|含义|示例|\n",
    "|:---:|:---:|:---:|\n",
    "|\\$lt|小于|{'age' : {'\\$lt':20}}|\n",
    "|\\$gt|大于|{'age' : {'\\$gt':20}}|\n",
    "|\\$lte|小于等于|{'age' : {'\\$lte':20}}|\n",
    "|\\$gte|大于等于|{'age' : {'\\$gte':20}}|\n",
    "|\\$ne|不等于|{'age' : {'\\$ne':20}}|\n",
    "|\\$in|在范围内|{'age' : {'\\$in':[20,30]}}|\n",
    "|\\$nin|不在范围内|{'age' : {'\\$nin':[20,30]}}|"
   ]
  },
  {
   "cell_type": "markdown",
   "id": "4dfa637f",
   "metadata": {},
   "source": [
    "+ 查询名字以 'J' 开头的学生数据"
   ]
  },
  {
   "cell_type": "code",
   "execution_count": 58,
   "id": "ae2be72f",
   "metadata": {},
   "outputs": [
    {
     "name": "stdout",
     "output_type": "stream",
     "text": [
      "返回一个生成器对象: <pymongo.cursor.Cursor object at 0x000000000A8069C8>\n",
      "{'_id': ObjectId('6163b5eb4d26116f614ffdfc'), 'id': '20170101', 'name': 'Jordan', 'age': 20, 'gender': 'male'}\n",
      "{'_id': ObjectId('6163b5ed4d26116f614ffdfe'), 'id': '20170101', 'name': 'Jack', 'age': 20, 'gender': 'male'}\n"
     ]
    }
   ],
   "source": [
    "results = collection.find({'name': {'$regex': '^J.*'}})\n",
    "print('返回一个生成器对象:',results)\n",
    "for result in results:\n",
    "    print(result)"
   ]
  },
  {
   "cell_type": "markdown",
   "id": "832ed872",
   "metadata": {},
   "source": [
    "<center><font face=\"黑体\" size=5>其他功能符号:</font></center>\n",
    "\n",
    "|符号|含义|示例|示例含义|\n",
    "|:---:|:---:|:---:|:---:|\n",
    "|\\$regex|匹配正则表达式|{'name' : {'\\$regex':'^M.*'}}|name以M开头|\n",
    "|\\$exists|属性是否存在|{'name' : {'\\$exists':True}}|name属性存在|\n",
    "|\\$type|类型判断|{'age' : {'\\$type':'int'}}|age的类型为int|\n",
    "|\\$mod|数字模操作|{'age' : {'\\$mod':[5,0]}}|年龄模5余0|\n",
    "|\\$text|文本查询|{'\\$text' : {'\\$search':'Mike'}}|text类型的属性中包含Mike字符串|\n",
    "|\\$where|高级条件查询|{'\\where' : 'obj.fans_count == obj.follows_count'}|自身粉丝数等于关注数|"
   ]
  },
  {
   "cell_type": "markdown",
   "id": "b8449799",
   "metadata": {},
   "source": [
    "# 计数"
   ]
  },
  {
   "cell_type": "code",
   "execution_count": 59,
   "id": "64247804",
   "metadata": {},
   "outputs": [
    {
     "name": "stdout",
     "output_type": "stream",
     "text": [
      "5 2\n"
     ]
    },
    {
     "name": "stderr",
     "output_type": "stream",
     "text": [
      "c:\\anaconda3\\envs\\py37\\lib\\site-packages\\ipykernel_launcher.py:1: DeprecationWarning: count is deprecated. Use Collection.count_documents instead.\n",
      "  \"\"\"Entry point for launching an IPython kernel.\n",
      "c:\\anaconda3\\envs\\py37\\lib\\site-packages\\ipykernel_launcher.py:2: DeprecationWarning: count is deprecated. Use Collection.count_documents instead.\n",
      "  \n"
     ]
    }
   ],
   "source": [
    "total = collection.find().count()\n",
    "num = collection.find({'age':{'$gt':20}}).count()\n",
    "print(total, num)"
   ]
  },
  {
   "cell_type": "markdown",
   "id": "ec1b79c9",
   "metadata": {},
   "source": [
    "# 排序\n",
    " pymongo.ASCENDING  指定升序。pymongo.DESCENDING 指定降序。"
   ]
  },
  {
   "cell_type": "code",
   "execution_count": 60,
   "id": "90ad0683",
   "metadata": {},
   "outputs": [
    {
     "name": "stdout",
     "output_type": "stream",
     "text": [
      "['Bob', 'Jack', 'Jordan', 'Mike', 'Tim']\n"
     ]
    }
   ],
   "source": [
    "results = collection.find().sort('name', pymongo.ASCENDING)\n",
    "print([result['name'] for result in results])"
   ]
  },
  {
   "cell_type": "markdown",
   "id": "d4aebfd2",
   "metadata": {},
   "source": [
    "# 偏移\n",
    "如果只需某几个元素，可以利用skip()方法偏移几个位置，比如偏移2,代表忽略前两个元素，得到第3个及以后的元素："
   ]
  },
  {
   "cell_type": "code",
   "execution_count": 61,
   "id": "f0344f68",
   "metadata": {},
   "outputs": [
    {
     "name": "stdout",
     "output_type": "stream",
     "text": [
      "['Jordan', 'Mike', 'Tim']\n"
     ]
    }
   ],
   "source": [
    "results = collection.find().sort('name', pymongo.ASCENDING).skip(2)\n",
    "print([result['name'] for result in results])"
   ]
  },
  {
   "cell_type": "markdown",
   "id": "f05a9944",
   "metadata": {},
   "source": [
    "limit()方法指定要取的结果个数"
   ]
  },
  {
   "cell_type": "code",
   "execution_count": 63,
   "id": "3b422a1c",
   "metadata": {},
   "outputs": [
    {
     "name": "stdout",
     "output_type": "stream",
     "text": [
      "['Jordan', 'Mike']\n"
     ]
    }
   ],
   "source": [
    "results = collection.find().sort('name', pymongo.ASCENDING).skip(2).limit(2)\n",
    "print([result['name'] for result in results])"
   ]
  },
  {
   "cell_type": "raw",
   "id": "50079f79",
   "metadata": {},
   "source": [
    "在数据量非常庞大的时候，比如在查询千万、亿级别的数据库时，最好不要使用大的偏移量，因为这样很可能导致内存溢出。\n",
    "    from bson.objectid import ObjectId\n",
    "    collection.find({'_id': {'$gt': ObjectId('593278c815c2602678bb2b8d')}})\n",
    "我们利用上次查询的 _id 继续进行查询就好了"
   ]
  },
  {
   "cell_type": "markdown",
   "id": "3f2480b4",
   "metadata": {},
   "source": [
    "# 更新\n",
    "使用 update(条件，数据)，指定更新的条件和更新后的数据。"
   ]
  },
  {
   "cell_type": "code",
   "execution_count": 67,
   "id": "a8b247e9",
   "metadata": {},
   "outputs": [
    {
     "name": "stdout",
     "output_type": "stream",
     "text": [
      "{'n': 1, 'nModified': 1, 'ok': 1.0, 'updatedExisting': True}\n"
     ]
    },
    {
     "name": "stderr",
     "output_type": "stream",
     "text": [
      "c:\\anaconda3\\envs\\py37\\lib\\site-packages\\ipykernel_launcher.py:4: DeprecationWarning: update is deprecated. Use replace_one, update_one or update_many instead.\n",
      "  after removing the cwd from sys.path.\n"
     ]
    }
   ],
   "source": [
    "condition = {'name': 'Mike'} # 设置条件\n",
    "student = collection.find_one(condition) # 找到\n",
    "student['age'] = 25 # 更改\n",
    "result = collection.update(condition, student) # 替换\n",
    "print(result)\n",
    "'''返回结果是字典形式， ok  代表执行成功， nModified  代表影响的数据条数。''';"
   ]
  },
  {
   "cell_type": "raw",
   "id": "f1ccfc95",
   "metadata": {},
   "source": [
    "另外，我们也可以使用 $set操作符对数据进行更新，这样可以只更新student字典内存在的字段。如果原先还有其他字段，则不会更新，也不会删除。而如果不用$set的话，则会把之前的数据全部用 student字典替换；如果原本存在其他字段，则会被删除。\n",
    "另外， update方法其实也是官方不推荐使用的方法。这里也分为update_one方法和update_many方法，用法更加严格，它们的第2个参数需要使用$类型操作符作为字典的键名，示例如下："
   ]
  },
  {
   "cell_type": "markdown",
   "id": "faa5552a",
   "metadata": {},
   "source": [
    "+ update_one"
   ]
  },
  {
   "cell_type": "code",
   "execution_count": 68,
   "id": "bd72f110",
   "metadata": {},
   "outputs": [
    {
     "name": "stdout",
     "output_type": "stream",
     "text": [
      "<pymongo.results.UpdateResult object at 0x000000000A7B03C8>\n",
      "1 1\n"
     ]
    }
   ],
   "source": [
    "condition = {'name': 'Mike'}\n",
    "student = collection.find_one(condition)\n",
    "student['age'] = 26\n",
    "result = collection.update_one(condition, {'$set': student})\n",
    "print(result)\n",
    "print(result.matched_count, result.modified_count)\n",
    "'''其返回结果是UpdateResult类型。然后分别调用matched_count和modified_count属性，\n",
    "可以获得匹配的数据条数和影响的数据条数。''';"
   ]
  },
  {
   "cell_type": "markdown",
   "id": "1be90896",
   "metadata": {},
   "source": [
    "+ update_many"
   ]
  },
  {
   "cell_type": "code",
   "execution_count": 72,
   "id": "6ce198c6",
   "metadata": {},
   "outputs": [
    {
     "name": "stdout",
     "output_type": "stream",
     "text": [
      "<pymongo.results.UpdateResult object at 0x000000000A7D7908>\n",
      "5 5\n"
     ]
    }
   ],
   "source": [
    "condition = {'age': {'$gt': 18}} # 查询条件为年龄大于 20\n",
    "result = collection.update_many(condition, {'$inc': {'age': 1}}) # 更新条件为年龄加 1\n",
    "print(result)\n",
    "print(result.matched_count, result.modified_count)"
   ]
  },
  {
   "cell_type": "markdown",
   "id": "f2a53156",
   "metadata": {},
   "source": [
    "# 删除\n",
    "remove(条件)"
   ]
  },
  {
   "cell_type": "code",
   "execution_count": 73,
   "id": "b104a564",
   "metadata": {},
   "outputs": [
    {
     "name": "stdout",
     "output_type": "stream",
     "text": [
      "{'n': 1, 'ok': 1.0}\n"
     ]
    },
    {
     "name": "stderr",
     "output_type": "stream",
     "text": [
      "c:\\anaconda3\\envs\\py37\\lib\\site-packages\\ipykernel_launcher.py:1: DeprecationWarning: remove is deprecated. Use delete_one or delete_many instead.\n",
      "  \"\"\"Entry point for launching an IPython kernel.\n"
     ]
    }
   ],
   "source": [
    "result = collection.remove({'name': 'Jordan'})\n",
    "print(result)"
   ]
  },
  {
   "cell_type": "markdown",
   "id": "ee88bbd8",
   "metadata": {},
   "source": [
    "+ delete_one(条件)"
   ]
  },
  {
   "cell_type": "code",
   "execution_count": 76,
   "id": "810ea56b",
   "metadata": {},
   "outputs": [
    {
     "name": "stdout",
     "output_type": "stream",
     "text": [
      "<pymongo.results.DeleteResult object at 0x000000000A7FF088>\n",
      "0\n"
     ]
    }
   ],
   "source": [
    "result = collection.delete_one({'name': 'Mike'})\n",
    "\n",
    "print(result.deleted_count)"
   ]
  },
  {
   "cell_type": "markdown",
   "id": "559e8c38",
   "metadata": {},
   "source": [
    "+ delete_many(条件)"
   ]
  },
  {
   "cell_type": "code",
   "execution_count": 88,
   "id": "bec7c1c7",
   "metadata": {},
   "outputs": [
    {
     "name": "stdout",
     "output_type": "stream",
     "text": [
      "<pymongo.results.DeleteResult object at 0x0000000005CE5448>\n",
      "0\n"
     ]
    }
   ],
   "source": [
    "result = collection.delete_many({'age': {'$lt': 25}})\n",
    "print(result)\n",
    "print(result.deleted_count)"
   ]
  },
  {
   "cell_type": "markdown",
   "id": "ef92d0bd",
   "metadata": {},
   "source": [
    "+ 全部删除"
   ]
  },
  {
   "cell_type": "code",
   "execution_count": 87,
   "id": "3a9202b0",
   "metadata": {},
   "outputs": [
    {
     "name": "stdout",
     "output_type": "stream",
     "text": [
      "{'n': 0, 'ok': 1.0}\n"
     ]
    },
    {
     "name": "stderr",
     "output_type": "stream",
     "text": [
      "c:\\anaconda3\\envs\\py37\\lib\\site-packages\\ipykernel_launcher.py:1: DeprecationWarning: remove is deprecated. Use delete_one or delete_many instead.\n",
      "  \"\"\"Entry point for launching an IPython kernel.\n"
     ]
    }
   ],
   "source": [
    "result = collection.remove()\n",
    "print(result)"
   ]
  },
  {
   "cell_type": "markdown",
   "id": "b3c674a3",
   "metadata": {},
   "source": [
    "# 其他操作  \n",
    "另外， PyMongo  还提供了一些组合方法，如 find_one_and_delete 、 find_one_and_replace  和 find_one_and_update ，它们分别用于查找后删除、替换和更新操作，其使用方法与上述方法基本一致。  \n",
    "另外，我们还可以对索引进行操作，相关方法有 create_index 、 create_indexes  和 drop_index  等。"
   ]
  }
 ],
 "metadata": {
  "kernelspec": {
   "display_name": "Python 3 (ipykernel)",
   "language": "python",
   "name": "python3"
  },
  "language_info": {
   "codemirror_mode": {
    "name": "ipython",
    "version": 3
   },
   "file_extension": ".py",
   "mimetype": "text/x-python",
   "name": "python",
   "nbconvert_exporter": "python",
   "pygments_lexer": "ipython3",
   "version": "3.7.11"
  }
 },
 "nbformat": 4,
 "nbformat_minor": 5
}
