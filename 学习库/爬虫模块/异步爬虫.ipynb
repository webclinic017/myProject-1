{
 "cells": [
  {
   "cell_type": "markdown",
   "id": "0e022dd5",
   "metadata": {},
   "source": [
    "一个示例网站： https://static4.scrape.cuiqingcai.com/  \n",
    "该网站每次请求都需要等待5秒才能得到反馈。"
   ]
  },
  {
   "cell_type": "code",
   "execution_count": 2,
   "id": "65197353",
   "metadata": {},
   "outputs": [],
   "source": [
    "import requests\n",
    "import logging\n",
    "import time\n",
    "from requests.packages import urllib3\n",
    "urllib3.disable_warnings() # 忽略证书警告"
   ]
  },
  {
   "cell_type": "markdown",
   "id": "d39aaf64",
   "metadata": {},
   "source": [
    "### 下面是单线程爬虫"
   ]
  },
  {
   "cell_type": "code",
   "execution_count": 3,
   "id": "37cda784",
   "metadata": {},
   "outputs": [
    {
     "name": "stderr",
     "output_type": "stream",
     "text": [
      "2021-10-11 21:11:03,848 - INFO: https://static4.scrape.cuiqingcai.com/detail/1爬取中……\n",
      "2021-10-11 21:11:12,924 - INFO: https://static4.scrape.cuiqingcai.com/detail/2爬取中……\n",
      "2021-10-11 21:11:24,200 - INFO: https://static4.scrape.cuiqingcai.com/detail/3爬取中……\n",
      "2021-10-11 21:11:35,736 - INFO: https://static4.scrape.cuiqingcai.com/detail/4爬取中……\n",
      "2021-10-11 21:11:37,832 - INFO: https://static4.scrape.cuiqingcai.com/detail/5爬取中……\n",
      "2021-10-11 21:11:37,986 - INFO: https://static4.scrape.cuiqingcai.com/detail/6爬取中……\n",
      "2021-10-11 21:11:38,148 - INFO: https://static4.scrape.cuiqingcai.com/detail/7爬取中……\n",
      "2021-10-11 21:11:38,313 - INFO: https://static4.scrape.cuiqingcai.com/detail/8爬取中……\n",
      "2021-10-11 21:11:38,480 - INFO: https://static4.scrape.cuiqingcai.com/detail/9爬取中……\n",
      "2021-10-11 21:11:38,654 - INFO: https://static4.scrape.cuiqingcai.com/detail/10爬取中……\n",
      "2021-10-11 21:11:38,815 - INFO: https://static4.scrape.cuiqingcai.com/detail/11爬取中……\n",
      "2021-10-11 21:11:38,971 - INFO: https://static4.scrape.cuiqingcai.com/detail/12爬取中……\n",
      "2021-10-11 21:11:39,141 - INFO: https://static4.scrape.cuiqingcai.com/detail/13爬取中……\n",
      "2021-10-11 21:11:39,302 - INFO: https://static4.scrape.cuiqingcai.com/detail/14爬取中……\n",
      "2021-10-11 21:11:39,467 - INFO: https://static4.scrape.cuiqingcai.com/detail/15爬取中……\n",
      "2021-10-11 21:11:39,638 - INFO: https://static4.scrape.cuiqingcai.com/detail/16爬取中……\n",
      "2021-10-11 21:11:39,801 - INFO: https://static4.scrape.cuiqingcai.com/detail/17爬取中……\n",
      "2021-10-11 21:11:39,967 - INFO: https://static4.scrape.cuiqingcai.com/detail/18爬取中……\n",
      "2021-10-11 21:11:40,137 - INFO: https://static4.scrape.cuiqingcai.com/detail/19爬取中……\n",
      "2021-10-11 21:11:40,299 - INFO: https://static4.scrape.cuiqingcai.com/detail/20爬取中……\n",
      "2021-10-11 21:11:40,463 - INFO: https://static4.scrape.cuiqingcai.com/detail/21爬取中……\n",
      "2021-10-11 21:11:40,625 - INFO: https://static4.scrape.cuiqingcai.com/detail/22爬取中……\n",
      "2021-10-11 21:11:40,792 - INFO: https://static4.scrape.cuiqingcai.com/detail/23爬取中……\n",
      "2021-10-11 21:11:40,967 - INFO: https://static4.scrape.cuiqingcai.com/detail/24爬取中……\n",
      "2021-10-11 21:11:41,137 - INFO: https://static4.scrape.cuiqingcai.com/detail/25爬取中……\n",
      "2021-10-11 21:11:41,291 - INFO: https://static4.scrape.cuiqingcai.com/detail/26爬取中……\n",
      "2021-10-11 21:11:41,459 - INFO: https://static4.scrape.cuiqingcai.com/detail/27爬取中……\n",
      "2021-10-11 21:11:41,612 - INFO: https://static4.scrape.cuiqingcai.com/detail/28爬取中……\n",
      "2021-10-11 21:11:41,782 - INFO: https://static4.scrape.cuiqingcai.com/detail/29爬取中……\n",
      "2021-10-11 21:11:41,939 - INFO: https://static4.scrape.cuiqingcai.com/detail/30爬取中……\n",
      "2021-10-11 21:11:42,092 - INFO: https://static4.scrape.cuiqingcai.com/detail/31爬取中……\n",
      "2021-10-11 21:11:42,243 - INFO: https://static4.scrape.cuiqingcai.com/detail/32爬取中……\n",
      "2021-10-11 21:11:42,396 - INFO: https://static4.scrape.cuiqingcai.com/detail/33爬取中……\n",
      "2021-10-11 21:11:42,545 - INFO: https://static4.scrape.cuiqingcai.com/detail/34爬取中……\n",
      "2021-10-11 21:11:42,752 - INFO: https://static4.scrape.cuiqingcai.com/detail/35爬取中……\n",
      "2021-10-11 21:11:42,923 - INFO: https://static4.scrape.cuiqingcai.com/detail/36爬取中……\n",
      "2021-10-11 21:11:43,084 - INFO: https://static4.scrape.cuiqingcai.com/detail/37爬取中……\n",
      "2021-10-11 21:11:43,240 - INFO: https://static4.scrape.cuiqingcai.com/detail/38爬取中……\n",
      "2021-10-11 21:11:43,408 - INFO: https://static4.scrape.cuiqingcai.com/detail/39爬取中……\n",
      "2021-10-11 21:11:43,561 - INFO: https://static4.scrape.cuiqingcai.com/detail/40爬取中……\n",
      "2021-10-11 21:11:43,713 - INFO: https://static4.scrape.cuiqingcai.com/detail/41爬取中……\n",
      "2021-10-11 21:11:43,855 - INFO: https://static4.scrape.cuiqingcai.com/detail/42爬取中……\n",
      "2021-10-11 21:11:44,008 - INFO: https://static4.scrape.cuiqingcai.com/detail/43爬取中……\n",
      "2021-10-11 21:11:44,156 - INFO: https://static4.scrape.cuiqingcai.com/detail/44爬取中……\n",
      "2021-10-11 21:11:44,313 - INFO: https://static4.scrape.cuiqingcai.com/detail/45爬取中……\n",
      "2021-10-11 21:11:44,480 - INFO: https://static4.scrape.cuiqingcai.com/detail/46爬取中……\n",
      "2021-10-11 21:11:44,647 - INFO: https://static4.scrape.cuiqingcai.com/detail/47爬取中……\n",
      "2021-10-11 21:11:44,807 - INFO: https://static4.scrape.cuiqingcai.com/detail/48爬取中……\n",
      "2021-10-11 21:11:44,960 - INFO: https://static4.scrape.cuiqingcai.com/detail/49爬取中……\n",
      "2021-10-11 21:11:45,115 - INFO: https://static4.scrape.cuiqingcai.com/detail/50爬取中……\n",
      "2021-10-11 21:11:45,273 - INFO: https://static4.scrape.cuiqingcai.com/detail/51爬取中……\n",
      "2021-10-11 21:11:45,415 - INFO: https://static4.scrape.cuiqingcai.com/detail/52爬取中……\n",
      "2021-10-11 21:11:45,561 - INFO: https://static4.scrape.cuiqingcai.com/detail/53爬取中……\n",
      "2021-10-11 21:11:45,732 - INFO: https://static4.scrape.cuiqingcai.com/detail/54爬取中……\n",
      "2021-10-11 21:11:45,871 - INFO: https://static4.scrape.cuiqingcai.com/detail/55爬取中……\n",
      "2021-10-11 21:11:46,019 - INFO: https://static4.scrape.cuiqingcai.com/detail/56爬取中……\n",
      "2021-10-11 21:11:46,183 - INFO: https://static4.scrape.cuiqingcai.com/detail/57爬取中……\n",
      "2021-10-11 21:11:46,332 - INFO: https://static4.scrape.cuiqingcai.com/detail/58爬取中……\n",
      "2021-10-11 21:11:46,492 - INFO: https://static4.scrape.cuiqingcai.com/detail/59爬取中……\n",
      "2021-10-11 21:11:46,641 - INFO: https://static4.scrape.cuiqingcai.com/detail/60爬取中……\n",
      "2021-10-11 21:11:46,806 - INFO: https://static4.scrape.cuiqingcai.com/detail/61爬取中……\n",
      "2021-10-11 21:11:46,951 - INFO: https://static4.scrape.cuiqingcai.com/detail/62爬取中……\n",
      "2021-10-11 21:11:47,100 - INFO: https://static4.scrape.cuiqingcai.com/detail/63爬取中……\n",
      "2021-10-11 21:11:47,259 - INFO: https://static4.scrape.cuiqingcai.com/detail/64爬取中……\n",
      "2021-10-11 21:11:47,404 - INFO: https://static4.scrape.cuiqingcai.com/detail/65爬取中……\n",
      "2021-10-11 21:11:47,561 - INFO: https://static4.scrape.cuiqingcai.com/detail/66爬取中……\n",
      "2021-10-11 21:11:47,712 - INFO: https://static4.scrape.cuiqingcai.com/detail/67爬取中……\n",
      "2021-10-11 21:11:47,860 - INFO: https://static4.scrape.cuiqingcai.com/detail/68爬取中……\n",
      "2021-10-11 21:11:48,013 - INFO: https://static4.scrape.cuiqingcai.com/detail/69爬取中……\n",
      "2021-10-11 21:11:48,168 - INFO: https://static4.scrape.cuiqingcai.com/detail/70爬取中……\n",
      "2021-10-11 21:11:48,319 - INFO: https://static4.scrape.cuiqingcai.com/detail/71爬取中……\n",
      "2021-10-11 21:11:48,480 - INFO: https://static4.scrape.cuiqingcai.com/detail/72爬取中……\n",
      "2021-10-11 21:11:48,628 - INFO: https://static4.scrape.cuiqingcai.com/detail/73爬取中……\n",
      "2021-10-11 21:11:48,782 - INFO: https://static4.scrape.cuiqingcai.com/detail/74爬取中……\n",
      "2021-10-11 21:11:48,942 - INFO: https://static4.scrape.cuiqingcai.com/detail/75爬取中……\n",
      "2021-10-11 21:11:49,104 - INFO: https://static4.scrape.cuiqingcai.com/detail/76爬取中……\n",
      "2021-10-11 21:11:49,271 - INFO: https://static4.scrape.cuiqingcai.com/detail/77爬取中……\n",
      "2021-10-11 21:12:06,932 - INFO: https://static4.scrape.cuiqingcai.com/detail/78爬取中……\n",
      "2021-10-11 21:12:07,080 - INFO: https://static4.scrape.cuiqingcai.com/detail/79爬取中……\n",
      "2021-10-11 21:12:07,241 - INFO: https://static4.scrape.cuiqingcai.com/detail/80爬取中……\n",
      "2021-10-11 21:12:07,412 - INFO: https://static4.scrape.cuiqingcai.com/detail/81爬取中……\n",
      "2021-10-11 21:12:07,587 - INFO: https://static4.scrape.cuiqingcai.com/detail/82爬取中……\n",
      "2021-10-11 21:12:07,751 - INFO: https://static4.scrape.cuiqingcai.com/detail/83爬取中……\n",
      "2021-10-11 21:12:07,910 - INFO: https://static4.scrape.cuiqingcai.com/detail/84爬取中……\n",
      "2021-10-11 21:12:08,065 - INFO: https://static4.scrape.cuiqingcai.com/detail/85爬取中……\n",
      "2021-10-11 21:12:08,232 - INFO: https://static4.scrape.cuiqingcai.com/detail/86爬取中……\n",
      "2021-10-11 21:12:08,398 - INFO: https://static4.scrape.cuiqingcai.com/detail/87爬取中……\n",
      "2021-10-11 21:12:08,552 - INFO: https://static4.scrape.cuiqingcai.com/detail/88爬取中……\n",
      "2021-10-11 21:12:35,075 - INFO: https://static4.scrape.cuiqingcai.com/detail/89爬取中……\n",
      "2021-10-11 21:12:41,096 - INFO: https://static4.scrape.cuiqingcai.com/detail/90爬取中……\n",
      "2021-10-11 21:12:46,876 - INFO: https://static4.scrape.cuiqingcai.com/detail/91爬取中……\n",
      "2021-10-11 21:12:52,576 - INFO: https://static4.scrape.cuiqingcai.com/detail/92爬取中……\n",
      "2021-10-11 21:12:58,294 - INFO: https://static4.scrape.cuiqingcai.com/detail/93爬取中……\n",
      "2021-10-11 21:13:04,207 - INFO: https://static4.scrape.cuiqingcai.com/detail/94爬取中……\n",
      "2021-10-11 21:13:09,993 - INFO: https://static4.scrape.cuiqingcai.com/detail/95爬取中……\n",
      "2021-10-11 21:13:21,587 - INFO: https://static4.scrape.cuiqingcai.com/detail/96爬取中……\n",
      "2021-10-11 21:13:32,892 - INFO: https://static4.scrape.cuiqingcai.com/detail/97爬取中……\n"
     ]
    },
    {
     "name": "stderr",
     "output_type": "stream",
     "text": [
      "2021-10-11 21:13:44,091 - INFO: https://static4.scrape.cuiqingcai.com/detail/98爬取中……\n",
      "2021-10-11 21:13:46,743 - INFO: https://static4.scrape.cuiqingcai.com/detail/99爬取中……\n",
      "2021-10-11 21:13:46,921 - INFO: https://static4.scrape.cuiqingcai.com/detail/100爬取中……\n",
      "2021-10-11 21:13:47,096 - INFO: 总用时 163.24899983406067 秒\n"
     ]
    }
   ],
   "source": [
    "logging.basicConfig(level=logging.INFO,\n",
    "                    format='%(asctime)s - %(levelname)s: %(message)s')\n",
    "TOTAL_NUMBER = 100\n",
    "BASE_URL = 'https://static4.scrape.cuiqingcai.com/detail/{}'\n",
    "start_time = time.time()\n",
    "for id in range(1, TOTAL_NUMBER + 1):\n",
    "    url = BASE_URL.format(id)\n",
    "    logging.info('%s爬取中……', url)\n",
    "    response = requests.get(url,verify=False)\n",
    "end_time = time.time()\n",
    "logging.info('总用时 %s 秒', end_time - start_time)"
   ]
  },
  {
   "cell_type": "markdown",
   "id": "2adcb5d3",
   "metadata": {},
   "source": [
    "# 几个概念\n",
    "### 阻塞\n",
    "阻塞状态指程序未得到所需计算资源时被挂起的状态。程序在等待某个操作完成期间，自身无法继续处理其他的事情，则称该程序在该操作上是阻塞的。\n",
    "### 非阻塞\n",
    "程序在等待某操作过程中，自身不被阻塞，可以继续处理其他的事情，则称该程序在该操作上是非阻塞的。\n",
    "### 同步（有序）\n",
    "不同程序单元为了完成某个任务，在执行过程中需靠某种通信方式以协调一致，我们称这些程序单元是同步执行的。\n",
    "### 异步（无序）\n",
    "为完成某个任务，不同程序单元之间过程中无需通信协调，也能完成任务的方式，不相关的程序单元之间可以是异步的。\n",
    "### 协程\n",
    "协程拥有自己的寄存器上下文和栈。协程调度切换时，将寄存器上下文和栈保存到其他地方，在切回来的时候，恢复先前保存的寄存器上下文和栈。因此协程能保留上一次调用时的状态，即所有局部状态的一个特定组合，每次过程重入时，就相当于进入上一次调用的状态。\n",
    "1. event_loop ：事件循环，相当于一个无限循环，我们可以把一些函数注册到这个事件循环上，当满足条件发生的时候，就会调用对应的处理方法。\n",
    "2. coroutine ：中文翻译叫协程，在 Python  中常指代为协程对象类型，我们可以将协程对象注册到事件循环中，它会被事件循环调用。我们可以使用 async  关键字来定义一个方法，这个方法在调用时不会立即被执行，而是返回一个协程对象。\n",
    "3. task ：任务，它是对协程对象的进一步封装，包含了任务的各个状态。\n",
    "4. future ：代表将来执行或没有执行的任务的结果，实际上和 task  没有本质区别。"
   ]
  },
  {
   "cell_type": "markdown",
   "id": "79252de5",
   "metadata": {},
   "source": [
    "### 协程爬虫"
   ]
  },
  {
   "cell_type": "code",
   "execution_count": null,
   "id": "b3ad3cfa",
   "metadata": {},
   "outputs": [],
   "source": [
    "import asyncio\n"
   ]
  }
 ],
 "metadata": {
  "kernelspec": {
   "display_name": "Python 3 (ipykernel)",
   "language": "python",
   "name": "python3"
  },
  "language_info": {
   "codemirror_mode": {
    "name": "ipython",
    "version": 3
   },
   "file_extension": ".py",
   "mimetype": "text/x-python",
   "name": "python",
   "nbconvert_exporter": "python",
   "pygments_lexer": "ipython3",
   "version": "3.7.11"
  }
 },
 "nbformat": 4,
 "nbformat_minor": 5
}
