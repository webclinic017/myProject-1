{
 "cells": [
  {
   "cell_type": "raw",
   "id": "7aa655d5",
   "metadata": {},
   "source": [
    "每个网页，都有一定的特殊结构和层级关系，而且很多节点都有 id  或 class  作为区分，我们可以借助它们的结构和属性来提取信息吗？"
   ]
  },
  {
   "cell_type": "raw",
   "id": "47234edc",
   "metadata": {},
   "source": [
    "!pip install pyquery"
   ]
  },
  {
   "cell_type": "code",
   "execution_count": 118,
   "id": "5302a1b5",
   "metadata": {},
   "outputs": [],
   "source": [
    "from pyquery import PyQuery as pq"
   ]
  },
  {
   "cell_type": "markdown",
   "id": "75082fc3",
   "metadata": {},
   "source": [
    "# 初始化\n",
    "我们在解析HTML文本的时候，首先需要将其初始化为一个pyquery对象。它的初始化方式有多种，比如直接传入字符串、传入URL、传入文件名等等。\n",
    "## 1.字符串初始化"
   ]
  },
  {
   "cell_type": "code",
   "execution_count": 119,
   "id": "3a03dd5b",
   "metadata": {},
   "outputs": [
    {
     "data": {
      "text/plain": [
       "[<li.item-0>, <li.item-1>, <li.item-0.active>, <li.item-1.active>, <li.item-0>]"
      ]
     },
     "execution_count": 119,
     "metadata": {},
     "output_type": "execute_result"
    }
   ],
   "source": [
    "html = '''\n",
    "<div id=\"container\">\n",
    "    <ul class=\"list\">\n",
    "        <li class=\"item-0\">first item</li>\n",
    "        <li class=\"item-1\"><a href=\"link2.html\">second item</a></li>\n",
    "        <li class=\"item-0 active\"><a href=\"link3.html\"><span class=\"bold\">third item</span></a></li>\n",
    "        <li class=\"item-1 active\"><a href=\"link4.html\">fourth item</a></li>\n",
    "        <li class=\"item-0\"><a href=\"link5.html\">fifth item</a></li>\n",
    "    </ul>\n",
    "</div>\n",
    "'''\n",
    "doc = pq(html) # 将(HTML字符串)当作参数传递给pyquery，这样就成功完成了初始化。\n",
    "doc('li') # CSS选择器 直接提取所有的li节点"
   ]
  },
  {
   "cell_type": "markdown",
   "id": "d2f7838c",
   "metadata": {},
   "source": [
    "## 2.URL初始化\n",
    "初始化url：https://cuiqingcai.com"
   ]
  },
  {
   "cell_type": "code",
   "execution_count": 120,
   "id": "383610cd",
   "metadata": {},
   "outputs": [
    {
     "name": "stdout",
     "output_type": "stream",
     "text": [
      "<title>静觅丨崔庆才的个人站点</title>\n",
      "  \n"
     ]
    }
   ],
   "source": [
    "doc = pq(url='https://cuiqingcai.com')\n",
    "print(doc('title'))"
   ]
  },
  {
   "cell_type": "markdown",
   "id": "f6d9a05d",
   "metadata": {},
   "source": [
    "## 3.文件初始化\n",
    "当然除了传递一个 URL ，我们还可以传递本地的文件名，参数指定为 filename  即可：\n",
    "```doc = pq(filename='demo.html')\n",
    "print(doc('li'))```"
   ]
  },
  {
   "cell_type": "markdown",
   "id": "c30d330e",
   "metadata": {},
   "source": [
    "# CSS选择器"
   ]
  },
  {
   "cell_type": "code",
   "execution_count": 121,
   "id": "69132252",
   "metadata": {},
   "outputs": [
    {
     "name": "stdout",
     "output_type": "stream",
     "text": [
      "<a href=\"link3.html\"><span class=\"bold\">third item</span></a>\n"
     ]
    }
   ],
   "source": [
    "doc = pq(html)\n",
    "print(doc('.item-0.active a'))"
   ]
  },
  {
   "cell_type": "markdown",
   "id": "65c7edb8",
   "metadata": {},
   "source": [
    "## 1.查找节点"
   ]
  },
  {
   "cell_type": "code",
   "execution_count": 122,
   "id": "5f306173",
   "metadata": {},
   "outputs": [],
   "source": [
    "html = '''\n",
    "<div class=\"wrap\">\n",
    "    <div id=\"container\">\n",
    "        <ul class=\"list\">\n",
    "            <li class=\"item-0\">first item</li>\n",
    "            <li class=\"item-1\"><a href=\"link2.html\">second item</a></li>\n",
    "            <li class=\"item-0 active\">\n",
    "                <a href=\"link3.html\">\n",
    "                    <li class=\"bold\">third item</li>\n",
    "                </a>\n",
    "            </li>\n",
    "            <li class=\"item-1 active\"><a href=\"link4.html\">fourth item</a></li>\n",
    "            <li class=\"item-0\"><a href=\"link5.html\">fifth item</a></li>\n",
    "        </ul>\n",
    "    </div>\n",
    "</div>\n",
    "'''\n",
    "doc = pq(html)\n",
    "items = doc('.list')"
   ]
  },
  {
   "cell_type": "markdown",
   "id": "f2850556",
   "metadata": {},
   "source": [
    "### 1.1子节点"
   ]
  },
  {
   "cell_type": "code",
   "execution_count": 123,
   "id": "90788a7f",
   "metadata": {},
   "outputs": [
    {
     "data": {
      "text/plain": [
       "[<li.item-0>, <li.item-1>, <li.item-0.active>, <li.item-1.active>, <li.item-0>]"
      ]
     },
     "execution_count": 123,
     "metadata": {},
     "output_type": "execute_result"
    }
   ],
   "source": [
    "zi = items.children('li') # 子节点\n",
    "zi"
   ]
  },
  {
   "cell_type": "markdown",
   "id": "ad7c81dd",
   "metadata": {},
   "source": [
    "### 1.2 子孙节点"
   ]
  },
  {
   "cell_type": "code",
   "execution_count": 124,
   "id": "9d1db2d7",
   "metadata": {},
   "outputs": [
    {
     "data": {
      "text/plain": [
       "[<li.bold>]"
      ]
     },
     "execution_count": 124,
     "metadata": {},
     "output_type": "execute_result"
    }
   ],
   "source": [
    "zisun = items.find('li .bold') # 子孙节点\n",
    "zisun"
   ]
  },
  {
   "cell_type": "markdown",
   "id": "b80415fe",
   "metadata": {},
   "source": [
    "### 1.3父节点"
   ]
  },
  {
   "cell_type": "code",
   "execution_count": 125,
   "id": "5df0e0b8",
   "metadata": {},
   "outputs": [
    {
     "data": {
      "text/plain": [
       "[<div#container>]"
      ]
     },
     "execution_count": 125,
     "metadata": {},
     "output_type": "execute_result"
    }
   ],
   "source": [
    "parent = items.parent()\n",
    "parent"
   ]
  },
  {
   "cell_type": "markdown",
   "id": "2e412b7c",
   "metadata": {},
   "source": [
    "### 1.4祖先节点"
   ]
  },
  {
   "cell_type": "code",
   "execution_count": 126,
   "id": "8e209649",
   "metadata": {},
   "outputs": [
    {
     "data": {
      "text/plain": [
       "[<div.wrap>]"
      ]
     },
     "execution_count": 126,
     "metadata": {},
     "output_type": "execute_result"
    }
   ],
   "source": [
    "parents = items.parents('.wrap')\n",
    "parents"
   ]
  },
  {
   "cell_type": "markdown",
   "id": "d527b72b",
   "metadata": {},
   "source": [
    "### 1.5兄弟节点"
   ]
  },
  {
   "cell_type": "code",
   "execution_count": 127,
   "id": "03a3cb17",
   "metadata": {},
   "outputs": [
    {
     "data": {
      "text/plain": [
       "[<li.item-1>, <li.item-0>, <li.item-1.active>, <li.item-0>]"
      ]
     },
     "execution_count": 127,
     "metadata": {},
     "output_type": "execute_result"
    }
   ],
   "source": [
    "li = doc('.list .item-0.active')\n",
    "li.siblings()"
   ]
  },
  {
   "cell_type": "markdown",
   "id": "4c112b63",
   "metadata": {},
   "source": [
    "### 1.6遍历节点\n",
    "调用 items方法 得到一个生成器，遍历一下，就可以逐个得到所有节点对象了"
   ]
  },
  {
   "cell_type": "code",
   "execution_count": 128,
   "id": "0bc5473c",
   "metadata": {},
   "outputs": [
    {
     "name": "stdout",
     "output_type": "stream",
     "text": [
      "<li class=\"item-1\"><a href=\"link2.html\">second item</a></li>\n",
      "            \n",
      "<li class=\"item-0\">first item</li>\n",
      "            \n",
      "<li class=\"item-1 active\"><a href=\"link4.html\">fourth item</a></li>\n",
      "            \n",
      "<li class=\"item-0\"><a href=\"link5.html\">fifth item</a></li>\n",
      "        \n"
     ]
    }
   ],
   "source": [
    "A = li.siblings().items()\n",
    "for a in A:\n",
    "    print(a)"
   ]
  },
  {
   "cell_type": "markdown",
   "id": "7420df85",
   "metadata": {},
   "source": [
    "## 2.获取信息\n",
    "比较重要的信息有两类，一是属性，二是文本。\n",
    "### 2.1获取属性\n",
    "可以调用 attr  方法来获取属性"
   ]
  },
  {
   "cell_type": "code",
   "execution_count": 129,
   "id": "4e908142",
   "metadata": {},
   "outputs": [
    {
     "name": "stdout",
     "output_type": "stream",
     "text": [
      "bold\n"
     ]
    }
   ],
   "source": [
    "zisun = items.find('li .bold')\n",
    "print(zisun.attr('class'))"
   ]
  },
  {
   "cell_type": "markdown",
   "id": "59b7441e",
   "metadata": {},
   "source": [
    "### 2.2获取文本\n",
    "text文本，html文本"
   ]
  },
  {
   "cell_type": "code",
   "execution_count": 130,
   "id": "8ce254b8",
   "metadata": {},
   "outputs": [
    {
     "name": "stdout",
     "output_type": "stream",
     "text": [
      "third item \n",
      "********************** \n",
      "                <a href=\"link3.html\">\n",
      "                    <li class=\"bold\">third item</li>\n",
      "                </a>\n",
      "            \n"
     ]
    }
   ],
   "source": [
    "a = items.children('.item-0.active')\n",
    "print(a.text(),'\\n**********************',a.html())"
   ]
  },
  {
   "cell_type": "markdown",
   "id": "5c0ae34a",
   "metadata": {},
   "source": [
    "## 3.节点操作\n",
    "对节点进行动态修改，比如为某个节点添加一个 class ，移除某个节点等\n",
    "### 3.1addClass 和 removeClass"
   ]
  },
  {
   "cell_type": "code",
   "execution_count": 131,
   "id": "15654037",
   "metadata": {},
   "outputs": [
    {
     "name": "stdout",
     "output_type": "stream",
     "text": [
      "删除前： <li class=\"item-1 active\"><a href=\"link4.html\">fourth item</a></li>\n",
      "            \n",
      "删除后： <li class=\"item-1\"><a href=\"link4.html\">fourth item</a></li>\n",
      "            \n",
      "添加后： <li class=\"item-1 active\"><a href=\"link4.html\">fourth item</a></li>\n",
      "            \n"
     ]
    }
   ],
   "source": [
    "li = doc('.item-1.active')\n",
    "print('删除前：',li)\n",
    "li.removeClass('active')\n",
    "print('删除后：',li)\n",
    "li.addClass('active')\n",
    "print('添加后：',li)"
   ]
  },
  {
   "cell_type": "markdown",
   "id": "2a3d742e",
   "metadata": {},
   "source": [
    "### 3.2attr 、 text 、 html"
   ]
  },
  {
   "cell_type": "code",
   "execution_count": 132,
   "id": "21f5fb47",
   "metadata": {},
   "outputs": [
    {
     "name": "stdout",
     "output_type": "stream",
     "text": [
      "改   前： <li class=\"item-1 active\"><a href=\"link4.html\">fourth item</a></li>\n",
      "            \n",
      "改属性后： <li class=\"item-1 active\" name=\"link\"><a href=\"link4.html\">fourth item</a></li>\n",
      "            \n",
      "改文本后： <li class=\"item-1 active\" name=\"link\">testing text</li>\n",
      "            \n",
      "改html后： <li class=\"item-1 active\" name=\"link\"><span>testing</span></li>\n",
      "            \n"
     ]
    }
   ],
   "source": [
    "li = doc('.item-1.active')\n",
    "print('改   前：',li)\n",
    "\n",
    "li.attr('name', 'link')\n",
    "print('改属性后：',li)\n",
    "\n",
    "li.text('testing text')\n",
    "print('改文本后：',li)\n",
    "\n",
    "li.html('<span>testing</span>')\n",
    "print('改html后：',li)"
   ]
  },
  {
   "cell_type": "markdown",
   "id": "fcd23365",
   "metadata": {},
   "source": [
    "### 3.3remove"
   ]
  },
  {
   "cell_type": "code",
   "execution_count": 133,
   "id": "a6faa3ba",
   "metadata": {},
   "outputs": [
    {
     "name": "stdout",
     "output_type": "stream",
     "text": [
      "Hello, World\n",
      "This is a paragraph. \n",
      "****************\n",
      "Hello, World\n"
     ]
    }
   ],
   "source": [
    "html = '''\n",
    "<div class=\"wrap\">\n",
    "Hello, World\n",
    "<p>This is a paragraph.</p>\n",
    "</div>\n",
    "'''\n",
    "doc = pq(html)\n",
    "wrap = doc('.wrap')\n",
    "print(wrap.text(),'\\n****************')\n",
    "\n",
    "wrap.find('p').remove()\n",
    "print(wrap.text())"
   ]
  },
  {
   "cell_type": "raw",
   "id": "78e34182",
   "metadata": {},
   "source": []
  },
  {
   "cell_type": "raw",
   "id": "7c16e918",
   "metadata": {},
   "source": []
  },
  {
   "cell_type": "raw",
   "id": "6b03802f",
   "metadata": {},
   "source": []
  }
 ],
 "metadata": {
  "kernelspec": {
   "display_name": "Python 3 (ipykernel)",
   "language": "python",
   "name": "python3"
  },
  "language_info": {
   "codemirror_mode": {
    "name": "ipython",
    "version": 3
   },
   "file_extension": ".py",
   "mimetype": "text/x-python",
   "name": "python",
   "nbconvert_exporter": "python",
   "pygments_lexer": "ipython3",
   "version": "3.7.11"
  }
 },
 "nbformat": 4,
 "nbformat_minor": 5
}
