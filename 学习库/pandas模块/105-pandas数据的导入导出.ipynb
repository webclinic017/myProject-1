{
 "cells": [
  {
   "cell_type": "code",
   "execution_count": 1,
   "id": "551a3dc0",
   "metadata": {},
   "outputs": [],
   "source": [
    "import pandas as pd \n",
    "import numpy as np"
   ]
  },
  {
   "attachments": {
    "2.jpg": {
     "image/jpeg": "[encoded data removed]"
    }
   },
   "cell_type": "markdown",
   "id": "99ee8920",
   "metadata": {},
   "source": [
    "![2.jpg](attachment:2.jpg)"
   ]
  },
  {
   "cell_type": "markdown",
   "id": "8a3ac0e3",
   "metadata": {},
   "source": [
    "# 导入文件"
   ]
  },
  {
   "cell_type": "code",
   "execution_count": 2,
   "id": "658beebe",
   "metadata": {},
   "outputs": [
    {
     "data": {
      "text/html": [
       "<div>\n",
       "<style scoped>\n",
       "    .dataframe tbody tr th:only-of-type {\n",
       "        vertical-align: middle;\n",
       "    }\n",
       "\n",
       "    .dataframe tbody tr th {\n",
       "        vertical-align: top;\n",
       "    }\n",
       "\n",
       "    .dataframe thead th {\n",
       "        text-align: right;\n",
       "    }\n",
       "</style>\n",
       "<table border=\"1\" class=\"dataframe\">\n",
       "  <thead>\n",
       "    <tr style=\"text-align: right;\">\n",
       "      <th></th>\n",
       "      <th>Student ID</th>\n",
       "      <th>name</th>\n",
       "      <th>age</th>\n",
       "      <th>gender</th>\n",
       "    </tr>\n",
       "  </thead>\n",
       "  <tbody>\n",
       "    <tr>\n",
       "      <th>0</th>\n",
       "      <td>1100</td>\n",
       "      <td>Kelly</td>\n",
       "      <td>22</td>\n",
       "      <td>Female</td>\n",
       "    </tr>\n",
       "    <tr>\n",
       "      <th>1</th>\n",
       "      <td>1101</td>\n",
       "      <td>Clo</td>\n",
       "      <td>21</td>\n",
       "      <td>Female</td>\n",
       "    </tr>\n",
       "    <tr>\n",
       "      <th>2</th>\n",
       "      <td>1102</td>\n",
       "      <td>Tilly</td>\n",
       "      <td>22</td>\n",
       "      <td>Female</td>\n",
       "    </tr>\n",
       "    <tr>\n",
       "      <th>3</th>\n",
       "      <td>1103</td>\n",
       "      <td>Tony</td>\n",
       "      <td>24</td>\n",
       "      <td>Male</td>\n",
       "    </tr>\n",
       "    <tr>\n",
       "      <th>4</th>\n",
       "      <td>1104</td>\n",
       "      <td>David</td>\n",
       "      <td>20</td>\n",
       "      <td>Male</td>\n",
       "    </tr>\n",
       "    <tr>\n",
       "      <th>5</th>\n",
       "      <td>1105</td>\n",
       "      <td>Catty</td>\n",
       "      <td>22</td>\n",
       "      <td>Female</td>\n",
       "    </tr>\n",
       "    <tr>\n",
       "      <th>6</th>\n",
       "      <td>1106</td>\n",
       "      <td>M</td>\n",
       "      <td>3</td>\n",
       "      <td>Female</td>\n",
       "    </tr>\n",
       "    <tr>\n",
       "      <th>7</th>\n",
       "      <td>1107</td>\n",
       "      <td>N</td>\n",
       "      <td>43</td>\n",
       "      <td>Male</td>\n",
       "    </tr>\n",
       "    <tr>\n",
       "      <th>8</th>\n",
       "      <td>1108</td>\n",
       "      <td>A</td>\n",
       "      <td>13</td>\n",
       "      <td>Male</td>\n",
       "    </tr>\n",
       "    <tr>\n",
       "      <th>9</th>\n",
       "      <td>1109</td>\n",
       "      <td>S</td>\n",
       "      <td>12</td>\n",
       "      <td>Male</td>\n",
       "    </tr>\n",
       "    <tr>\n",
       "      <th>10</th>\n",
       "      <td>1110</td>\n",
       "      <td>David</td>\n",
       "      <td>33</td>\n",
       "      <td>Male</td>\n",
       "    </tr>\n",
       "    <tr>\n",
       "      <th>11</th>\n",
       "      <td>1111</td>\n",
       "      <td>Dw</td>\n",
       "      <td>3</td>\n",
       "      <td>Female</td>\n",
       "    </tr>\n",
       "    <tr>\n",
       "      <th>12</th>\n",
       "      <td>1112</td>\n",
       "      <td>Q</td>\n",
       "      <td>23</td>\n",
       "      <td>Male</td>\n",
       "    </tr>\n",
       "    <tr>\n",
       "      <th>13</th>\n",
       "      <td>1113</td>\n",
       "      <td>W</td>\n",
       "      <td>21</td>\n",
       "      <td>Female</td>\n",
       "    </tr>\n",
       "  </tbody>\n",
       "</table>\n",
       "</div>"
      ],
      "text/plain": [
       "    Student ID  name   age  gender\n",
       "0         1100  Kelly   22  Female\n",
       "1         1101    Clo   21  Female\n",
       "2         1102  Tilly   22  Female\n",
       "3         1103   Tony   24    Male\n",
       "4         1104  David   20    Male\n",
       "5         1105  Catty   22  Female\n",
       "6         1106      M    3  Female\n",
       "7         1107      N   43    Male\n",
       "8         1108      A   13    Male\n",
       "9         1109      S   12    Male\n",
       "10        1110  David   33    Male\n",
       "11        1111     Dw    3  Female\n",
       "12        1112      Q   23    Male\n",
       "13        1113      W   21  Female"
      ]
     },
     "execution_count": 2,
     "metadata": {},
     "output_type": "execute_result"
    }
   ],
   "source": [
    "data=pd.read_csv('student.csv')\n",
    "data"
   ]
  },
  {
   "cell_type": "markdown",
   "id": "8ec05736",
   "metadata": {},
   "source": [
    "+ pandas 会自动把索引数字加上"
   ]
  },
  {
   "cell_type": "markdown",
   "id": "499214a6",
   "metadata": {},
   "source": [
    "# 导出文件"
   ]
  },
  {
   "cell_type": "code",
   "execution_count": 8,
   "id": "1eb3ff65",
   "metadata": {},
   "outputs": [],
   "source": [
    "data.to_pickle('student.pickle')"
   ]
  },
  {
   "cell_type": "markdown",
   "id": "9ae513bc",
   "metadata": {},
   "source": [
    "+ 此时，student.pickle文件就已经存在于目录中了"
   ]
  }
 ],
 "metadata": {
  "kernelspec": {
   "display_name": "Python 3",
   "language": "python",
   "name": "python3"
  },
  "language_info": {
   "codemirror_mode": {
    "name": "ipython",
    "version": 3
   },
   "file_extension": ".py",
   "mimetype": "text/x-python",
   "name": "python",
   "nbconvert_exporter": "python",
   "pygments_lexer": "ipython3",
   "version": "3.6.13"
  }
 },
 "nbformat": 4,
 "nbformat_minor": 5
}
