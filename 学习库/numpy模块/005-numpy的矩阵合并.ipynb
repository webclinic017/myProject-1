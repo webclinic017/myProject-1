{
 "cells": [
  {
   "cell_type": "code",
   "execution_count": 22,
   "id": "a62a93ea",
   "metadata": {},
   "outputs": [],
   "source": [
    "import numpy as np"
   ]
  },
  {
   "cell_type": "code",
   "execution_count": 23,
   "id": "1398ae96",
   "metadata": {},
   "outputs": [],
   "source": [
    "A=np.array([1,1,1])\n",
    "B=np.array([2,2,2])"
   ]
  },
  {
   "cell_type": "markdown",
   "id": "631f2792",
   "metadata": {},
   "source": [
    "+ 上下合并 --- vstack"
   ]
  },
  {
   "cell_type": "code",
   "execution_count": 24,
   "id": "80a5e8fc",
   "metadata": {},
   "outputs": [
    {
     "data": {
      "text/plain": [
       "array([[1, 1, 1],\n",
       "       [2, 2, 2]])"
      ]
     },
     "execution_count": 24,
     "metadata": {},
     "output_type": "execute_result"
    }
   ],
   "source": [
    "np.vstack((A,B))"
   ]
  },
  {
   "cell_type": "markdown",
   "id": "df7ca52b",
   "metadata": {},
   "source": [
    "+ 左右合并 --- hstack"
   ]
  },
  {
   "cell_type": "code",
   "execution_count": 25,
   "id": "066c212b",
   "metadata": {},
   "outputs": [
    {
     "data": {
      "text/plain": [
       "array([1, 1, 1, 2, 2, 2])"
      ]
     },
     "execution_count": 25,
     "metadata": {},
     "output_type": "execute_result"
    }
   ],
   "source": [
    "np.hstack((A,B))"
   ]
  },
  {
   "cell_type": "markdown",
   "id": "3595245c",
   "metadata": {},
   "source": [
    "+ 不能简单的通过转置把  横向的序列  变成  竖向的矩阵"
   ]
  },
  {
   "cell_type": "code",
   "execution_count": 29,
   "id": "2cb45890",
   "metadata": {},
   "outputs": [
    {
     "data": {
      "text/plain": [
       "array([1, 1, 1])"
      ]
     },
     "execution_count": 29,
     "metadata": {},
     "output_type": "execute_result"
    }
   ],
   "source": [
    "a=A.T\n",
    "a"
   ]
  },
  {
   "cell_type": "code",
   "execution_count": 30,
   "id": "dee50ad9",
   "metadata": {},
   "outputs": [
    {
     "data": {
      "text/plain": [
       "(3,)"
      ]
     },
     "execution_count": 30,
     "metadata": {},
     "output_type": "execute_result"
    }
   ],
   "source": [
    "a.shape"
   ]
  },
  {
   "cell_type": "markdown",
   "id": "950d9482",
   "metadata": {},
   "source": [
    "+ 加入新的维度"
   ]
  },
  {
   "cell_type": "code",
   "execution_count": 35,
   "id": "b6e27f3c",
   "metadata": {},
   "outputs": [
    {
     "data": {
      "text/plain": [
       "((1, 3), (3, 1))"
      ]
     },
     "execution_count": 35,
     "metadata": {},
     "output_type": "execute_result"
    }
   ],
   "source": [
    "a1=A[np.newaxis , : ]  # 横向加了一个维度\n",
    "a2=A[ : , np.newaxis]  # 纵向加了一个维度\n",
    "a1.shape, a2.shape"
   ]
  },
  {
   "cell_type": "code",
   "execution_count": 36,
   "id": "e41b4f87",
   "metadata": {},
   "outputs": [
    {
     "data": {
      "text/plain": [
       "(array([[1, 1, 1]]),\n",
       " array([[1],\n",
       "        [1],\n",
       "        [1]]))"
      ]
     },
     "execution_count": 36,
     "metadata": {},
     "output_type": "execute_result"
    }
   ],
   "source": [
    "a1,a2"
   ]
  },
  {
   "cell_type": "code",
   "execution_count": 37,
   "id": "d72e04f0",
   "metadata": {},
   "outputs": [
    {
     "data": {
      "text/plain": [
       "array([[1, 2],\n",
       "       [1, 2],\n",
       "       [1, 2]])"
      ]
     },
     "execution_count": 37,
     "metadata": {},
     "output_type": "execute_result"
    }
   ],
   "source": [
    "b2=B[ : , np.newaxis]\n",
    "np.hstack((a2,b2))"
   ]
  },
  {
   "cell_type": "code",
   "execution_count": null,
   "id": "56e29b80",
   "metadata": {},
   "outputs": [],
   "source": []
  }
 ],
 "metadata": {
  "kernelspec": {
   "display_name": "Python 3",
   "language": "python",
   "name": "python3"
  },
  "language_info": {
   "codemirror_mode": {
    "name": "ipython",
    "version": 3
   },
   "file_extension": ".py",
   "mimetype": "text/x-python",
   "name": "python",
   "nbconvert_exporter": "python",
   "pygments_lexer": "ipython3",
   "version": "3.6.13"
  }
 },
 "nbformat": 4,
 "nbformat_minor": 5
}
