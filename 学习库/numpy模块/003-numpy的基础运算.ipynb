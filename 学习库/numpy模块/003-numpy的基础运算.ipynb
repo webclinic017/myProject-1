{
 "cells": [
  {
   "cell_type": "code",
   "execution_count": 213,
   "id": "fd93aac1",
   "metadata": {},
   "outputs": [],
   "source": [
    "import numpy as np"
   ]
  },
  {
   "cell_type": "code",
   "execution_count": 214,
   "id": "642facaa",
   "metadata": {},
   "outputs": [
    {
     "name": "stdout",
     "output_type": "stream",
     "text": [
      "[10 20 30 40]\n",
      "[0 1 2 3]\n"
     ]
    }
   ],
   "source": [
    "a=np.array([10,20,30,40])\n",
    "b=np.arange(4)\n",
    "print(a)\n",
    "print(b)"
   ]
  },
  {
   "cell_type": "markdown",
   "id": "c61607c1",
   "metadata": {},
   "source": [
    "* 运算方法 + - ** sin cos tan等"
   ]
  },
  {
   "cell_type": "code",
   "execution_count": 215,
   "id": "8c8bb01e",
   "metadata": {},
   "outputs": [
    {
     "data": {
      "text/plain": [
       "array([10, 21, 32, 43])"
      ]
     },
     "execution_count": 215,
     "metadata": {},
     "output_type": "execute_result"
    }
   ],
   "source": [
    "a+b "
   ]
  },
  {
   "cell_type": "code",
   "execution_count": 216,
   "id": "b8a9f251",
   "metadata": {},
   "outputs": [
    {
     "data": {
      "text/plain": [
       "array([10, 19, 28, 37])"
      ]
     },
     "execution_count": 216,
     "metadata": {},
     "output_type": "execute_result"
    }
   ],
   "source": [
    "a-b"
   ]
  },
  {
   "cell_type": "code",
   "execution_count": 217,
   "id": "f9abbd3d",
   "metadata": {},
   "outputs": [
    {
     "data": {
      "text/plain": [
       "array([0, 1, 4, 9], dtype=int32)"
      ]
     },
     "execution_count": 217,
     "metadata": {},
     "output_type": "execute_result"
    }
   ],
   "source": [
    "b**2"
   ]
  },
  {
   "cell_type": "code",
   "execution_count": 218,
   "id": "c5858ba1",
   "metadata": {},
   "outputs": [
    {
     "data": {
      "text/plain": [
       "array([-0.54402111,  0.91294525, -0.98803162,  0.74511316])"
      ]
     },
     "execution_count": 218,
     "metadata": {},
     "output_type": "execute_result"
    }
   ],
   "source": [
    "np.sin(a)"
   ]
  },
  {
   "cell_type": "code",
   "execution_count": 219,
   "id": "17542337",
   "metadata": {},
   "outputs": [
    {
     "data": {
      "text/plain": [
       "array([ 0.64836083,  2.23716094, -6.4053312 , -1.11721493])"
      ]
     },
     "execution_count": 219,
     "metadata": {},
     "output_type": "execute_result"
    }
   ],
   "source": [
    "np.tan(a)"
   ]
  },
  {
   "cell_type": "markdown",
   "id": "537c0587",
   "metadata": {},
   "source": [
    "* numpy矩阵的直接判断输出"
   ]
  },
  {
   "cell_type": "code",
   "execution_count": 220,
   "id": "985df70d",
   "metadata": {},
   "outputs": [
    {
     "name": "stdout",
     "output_type": "stream",
     "text": [
      "[ True  True  True False]\n"
     ]
    },
    {
     "data": {
      "text/plain": [
       "array([False, False, False,  True])"
      ]
     },
     "execution_count": 220,
     "metadata": {},
     "output_type": "execute_result"
    }
   ],
   "source": [
    "print(b<3)\n",
    "b == 3"
   ]
  },
  {
   "cell_type": "code",
   "execution_count": 221,
   "id": "17727a55",
   "metadata": {},
   "outputs": [
    {
     "data": {
      "text/plain": [
       "(array([[1, 1],\n",
       "        [0, 1]]),\n",
       " array([[0, 1],\n",
       "        [2, 3]]))"
      ]
     },
     "execution_count": 221,
     "metadata": {},
     "output_type": "execute_result"
    }
   ],
   "source": [
    "a = np.array([  [1,1],[0,1]  ])\n",
    "b = np.arange(4).reshape(2,2)\n",
    "a,b"
   ]
  },
  {
   "cell_type": "markdown",
   "id": "15399a32",
   "metadata": {},
   "source": [
    "### 矩阵之间的乘法运算\n"
   ]
  },
  {
   "cell_type": "code",
   "execution_count": 222,
   "id": "500b5f03",
   "metadata": {},
   "outputs": [
    {
     "data": {
      "text/plain": [
       "array([[0, 1],\n",
       "       [0, 3]])"
      ]
     },
     "execution_count": 222,
     "metadata": {},
     "output_type": "execute_result"
    }
   ],
   "source": [
    "c1=a*b\n",
    "c1"
   ]
  },
  {
   "cell_type": "markdown",
   "id": "746ff6c0",
   "metadata": {},
   "source": [
    "* ↑对应位置上的数相乘↑"
   ]
  },
  {
   "cell_type": "code",
   "execution_count": 223,
   "id": "cfbc8568",
   "metadata": {},
   "outputs": [
    {
     "data": {
      "text/plain": [
       "(array([[2, 4],\n",
       "        [2, 3]]),\n",
       " array([[2, 4],\n",
       "        [2, 3]]))"
      ]
     },
     "execution_count": 223,
     "metadata": {},
     "output_type": "execute_result"
    }
   ],
   "source": [
    "c2=np.dot(a,b) # 写法1\n",
    "c3=a.dot(b)  #  写法2\n",
    "c2,c3"
   ]
  },
  {
   "cell_type": "markdown",
   "id": "d682f7a1",
   "metadata": {},
   "source": [
    "* ↑矩阵的乘法相乘↑"
   ]
  },
  {
   "cell_type": "code",
   "execution_count": 224,
   "id": "3c9e4d50",
   "metadata": {},
   "outputs": [
    {
     "data": {
      "text/plain": [
       "array([[0.13902782, 0.2297967 , 0.97912315, 0.73103525],\n",
       "       [0.58173352, 0.58677922, 0.16740447, 0.21492644]])"
      ]
     },
     "execution_count": 224,
     "metadata": {},
     "output_type": "execute_result"
    }
   ],
   "source": [
    "d= np.random.random((2,4))\n",
    "d"
   ]
  },
  {
   "cell_type": "markdown",
   "id": "3cf1467c",
   "metadata": {},
   "source": [
    "* 从0-1随机出数字组成一个2x4的矩阵"
   ]
  },
  {
   "cell_type": "code",
   "execution_count": 225,
   "id": "1f728a0a",
   "metadata": {},
   "outputs": [],
   "source": [
    "e=np.array([\n",
    "    [0,1,2,3],\n",
    "    [1,2,3,4]\n",
    "])\n"
   ]
  },
  {
   "cell_type": "markdown",
   "id": "72ac1d42",
   "metadata": {},
   "source": [
    "* 求和 axis=0--分列求和  axis=1--分行求和"
   ]
  },
  {
   "cell_type": "code",
   "execution_count": 226,
   "id": "c02f553e",
   "metadata": {
    "scrolled": true
   },
   "outputs": [
    {
     "name": "stdout",
     "output_type": "stream",
     "text": [
      "16\n",
      "[1 3 5 7]\n",
      "[ 6 10]\n"
     ]
    }
   ],
   "source": [
    "print(np.sum(e))\n",
    "print(np.sum(e,axis=0))\n",
    "print(np.sum(e,axis=1))"
   ]
  },
  {
   "cell_type": "markdown",
   "id": "ee0ced44",
   "metadata": {},
   "source": [
    "* 求最大   axis=0--分列求最大   axis=1--分行最大 "
   ]
  },
  {
   "cell_type": "code",
   "execution_count": 227,
   "id": "b6bfa2d3",
   "metadata": {},
   "outputs": [
    {
     "name": "stdout",
     "output_type": "stream",
     "text": [
      "4\n",
      "[1 2 3 4]\n",
      "[3 4]\n"
     ]
    }
   ],
   "source": [
    "print(np.max(e))\n",
    "print(np.max(e,axis=0))\n",
    "print(np.max(e,axis=1))"
   ]
  },
  {
   "cell_type": "markdown",
   "id": "d5b491da",
   "metadata": {},
   "source": [
    "* 求最小 axis=0--分列求最小  axis=1--分行求最小"
   ]
  },
  {
   "cell_type": "code",
   "execution_count": 228,
   "id": "012a6919",
   "metadata": {},
   "outputs": [
    {
     "name": "stdout",
     "output_type": "stream",
     "text": [
      "0\n",
      "[0 1 2 3]\n",
      "[0 1]\n"
     ]
    }
   ],
   "source": [
    "print(np.min(e))\n",
    "print(np.min(e,axis=0))\n",
    "print(np.min(e,axis=1))"
   ]
  },
  {
   "cell_type": "markdown",
   "id": "75490ed4",
   "metadata": {},
   "source": [
    "------------------------------------------------------------------\n",
    "***"
   ]
  },
  {
   "cell_type": "code",
   "execution_count": 229,
   "id": "4d1575df",
   "metadata": {},
   "outputs": [
    {
     "data": {
      "text/plain": [
       "array([[14, 13, 12, 11],\n",
       "       [10,  9,  8,  7],\n",
       "       [ 6,  5,  4,  3]])"
      ]
     },
     "execution_count": 229,
     "metadata": {},
     "output_type": "execute_result"
    }
   ],
   "source": [
    "A=np.arange(14,2,-1).reshape(3,4)\n",
    "A"
   ]
  },
  {
   "cell_type": "markdown",
   "id": "fe3f30b7",
   "metadata": {},
   "source": [
    "* 求最大最小值的索引下标"
   ]
  },
  {
   "cell_type": "code",
   "execution_count": 230,
   "id": "ba2fe3e3",
   "metadata": {},
   "outputs": [
    {
     "data": {
      "text/plain": [
       "(11, 0)"
      ]
     },
     "execution_count": 230,
     "metadata": {},
     "output_type": "execute_result"
    }
   ],
   "source": [
    "np.argmin(A)  ,   np.argmax(A)"
   ]
  },
  {
   "cell_type": "markdown",
   "id": "657c6a8c",
   "metadata": {},
   "source": [
    "* 求矩阵平均值"
   ]
  },
  {
   "cell_type": "code",
   "execution_count": 231,
   "id": "cafafde8",
   "metadata": {},
   "outputs": [
    {
     "data": {
      "text/plain": [
       "(8.5, 8.5, 8.5)"
      ]
     },
     "execution_count": 231,
     "metadata": {},
     "output_type": "execute_result"
    }
   ],
   "source": [
    "np.mean(A), np.average(A), A.mean()     "
   ]
  },
  {
   "cell_type": "markdown",
   "id": "e7a87e00",
   "metadata": {},
   "source": [
    "* 求中位数"
   ]
  },
  {
   "cell_type": "code",
   "execution_count": 232,
   "id": "8898a38e",
   "metadata": {},
   "outputs": [
    {
     "data": {
      "text/plain": [
       "8.5"
      ]
     },
     "execution_count": 232,
     "metadata": {},
     "output_type": "execute_result"
    }
   ],
   "source": [
    "np.median(A)"
   ]
  },
  {
   "cell_type": "markdown",
   "id": "a5f44cd3",
   "metadata": {},
   "source": [
    "* 累加序列"
   ]
  },
  {
   "cell_type": "code",
   "execution_count": 233,
   "id": "240f3e78",
   "metadata": {},
   "outputs": [
    {
     "data": {
      "text/plain": [
       "array([ 14,  27,  39,  50,  60,  69,  77,  84,  90,  95,  99, 102],\n",
       "      dtype=int32)"
      ]
     },
     "execution_count": 233,
     "metadata": {},
     "output_type": "execute_result"
    }
   ],
   "source": [
    " np.cumsum(A)"
   ]
  },
  {
   "cell_type": "markdown",
   "id": "b6c5cc31",
   "metadata": {},
   "source": [
    "* 累差序列        3x4会变成3x3"
   ]
  },
  {
   "cell_type": "code",
   "execution_count": 234,
   "id": "47d69774",
   "metadata": {},
   "outputs": [
    {
     "data": {
      "text/plain": [
       "array([[-1, -1, -1],\n",
       "       [-1, -1, -1],\n",
       "       [-1, -1, -1]])"
      ]
     },
     "execution_count": 234,
     "metadata": {},
     "output_type": "execute_result"
    }
   ],
   "source": [
    "np.diff(A)"
   ]
  },
  {
   "cell_type": "markdown",
   "id": "9f558233",
   "metadata": {},
   "source": [
    "* 非零数 序列 得到的非零数字的 行下标 和 列下标"
   ]
  },
  {
   "cell_type": "code",
   "execution_count": 235,
   "id": "f677f7f6",
   "metadata": {},
   "outputs": [
    {
     "data": {
      "text/plain": [
       "(array([0, 0, 0, 0, 1, 1, 1, 1, 2, 2, 2, 2], dtype=int64),\n",
       " array([0, 1, 2, 3, 0, 1, 2, 3, 0, 1, 2, 3], dtype=int64))"
      ]
     },
     "execution_count": 235,
     "metadata": {},
     "output_type": "execute_result"
    }
   ],
   "source": [
    "np.nonzero(A)"
   ]
  },
  {
   "cell_type": "markdown",
   "id": "9ce38373",
   "metadata": {},
   "source": [
    "+ 逐行排序"
   ]
  },
  {
   "cell_type": "code",
   "execution_count": 236,
   "id": "468cf9c2",
   "metadata": {},
   "outputs": [
    {
     "data": {
      "text/plain": [
       "array([[11, 12, 13, 14],\n",
       "       [ 7,  8,  9, 10],\n",
       "       [ 3,  4,  5,  6]])"
      ]
     },
     "execution_count": 236,
     "metadata": {},
     "output_type": "execute_result"
    }
   ],
   "source": [
    "np.sort(A)"
   ]
  },
  {
   "cell_type": "markdown",
   "id": "34f3b3d1",
   "metadata": {},
   "source": [
    "+ 矩阵转置"
   ]
  },
  {
   "cell_type": "code",
   "execution_count": 237,
   "id": "8eef525b",
   "metadata": {},
   "outputs": [
    {
     "data": {
      "text/plain": [
       "(array([[14, 10,  6],\n",
       "        [13,  9,  5],\n",
       "        [12,  8,  4],\n",
       "        [11,  7,  3]]),\n",
       " array([[14, 10,  6],\n",
       "        [13,  9,  5],\n",
       "        [12,  8,  4],\n",
       "        [11,  7,  3]]))"
      ]
     },
     "execution_count": 237,
     "metadata": {},
     "output_type": "execute_result"
    }
   ],
   "source": [
    "np.transpose(A)    ,    A.T"
   ]
  },
  {
   "cell_type": "markdown",
   "id": "64a44c2a",
   "metadata": {},
   "source": [
    "+ 截取 （所有小于5的数都等于5；所有大于9的数都等于9）"
   ]
  },
  {
   "cell_type": "code",
   "execution_count": 238,
   "id": "686638b9",
   "metadata": {},
   "outputs": [
    {
     "data": {
      "text/plain": [
       "array([[9, 9, 9, 9],\n",
       "       [9, 9, 8, 7],\n",
       "       [6, 5, 5, 5]])"
      ]
     },
     "execution_count": 238,
     "metadata": {},
     "output_type": "execute_result"
    }
   ],
   "source": [
    "np.clip(A,5,9)"
   ]
  },
  {
   "cell_type": "markdown",
   "id": "a8f2665e",
   "metadata": {},
   "source": [
    "+ axis    0→列 1→行"
   ]
  },
  {
   "cell_type": "code",
   "execution_count": 239,
   "id": "29e63ce0",
   "metadata": {},
   "outputs": [
    {
     "data": {
      "text/plain": [
       "array([10.,  9.,  8.,  7.])"
      ]
     },
     "execution_count": 239,
     "metadata": {},
     "output_type": "execute_result"
    }
   ],
   "source": [
    "np.mean(A,axis=0) # 对列"
   ]
  },
  {
   "cell_type": "code",
   "execution_count": 240,
   "id": "e4efb327",
   "metadata": {},
   "outputs": [
    {
     "data": {
      "text/plain": [
       "array([12.5,  8.5,  4.5])"
      ]
     },
     "execution_count": 240,
     "metadata": {},
     "output_type": "execute_result"
    }
   ],
   "source": [
    "np.mean(A,axis=1) # 对行"
   ]
  }
 ],
 "metadata": {
  "kernelspec": {
   "display_name": "Python 3",
   "language": "python",
   "name": "python3"
  },
  "language_info": {
   "codemirror_mode": {
    "name": "ipython",
    "version": 3
   },
   "file_extension": ".py",
   "mimetype": "text/x-python",
   "name": "python",
   "nbconvert_exporter": "python",
   "pygments_lexer": "ipython3",
   "version": "3.6.13"
  }
 },
 "nbformat": 4,
 "nbformat_minor": 5
}
