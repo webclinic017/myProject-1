{
 "cells": [
  {
   "cell_type": "code",
   "execution_count": 30,
   "id": "3afe8ace",
   "metadata": {},
   "outputs": [],
   "source": [
    "import numpy as np"
   ]
  },
  {
   "cell_type": "code",
   "execution_count": 31,
   "id": "e5be2262",
   "metadata": {},
   "outputs": [
    {
     "data": {
      "text/plain": [
       "array([[ 3,  4,  5,  6],\n",
       "       [ 7,  8,  9, 10],\n",
       "       [11, 12, 13, 14]])"
      ]
     },
     "execution_count": 31,
     "metadata": {},
     "output_type": "execute_result"
    }
   ],
   "source": [
    "a=np.arange(3,15).reshape(3,4)\n",
    "a"
   ]
  },
  {
   "cell_type": "markdown",
   "id": "85cd8520",
   "metadata": {},
   "source": [
    "+ np[行][列] np[行，列]"
   ]
  },
  {
   "cell_type": "code",
   "execution_count": 32,
   "id": "24926418",
   "metadata": {},
   "outputs": [
    {
     "data": {
      "text/plain": [
       "(8, 8)"
      ]
     },
     "execution_count": 32,
     "metadata": {},
     "output_type": "execute_result"
    }
   ],
   "source": [
    "a[1][1], a[1,1]"
   ]
  },
  {
   "cell_type": "markdown",
   "id": "8e0bedde",
   "metadata": {},
   "source": [
    "+ [:]表示这一条的所有数"
   ]
  },
  {
   "cell_type": "code",
   "execution_count": 33,
   "id": "6747cdd4",
   "metadata": {},
   "outputs": [
    {
     "data": {
      "text/plain": [
       "(array([ 7,  8,  9, 10]), array([ 7,  8,  9, 10]))"
      ]
     },
     "execution_count": 33,
     "metadata": {},
     "output_type": "execute_result"
    }
   ],
   "source": [
    "a[1][:], a[1,:]"
   ]
  },
  {
   "cell_type": "markdown",
   "id": "56d83743",
   "metadata": {},
   "source": [
    "+ 可以定位之后就可以写for循环了\n",
    "        # 迭代行"
   ]
  },
  {
   "cell_type": "code",
   "execution_count": 34,
   "id": "ac248d0b",
   "metadata": {},
   "outputs": [
    {
     "name": "stdout",
     "output_type": "stream",
     "text": [
      "[3 4 5 6]\n",
      "[ 7  8  9 10]\n",
      "[11 12 13 14]\n"
     ]
    }
   ],
   "source": [
    "for row in a:  # 迭代行\n",
    "    print(row)"
   ]
  },
  {
   "cell_type": "markdown",
   "id": "176cd73f",
   "metadata": {},
   "source": [
    "        # 迭代列"
   ]
  },
  {
   "cell_type": "code",
   "execution_count": 35,
   "id": "763f015d",
   "metadata": {},
   "outputs": [
    {
     "name": "stdout",
     "output_type": "stream",
     "text": [
      "[ 3  7 11]\n",
      "[ 4  8 12]\n",
      "[ 5  9 13]\n",
      "[ 6 10 14]\n"
     ]
    }
   ],
   "source": [
    "for column in a.T:  # 迭代列\n",
    "    print(column)"
   ]
  },
  {
   "cell_type": "markdown",
   "id": "de60b9ed",
   "metadata": {},
   "source": [
    "## 迭代器 a.flat    迭代值 a.flatten()"
   ]
  },
  {
   "cell_type": "code",
   "execution_count": 36,
   "id": "338196b5",
   "metadata": {},
   "outputs": [
    {
     "name": "stdout",
     "output_type": "stream",
     "text": [
      "<numpy.flatiter object at 0x0000000018FF0DD0>\n",
      "[ 3  4  5  6  7  8  9 10 11 12 13 14]\n"
     ]
    }
   ],
   "source": [
    "print(a.flat)\n",
    "print(a.flatten())"
   ]
  },
  {
   "cell_type": "code",
   "execution_count": 37,
   "id": "7eb7a736",
   "metadata": {},
   "outputs": [
    {
     "name": "stdout",
     "output_type": "stream",
     "text": [
      "3 4 5 6 7 8 9 10 11 12 13 14 \n",
      "---------------迭代器与迭代值的用法-----------------\n",
      "3 4 5 6 7 8 9 10 11 12 13 14 "
     ]
    }
   ],
   "source": [
    "for i in a.flat:\n",
    "    print(i,end=' ')\n",
    "print()\n",
    "print('---------------迭代器与迭代值的用法-----------------')\n",
    "for i in a.flatten():\n",
    "    print(i,end=' ')"
   ]
  },
  {
   "cell_type": "code",
   "execution_count": null,
   "id": "147d5dc2",
   "metadata": {},
   "outputs": [],
   "source": []
  }
 ],
 "metadata": {
  "kernelspec": {
   "display_name": "Python 3",
   "language": "python",
   "name": "python3"
  },
  "language_info": {
   "codemirror_mode": {
    "name": "ipython",
    "version": 3
   },
   "file_extension": ".py",
   "mimetype": "text/x-python",
   "name": "python",
   "nbconvert_exporter": "python",
   "pygments_lexer": "ipython3",
   "version": "3.6.13"
  }
 },
 "nbformat": 4,
 "nbformat_minor": 5
}
