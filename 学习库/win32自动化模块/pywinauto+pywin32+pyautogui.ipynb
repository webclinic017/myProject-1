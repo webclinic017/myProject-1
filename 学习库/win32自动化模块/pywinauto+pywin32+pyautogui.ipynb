{
 "cells": [
  {
   "cell_type": "markdown",
   "id": "426718a3",
   "metadata": {},
   "source": [
    "# pywinauto\n",
    "pywinauto 适合哪些中规中矩的 有各种菜单的 传统程序\n",
    "比较方便操作菜单\n",
    "+ 应用控制（打开、关闭应用等）\n",
    "+ 窗口控制（最大化、最小化窗口）\n",
    "+ 控件操作 如编辑"
   ]
  },
  {
   "cell_type": "code",
   "execution_count": null,
   "id": "ef2f2795",
   "metadata": {},
   "outputs": [],
   "source": [
    "import time"
   ]
  },
  {
   "cell_type": "code",
   "execution_count": null,
   "id": "65935c5b",
   "metadata": {},
   "outputs": [],
   "source": [
    "from pywinauto.application import Application\n",
    "\n",
    "app = Application(backend='win32')"
   ]
  },
  {
   "cell_type": "code",
   "execution_count": null,
   "id": "2bcd7c29",
   "metadata": {},
   "outputs": [],
   "source": [
    "# 打开程序\n",
    "app.start(r'C:\\Windows\\regedit.exe') \n",
    "# 必须是有效的 Win32 应用程序 且 必须是绝对路径"
   ]
  },
  {
   "cell_type": "code",
   "execution_count": null,
   "id": "98d50329",
   "metadata": {},
   "outputs": [],
   "source": [
    "# 连接程序 \n",
    "app.connect(path=r'C:\\Windows\\regedit.exe')\n",
    "# 待连接的应用必须是已经打开的应用"
   ]
  },
  {
   "cell_type": "code",
   "execution_count": null,
   "id": "a8e4dfb8",
   "metadata": {},
   "outputs": [],
   "source": [
    "dlg = app.window()\n",
    "# 程序可查的几个属性\n",
    "a1 = app.backend\n",
    "a2 = app.enabled_only\n",
    "a3 = app.visible_only\n",
    "a4 = app.process\n",
    "a5 = app.SysTreeView32\n",
    "print(a1)\n",
    "print(a2)\n",
    "print(a3)\n",
    "print(a4)\n",
    "print(a5)"
   ]
  },
  {
   "cell_type": "code",
   "execution_count": null,
   "id": "2226072d",
   "metadata": {},
   "outputs": [],
   "source": [
    "# 获取窗口信息\n",
    "# app.RegEdit_RegEdit.print_control_identifiers() # 调用程序菜单信息\n",
    "# 得出结论：pywinauto 只适合哪些中规中矩的 有各种菜单的 传统程序"
   ]
  },
  {
   "cell_type": "code",
   "execution_count": null,
   "id": "5db1ebd2",
   "metadata": {},
   "outputs": [],
   "source": [
    "# 关闭程序\n",
    "app.kill()"
   ]
  },
  {
   "cell_type": "markdown",
   "id": "d86fb348",
   "metadata": {},
   "source": [
    "# pywin32"
   ]
  },
  {
   "cell_type": "markdown",
   "id": "47743f4f",
   "metadata": {},
   "source": [
    "### 获得主窗口句柄"
   ]
  },
  {
   "cell_type": "code",
   "execution_count": null,
   "id": "ade2c1c3",
   "metadata": {},
   "outputs": [],
   "source": [
    "import win32gui, win32con\n",
    "\n",
    "Handle = win32gui.FindWindow('TdxW_MainFrame_Class', None) # 通达信模拟交易终端V8.09 - [行情报价-自选股]\n",
    "Handle"
   ]
  },
  {
   "cell_type": "markdown",
   "id": "d88fac85",
   "metadata": {},
   "source": [
    "### 主窗 显示方式的设置"
   ]
  },
  {
   "cell_type": "code",
   "execution_count": null,
   "id": "7931d628",
   "metadata": {},
   "outputs": [],
   "source": [
    "win32gui.ShowWindow(Handle,win32con.SW_RESTORE)"
   ]
  },
  {
   "cell_type": "raw",
   "id": "1ed0403a",
   "metadata": {},
   "source": [
    "SW_HIDE：隐藏窗口并激活其他窗口。nCmdShow=0。\n",
    " \n",
    "SW_SHOWNORMAL：激活并显示一个窗口。如果窗口被最小化或最大化，系统将其恢复到\n",
    "        原来的尺寸和大小。应用程序在第一次显示窗口的时候应该指定此标志。nCmdShow=1。\n",
    " \n",
    "SW_SHOWMINIMIZED：激活窗口并将其最小化。nCmdShow=2。\n",
    " \n",
    "SW_SHOWMAXIMIZED：激活窗口并将其最大化。nCmdShow=3。\n",
    " \n",
    "SW_SHOWNOACTIVATE：以窗口最近一次的大小和状态显示窗口。\n",
    "        激活窗口仍然维持激活状态。nCmdShow=4。\n",
    " \n",
    "SW_SHOW：在窗口原来的位置以原来的尺寸激活和显示窗口。nCmdShow=5。\n",
    " \n",
    "SW_MINIMIZE：最小化窗口并且激活在顺序中的下一个顶层窗口。nCmdShow=6。\n",
    " \n",
    "SW_SHOWMINNOACTIVE：窗口最小化，激活窗口仍然维持激活状态。nCmdShow=7。\n",
    " \n",
    "SW_SHOWNA：以窗口原来的状态显示窗口。激活窗口仍然维持激活状态。nCmdShow=8。\n",
    " \n",
    "SW_RESTORE：激活并显示窗口。如果窗口最小化或最大化，则系统将窗口恢复到原来的尺寸和位置。\n",
    "        在恢复最小化窗口时，应用程序应该指定这个标志。nCmdShow=9。\n",
    " \n",
    "SW_SHOWDEFAULT：依据在STARTUPINFO结构中指定的SW_FLAG标志设定显示状态，\n",
    "     STARTUPINFO 结构是由启动应用程序的程序传递给CreateProcess函数的。nCmdShow=10。"
   ]
  },
  {
   "cell_type": "markdown",
   "id": "6206fdc2",
   "metadata": {},
   "source": [
    "### 最大化 最小化"
   ]
  },
  {
   "cell_type": "code",
   "execution_count": null,
   "id": "e509b4df",
   "metadata": {},
   "outputs": [],
   "source": [
    "win32gui.PostMessage(Handle, win32con.WM_SYSCOMMAND, win32con.SC_MAXIMIZE, 0)"
   ]
  },
  {
   "cell_type": "code",
   "execution_count": null,
   "id": "762d9252",
   "metadata": {},
   "outputs": [],
   "source": [
    "win32gui.PostMessage(Handle, win32con.WM_SYSCOMMAND, win32con.SC_MINIMIZE, 0)"
   ]
  },
  {
   "cell_type": "markdown",
   "id": "bd325f71",
   "metadata": {},
   "source": [
    "### 判断窗口是否最小化"
   ]
  },
  {
   "cell_type": "code",
   "execution_count": null,
   "id": "bcc82288",
   "metadata": {},
   "outputs": [],
   "source": [
    "if win32gui.IsIconic(Handle):\n",
    "    print('最小化了')\n",
    "    win32gui.ShowWindow(Handle,win32con.SW_RESTORE)\n",
    "    print('已恢复')\n",
    "else:\n",
    "    print('没最小化')"
   ]
  },
  {
   "cell_type": "markdown",
   "id": "d948d2d0",
   "metadata": {},
   "source": [
    "### 关闭窗口"
   ]
  },
  {
   "cell_type": "code",
   "execution_count": null,
   "id": "9a007f8f",
   "metadata": {},
   "outputs": [],
   "source": [
    "win32gui.PostMessage(Handle, win32con.WM_CLOSE, 0, 0)"
   ]
  },
  {
   "cell_type": "markdown",
   "id": "4d349234",
   "metadata": {},
   "source": [
    "### 前置窗口"
   ]
  },
  {
   "cell_type": "code",
   "execution_count": null,
   "id": "cda30ad8",
   "metadata": {},
   "outputs": [],
   "source": [
    "win32gui.SetForegroundWindow(Handle)"
   ]
  },
  {
   "cell_type": "markdown",
   "id": "f0156100",
   "metadata": {},
   "source": [
    "### 聚焦窗口"
   ]
  },
  {
   "cell_type": "code",
   "execution_count": null,
   "id": "3d41bef1",
   "metadata": {},
   "outputs": [],
   "source": [
    "try:\n",
    "    win32gui.SetFocus(Handle)\n",
    "except Exception as e:\n",
    "    print('错误：', e)\n",
    "else:\n",
    "    pass"
   ]
  },
  {
   "cell_type": "markdown",
   "id": "678e8731",
   "metadata": {},
   "source": [
    "### 获取窗边界"
   ]
  },
  {
   "cell_type": "code",
   "execution_count": null,
   "id": "865cba45",
   "metadata": {},
   "outputs": [],
   "source": [
    "x, y, x_, y_ = win32gui.GetWindowRect(Handle)\n",
    "print('起始坐标：(%d: %d)\\n右下坐标：(%d: %d)'\\\n",
    "      %(x, y, x_, y_))"
   ]
  },
  {
   "cell_type": "markdown",
   "id": "16be2e8e",
   "metadata": {},
   "source": [
    "### 判断屏幕是否缩放\n",
    "**使用pyautogui时, 缩放比必须是1.0**"
   ]
  },
  {
   "cell_type": "code",
   "execution_count": null,
   "id": "e7b00e1d",
   "metadata": {},
   "outputs": [],
   "source": [
    "import win32api, win32con, win32print, win32gui\n",
    "\n",
    "def get_screen_scale_rate():\n",
    "    x = win32api.GetSystemMetrics(0)  # 屏幕缩放后的宽度分辨率\n",
    "    hDC = win32gui.GetDC(0)\n",
    "    w = win32print.GetDeviceCaps(hDC, win32con.DESKTOPHORZRES)  # 屏幕真实的宽度分辨率\n",
    "    rate = w / x\n",
    "    return rate\n",
    "r = get_screen_scale_rate()\n",
    "print('屏幕缩放比：', r)"
   ]
  },
  {
   "cell_type": "markdown",
   "id": "ea4600c1",
   "metadata": {},
   "source": [
    "## 移动窗口+改变窗口大小"
   ]
  },
  {
   "cell_type": "code",
   "execution_count": null,
   "id": "2b63ecd2",
   "metadata": {},
   "outputs": [],
   "source": [
    "win32gui.SetWindowPos(\n",
    "    Handle, \n",
    "    win32con.HWND_TOPMOST, \n",
    "    0, 0, 700, 700, \n",
    "    win32con.SWP_SHOWWINDOW\n",
    ")"
   ]
  },
  {
   "cell_type": "raw",
   "id": "5e074cbf",
   "metadata": {},
   "source": [
    "HWND_TOPMOST 最高层\n",
    "HWND_NOTOPMOST 取消最高层\n",
    "HWND_TOP 顶部\n",
    "HWND_DESKTOP 桌面\n",
    "HWND_BOTTOM 底部\n",
    "左上角坐标（0, 0）右下角坐标（700, 700）"
   ]
  },
  {
   "cell_type": "markdown",
   "id": "f0762a2a",
   "metadata": {},
   "source": [
    "### 鼠标后台点击"
   ]
  },
  {
   "cell_type": "code",
   "execution_count": null,
   "id": "34963185",
   "metadata": {},
   "outputs": [],
   "source": [
    "def doClick(hwnd,cx,cy):\n",
    "    '''\n",
    "    hwnd：要点击的窗口句柄 必须是本身句柄 不能是父句柄\n",
    "    cx cy：点击位置位于该窗口的相对位置\n",
    "    '''\n",
    "        long_position = win32api.MAKELONG(cx, cy)#模拟鼠标指针 传送到指定坐标\n",
    "        win32api.SendMessage(hwnd, win32con.WM_LBUTTONDOWN, win32con.MK_LBUTTON, long_position)#模拟鼠标按下\n",
    "        win32api.SendMessage(hwnd, win32con.WM_LBUTTONUP, win32con.MK_LBUTTON, long_position)#模拟鼠标弹起"
   ]
  },
  {
   "cell_type": "markdown",
   "id": "47fbf0f9",
   "metadata": {},
   "source": [
    "### 已知主窗口句柄，循环递归找孙窗口句柄"
   ]
  },
  {
   "cell_type": "code",
   "execution_count": null,
   "id": "61ea669e",
   "metadata": {},
   "outputs": [],
   "source": [
    "import win32gui, win32con, win32api\n",
    "\n",
    "\n",
    "def find_brother_Handle(pHandle, winClass, index=0):\n",
    "    \"\"\"\n",
    "    已知子窗口的窗体类名\n",
    "    寻找第index号个同类型的兄弟窗口\n",
    "    \"\"\"\n",
    "    assert type(index) == int and index >= 0\n",
    "    handle = win32gui.FindWindowEx(pHandle, 0, winClass, None)\n",
    "    while index > 0:\n",
    "        handle = win32gui.FindWindowEx(pHandle, handle, winClass, None)\n",
    "        index -= 1\n",
    "    return handle\n",
    "\n",
    "\n",
    "def find_sub_Handle(pHandle, winClassList):\n",
    "    \"\"\"\n",
    "    递归寻找子窗口的句柄\n",
    "    pHandle是祖父窗口的句柄\n",
    "    winClassList是各个子窗口的class列表，父辈的list-index小于子辈\n",
    "    \"\"\"\n",
    "    assert type(winClassList) == list\n",
    "    if len(winClassList) == 1:\n",
    "        return find_brother_Handle(pHandle, winClassList[0][0], winClassList[0][1])\n",
    "    else:\n",
    "        pHandle = find_brother_Handle(pHandle, winClassList[0][0], winClassList[0][1])\n",
    "        return find_sub_Handle(pHandle, winClassList[1:])\n",
    "\n",
    "\n",
    "\n",
    "pHandle = win32gui.FindWindow('RegEdit_RegEdit','注册表编辑器')\n",
    "son_handle = win32gui.FindWindowEx(pHandle, 0, 'SysTreeView32', None)\n",
    "\n",
    "\n",
    "index_son_handle = find_brother_Handle(pHandle,'SysTreeView32',1)\n",
    "grandson_handle= find_sub_Handle(pHandle,[(\"SysListView32\", 0), (\"SysHeader32\", 0)])\n",
    "#            主父窗口 [(子窗口类型,子窗口序号),(孙窗口类型,孙窗口序号)]\n",
    "\n",
    "print('主父窗口：',pHandle)\n",
    "print('直接子窗口：',son_handle)\n",
    "print('2号子窗口：',index_son_handle)\n",
    "print('孙窗口：',grandson_handle)"
   ]
  },
  {
   "cell_type": "markdown",
   "id": "16ad5389",
   "metadata": {},
   "source": [
    "# pyautogui\n",
    "+ 屏幕控制（获取屏幕尺寸、截屏）\n",
    "+ 鼠标控制（移动鼠标、单击、双击、右击、拖拽、滚动）\n",
    "+ 键盘控制（编辑、按键）"
   ]
  },
  {
   "cell_type": "code",
   "execution_count": null,
   "id": "ccbc94a2",
   "metadata": {},
   "outputs": [],
   "source": [
    "import pyautogui"
   ]
  },
  {
   "cell_type": "markdown",
   "id": "da1d2a96",
   "metadata": {},
   "source": [
    "### 获取屏幕分辨率"
   ]
  },
  {
   "cell_type": "code",
   "execution_count": null,
   "id": "4df051a8",
   "metadata": {},
   "outputs": [],
   "source": [
    "screen_Width, screen_Height = pyautogui.size()\n",
    "\n",
    "'屏幕分辨率：%d * %d'%(screen_Width, screen_Height)"
   ]
  },
  {
   "cell_type": "markdown",
   "id": "8b4aae85",
   "metadata": {},
   "source": [
    "### 截图"
   ]
  },
  {
   "cell_type": "code",
   "execution_count": null,
   "id": "4e3f11f1",
   "metadata": {},
   "outputs": [],
   "source": [
    "# 部分截屏\n",
    "pyautogui.screenshot('test_file/部分截屏.png', region = (0,0,60,60))\n",
    "# 截取整屏\n",
    "img = pyautogui.screenshot()\n",
    "img.save('test_file/全屏截屏.png')"
   ]
  },
  {
   "cell_type": "markdown",
   "id": "60d0e1a6",
   "metadata": {},
   "source": [
    "### 找图"
   ]
  },
  {
   "cell_type": "code",
   "execution_count": null,
   "id": "e639235e",
   "metadata": {},
   "outputs": [],
   "source": [
    "# 在当前屏幕中查找指定图片(图片是当前屏幕某个区域的截图)\n",
    "# 返回anchor\n",
    "anchor = pyautogui.locateOnScreen(\n",
    "    'test_file/部分截屏.png', \n",
    "    region=(0, 0, 1920, 1080),\n",
    "#    confidence=0.9,  # 精度 需要安装openCV包\n",
    "    grayscale=True  # 灰度 可提升找图速度\n",
    ") \n",
    "\n",
    "if anchor:\n",
    "    x, y = pyautogui.center(anchor) # 获取定位到的图中间点坐标\n",
    "else:\n",
    "    x, y = -1, -1\n",
    "    print('找不到')\n",
    "\n",
    "'找到图的中心坐标：', x, y"
   ]
  },
  {
   "cell_type": "code",
   "execution_count": null,
   "id": "7512810d",
   "metadata": {},
   "outputs": [],
   "source": [
    "try:\n",
    "    x, y = pyautogui.locateCenterOnScreen('test_file/右下角网络图标.png', region=(0, 0, 1920, 1080)) # 返回x,y\n",
    "except Exception as e:\n",
    "    print(e)\n",
    "else:\n",
    "    print('找到图的中心坐标：', x, y)"
   ]
  },
  {
   "cell_type": "markdown",
   "id": "8e755328",
   "metadata": {},
   "source": [
    "### 鼠标移动"
   ]
  },
  {
   "cell_type": "code",
   "execution_count": null,
   "id": "afb802d2",
   "metadata": {},
   "outputs": [],
   "source": [
    "x, y = pyautogui.position()\n",
    "print('鼠标即时位置：', x, y)\n",
    "\n",
    "# 移动鼠标（x, y 为绝对位置，xOffset, yOffset 为相对偏移量，tween：渐变函数）\n",
    "pyautogui.moveTo(x=100, y=100, duration=2, tween=pyautogui.linear)\n",
    "pyautogui.moveRel(xOffset=500, yOffset=500, duration=2, tween=pyautogui.linear)"
   ]
  },
  {
   "cell_type": "markdown",
   "id": "089f207b",
   "metadata": {},
   "source": [
    "### 鼠标点击"
   ]
  },
  {
   "cell_type": "raw",
   "id": "5528436c",
   "metadata": {},
   "source": [
    "pyautogui.click(\n",
    "    x=None, y=None, # 点击位置 none就是鼠标即时位置\n",
    "    clicks = 5, # 点击次数\n",
    "    interval = 0.1, # 点击间隔\n",
    "    button = 'left', # botton：取值有'left', 'middle', 'right'，对应鼠标的左、中、右\n",
    "    duration = 1, # 点击持续时间\n",
    "    tween = pyautogui.linear # 渐变函数\n",
    ")\n",
    "\n",
    "# 简单点击\n",
    "\n",
    "pyautogui.click(x, y) # 左击\n",
    "pyautogui.rightClick(x, y) # 右击\n",
    "pyautogui.middleClick(x, y) # 中击\n",
    "pyautogui.doubleClick(x, y) # 双击"
   ]
  },
  {
   "cell_type": "markdown",
   "id": "7c2ae018",
   "metadata": {},
   "source": [
    "### 鼠标拖拽"
   ]
  },
  {
   "cell_type": "raw",
   "id": "cc666210",
   "metadata": {},
   "source": [
    "pyautogui.dragTo(x=427, y=535, duration=3, button='left')\n",
    " \n",
    "# 相对拖拽\n",
    "pyautogui.dragRel(xOffset=100, yOffset=100, duration=3, button='left', mouseDownUp=False)"
   ]
  },
  {
   "cell_type": "markdown",
   "id": "72a972d1",
   "metadata": {},
   "source": [
    "### 鼠标滚动"
   ]
  },
  {
   "cell_type": "raw",
   "id": "8f98a07c",
   "metadata": {},
   "source": [
    "pyautogui.scroll(-500)  # 向下滚 500 格"
   ]
  },
  {
   "cell_type": "markdown",
   "id": "6fc8de20",
   "metadata": {},
   "source": [
    "### 输入文本"
   ]
  },
  {
   "cell_type": "raw",
   "id": "f584cd8c",
   "metadata": {},
   "source": [
    "pyautogui.typewrite(message='Hello world!', interval=0.25)"
   ]
  },
  {
   "cell_type": "raw",
   "id": "27e99091",
   "metadata": {},
   "source": [
    "esc + l 可以调出这种\n"
   ]
  },
  {
   "cell_type": "code",
   "execution_count": null,
   "id": "15263832",
   "metadata": {},
   "outputs": [],
   "source": [
    "# esc + l 可以调出这种\n"
   ]
  },
  {
   "cell_type": "markdown",
   "id": "89202138",
   "metadata": {},
   "source": [
    "### 按键"
   ]
  },
  {
   "cell_type": "code",
   "execution_count": null,
   "id": "4123012e",
   "metadata": {},
   "outputs": [],
   "source": [
    "# 单按\n",
    "pyautogui.press('esc')\n",
    "\n",
    "#依次按 多个按键\n",
    "pyautogui.press(['left', 'left', 'left'])\n",
    " \n",
    "# 组合热键hotkey（从左到右依次按下按键，再从右到左依次松开按键）\n",
    "pyautogui.hotkey('ctrl', 'c')"
   ]
  },
  {
   "cell_type": "raw",
   "id": "141401c4",
   "metadata": {},
   "source": [
    "ctrl、shift、alt、esc、backspace、win：同键盘\n",
    "capslock、numlock、scrolllock、insert、delete、home、end、pageup、pagedown、pause、printscreen：同键盘\n",
    "f1、f2、f3、...、f12：同键盘\n",
    "\n",
    "Enter键：enter、return、\\n\n",
    "Tab键：tab、\\t\n",
    "箭头键：up、down、left、right"
   ]
  },
  {
   "cell_type": "markdown",
   "id": "75d8ac1f",
   "metadata": {},
   "source": [
    "### 消息窗口"
   ]
  },
  {
   "cell_type": "code",
   "execution_count": null,
   "id": "0868f1f6",
   "metadata": {},
   "outputs": [],
   "source": []
  },
  {
   "cell_type": "code",
   "execution_count": null,
   "id": "9773f86b",
   "metadata": {},
   "outputs": [],
   "source": []
  },
  {
   "cell_type": "code",
   "execution_count": null,
   "id": "0877d880",
   "metadata": {},
   "outputs": [],
   "source": []
  },
  {
   "cell_type": "code",
   "execution_count": null,
   "id": "cd6bc27f",
   "metadata": {},
   "outputs": [],
   "source": []
  },
  {
   "cell_type": "code",
   "execution_count": null,
   "id": "391c354d",
   "metadata": {},
   "outputs": [],
   "source": []
  },
  {
   "cell_type": "code",
   "execution_count": null,
   "id": "4b587fe8",
   "metadata": {},
   "outputs": [],
   "source": []
  }
 ],
 "metadata": {
  "kernelspec": {
   "display_name": "Python 3 (ipykernel)",
   "language": "python",
   "name": "python3"
  },
  "language_info": {
   "codemirror_mode": {
    "name": "ipython",
    "version": 3
   },
   "file_extension": ".py",
   "mimetype": "text/x-python",
   "name": "python",
   "nbconvert_exporter": "python",
   "pygments_lexer": "ipython3",
   "version": "3.7.11"
  }
 },
 "nbformat": 4,
 "nbformat_minor": 5
}
