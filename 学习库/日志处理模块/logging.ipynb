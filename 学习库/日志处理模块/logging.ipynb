{
 "cells": [
  {
   "cell_type": "code",
   "execution_count": null,
   "id": "397b3c94",
   "metadata": {},
   "outputs": [],
   "source": [
    "import logging"
   ]
  },
  {
   "cell_type": "markdown",
   "id": "ace6a6b5",
   "metadata": {},
   "source": [
    "### 举例"
   ]
  },
  {
   "cell_type": "markdown",
   "id": "7417f710",
   "metadata": {},
   "source": [
    "```\n",
    "fmt ='%(name)s--->%(message)s--->%(asctime)s' # 格式器\n",
    "logging.basicConfig(level=\"DEBUG\", # 默认的输出等级是warning以上  # 设置输出等级为debug 大写DEBUG\n",
    "                    format=fmt # 输出格式（包含打印日期）\n",
    "                   ) \n",
    "\n",
    "logging.debug('这是debug信息')\n",
    "logging.info('这是ingo信息')\n",
    "logging.warning('这是warning信息')\n",
    "logging.error('这是error信息')\n",
    "logging.critical('这是critical信息')\n",
    "```"
   ]
  },
  {
   "cell_type": "markdown",
   "id": "837ee66c",
   "metadata": {},
   "source": [
    "# 1.创建日志器\n",
    "### 1.1 创建日志器"
   ]
  },
  {
   "cell_type": "code",
   "execution_count": null,
   "id": "ed85a016",
   "metadata": {},
   "outputs": [],
   "source": [
    "logger = logging.getLogger(name='学习日志')"
   ]
  },
  {
   "cell_type": "markdown",
   "id": "a039cd65",
   "metadata": {},
   "source": [
    "### 1.2设置日志器等级"
   ]
  },
  {
   "cell_type": "code",
   "execution_count": null,
   "id": "f6ec1835",
   "metadata": {},
   "outputs": [],
   "source": [
    "logger.setLevel(level='DEBUG')"
   ]
  },
  {
   "cell_type": "markdown",
   "id": "e7df7793",
   "metadata": {},
   "source": [
    "# 2.创建控制台处理器 or 文本处理器\n",
    "### 2.1 创建控制台 or 文本处理器"
   ]
  },
  {
   "cell_type": "code",
   "execution_count": null,
   "id": "f51ade6d",
   "metadata": {},
   "outputs": [],
   "source": [
    "console_handler = logging.StreamHandler()\n",
    "file_handler = logging.FileHandler('./log.txt', mode='a', encoding='utf-8')"
   ]
  },
  {
   "cell_type": "markdown",
   "id": "416a1015",
   "metadata": {},
   "source": [
    "### 2.2 设置控制台 or 文本处理器 等级"
   ]
  },
  {
   "cell_type": "code",
   "execution_count": null,
   "id": "82e31c18",
   "metadata": {},
   "outputs": [],
   "source": [
    "console_handler.setLevel(level='INFO')\n",
    "file_handler.setLevel(level='WARNING')\n",
    "# 显示等级可以不同"
   ]
  },
  {
   "cell_type": "markdown",
   "id": "10295b4f",
   "metadata": {},
   "source": [
    "+ **注意：处理器等级和日志等级，python会自动选择低的那个**"
   ]
  },
  {
   "cell_type": "markdown",
   "id": "bc0088be",
   "metadata": {},
   "source": [
    "# 3.创建格式和格式器\n",
    "|格式|说明|\n",
    "|---|---|\n",
    "|%(name)s|Logger的名字|\n",
    "|%(levelno)s|数字形式的日志级别|\n",
    "|%(levelname)s|文本形式的日志级别|\n",
    "|%(pathname)s|调用日志输出函数的模块的完整路径名，可能没有|\n",
    "|%(filename)s|调用日志输出函数的模块的文件名|\n",
    "|%(module)s|调用日志输出函数的模块名|\n",
    "|%(funcName)s|调用日志输出函数的函数名|\n",
    "|%(lineno)d|调用日志输出函数的语句所在的代码行|\n",
    "|%(created)f|当前时间，用UNIX标准的表示时间的浮 点数表示|\n",
    "|%(relativeCreated)d|输出日志信息时的，自Logger创建以 来的毫秒数|\n",
    "|%(asctime)s|字符串形式的当前时间。默认格式是 “2003-07-08 16:49:45,896”。逗号后面的是毫秒|\n",
    "|%(thread)d|线程ID。可能没有|\n",
    "|%(threadName)s|线程名。可能没有|\n",
    "|%(process)d|进程ID。可能没有|\n",
    "|%(message)s|用户输出的消息|\n",
    "\n",
    "### 3.1 格式"
   ]
  },
  {
   "cell_type": "code",
   "execution_count": null,
   "id": "514db4d7",
   "metadata": {},
   "outputs": [],
   "source": [
    "console_fmt = '%(lineno)d--->%(asctime)s--->%(levelname)s'\n",
    "file_fmt    = '%(name)s--->%(levelname)s--->%(asctime)s'"
   ]
  },
  {
   "cell_type": "markdown",
   "id": "c3e06eeb",
   "metadata": {},
   "source": [
    "### 3.2 格式器"
   ]
  },
  {
   "cell_type": "code",
   "execution_count": null,
   "id": "adfc8d48",
   "metadata": {},
   "outputs": [],
   "source": [
    "fmt1 = logging.Formatter(fmt=console_fmt)\n",
    "fmt2 = logging.Formatter(fmt= file_fmt)"
   ]
  },
  {
   "cell_type": "markdown",
   "id": "3d6b23ee",
   "metadata": {},
   "source": [
    "### 3.3 格式器添加到处理器"
   ]
  },
  {
   "cell_type": "code",
   "execution_count": null,
   "id": "0c3f89c6",
   "metadata": {},
   "outputs": [],
   "source": [
    "console_handler.setFormatter(fmt1)\n",
    "file_handler.setFormatter(fmt2)"
   ]
  },
  {
   "cell_type": "markdown",
   "id": "7f5f41b0",
   "metadata": {},
   "source": [
    "# 4.处理器 添加到日志器中"
   ]
  },
  {
   "cell_type": "code",
   "execution_count": null,
   "id": "9cdecd07",
   "metadata": {},
   "outputs": [],
   "source": [
    "logger.addHandler(console_handler)\n",
    "logger.addHandler(file_handler)\n",
    "# 可以同时存在"
   ]
  },
  {
   "cell_type": "markdown",
   "id": "eb3ae016",
   "metadata": {},
   "source": [
    "# 5.打印日志信息"
   ]
  },
  {
   "cell_type": "code",
   "execution_count": null,
   "id": "d693eda7",
   "metadata": {},
   "outputs": [],
   "source": [
    "logger.debug('这是debug信息')\n",
    "logger.info('这是info信息')\n",
    "logger.warning('这是warning信息')\n",
    "logger.error('这是error信息')\n",
    "logger.critical('这是critical信息')"
   ]
  },
  {
   "cell_type": "raw",
   "id": "255a18e9",
   "metadata": {},
   "source": []
  },
  {
   "cell_type": "raw",
   "id": "98f9c50e",
   "metadata": {},
   "source": []
  },
  {
   "cell_type": "raw",
   "id": "a7cda103",
   "metadata": {},
   "source": []
  },
  {
   "cell_type": "raw",
   "id": "7efdf90b",
   "metadata": {},
   "source": []
  },
  {
   "cell_type": "raw",
   "id": "5c5f1088",
   "metadata": {},
   "source": []
  }
 ],
 "metadata": {
  "kernelspec": {
   "display_name": "Python 3 (ipykernel)",
   "language": "python",
   "name": "python3"
  },
  "language_info": {
   "codemirror_mode": {
    "name": "ipython",
    "version": 3
   },
   "file_extension": ".py",
   "mimetype": "text/x-python",
   "name": "python",
   "nbconvert_exporter": "python",
   "pygments_lexer": "ipython3",
   "version": "3.7.11"
  }
 },
 "nbformat": 4,
 "nbformat_minor": 5
}
