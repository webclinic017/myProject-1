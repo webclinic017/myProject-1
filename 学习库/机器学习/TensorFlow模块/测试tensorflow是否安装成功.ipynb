{
 "cells": [
  {
   "cell_type": "code",
   "execution_count": 1,
   "id": "330088b1",
   "metadata": {},
   "outputs": [
    {
     "name": "stdout",
     "output_type": "stream",
     "text": [
      "WARNING:tensorflow:From <ipython-input-1-33fcbdfc61ce>:3: is_gpu_available (from tensorflow.python.framework.test_util) is deprecated and will be removed in a future version.\n",
      "Instructions for updating:\n",
      "Use `tf.config.list_physical_devices('GPU')` instead.\n",
      "tensorflow 版本: 2.1.0 \t显卡可用状态: False\n"
     ]
    }
   ],
   "source": [
    "import tensorflow as tf\n",
    "tensorflow_version = tf.__version__\n",
    "gpu_available = tf.test.is_gpu_available()\n",
    "\n",
    "print(\"tensorflow 版本:\", tensorflow_version, \"\\t显卡可用状态:\", gpu_available)"
   ]
  },
  {
   "cell_type": "raw",
   "id": "0c26b4ee",
   "metadata": {},
   "source": []
  }
 ],
 "metadata": {
  "kernelspec": {
   "display_name": "Python 3",
   "language": "python",
   "name": "python3"
  },
  "language_info": {
   "codemirror_mode": {
    "name": "ipython",
    "version": 3
   },
   "file_extension": ".py",
   "mimetype": "text/x-python",
   "name": "python",
   "nbconvert_exporter": "python",
   "pygments_lexer": "ipython3",
   "version": "3.6.13"
  }
 },
 "nbformat": 4,
 "nbformat_minor": 5
}
