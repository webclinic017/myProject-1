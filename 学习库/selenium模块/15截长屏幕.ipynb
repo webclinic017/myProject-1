{
 "cells": [
  {
   "cell_type": "markdown",
   "metadata": {},
   "source": [
    "# 截长屏\n",
    "+ 需要到<https://phantomjs.org/download.html>下载PhantomJS浏览器驱动\n",
    "+ 下载好了之后 找到它的安装路径——PJS_path"
   ]
  },
  {
   "cell_type": "code",
   "execution_count": 4,
   "metadata": {},
   "outputs": [
    {
     "name": "stderr",
     "output_type": "stream",
     "text": [
      "C:\\Anaconda3\\lib\\site-packages\\selenium\\webdriver\\phantomjs\\webdriver.py:49: UserWarning: Selenium support for PhantomJS has been deprecated, please use headless versions of Chrome or Firefox instead\n",
      "  warnings.warn('Selenium support for PhantomJS has been deprecated, please use headless '\n"
     ]
    },
    {
     "data": {
      "text/plain": [
       "True"
      ]
     },
     "execution_count": 4,
     "metadata": {},
     "output_type": "execute_result"
    }
   ],
   "source": [
    "from selenium import webdriver\n",
    "\n",
    "phantomjs_path = 'driver/phantomjs/bin/phantomjs.exe'\n",
    "name = '企查查'\n",
    "url = 'https://www.qcc.com/'\n",
    "save_path = '../' + name + '.png'\n",
    "\n",
    "wd = webdriver.PhantomJS(phantomjs_path)\n",
    "wd.maximize_window()\n",
    "wd.get(url)\n",
    "wd.save_screenshot(save_path)"
   ]
  }
 ],
 "metadata": {
  "kernelspec": {
   "display_name": "Python 3",
   "language": "python",
   "name": "python3"
  },
  "language_info": {
   "codemirror_mode": {
    "name": "ipython",
    "version": 3
   },
   "file_extension": ".py",
   "mimetype": "text/x-python",
   "name": "python",
   "nbconvert_exporter": "python",
   "pygments_lexer": "ipython3",
   "version": "3.6.13"
  }
 },
 "nbformat": 4,
 "nbformat_minor": 2
}
