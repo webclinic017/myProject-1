{
 "cells": [
  {
   "cell_type": "markdown",
   "metadata": {},
   "source": [
    "# 直接把目标网页保存为pdf\n",
    "1. 需要pip pdfkit\n",
    "2. 需要安装wkhtmltopdf.exe （Windows版） *复制安装路径*"
   ]
  },
  {
   "cell_type": "code",
   "execution_count": null,
   "metadata": {},
   "outputs": [],
   "source": [
    "import pdfkit\n",
    "wkhtmltopdf_exe_path=r'C:\\Program Files\\wkhtmltopdf\\bin\\wkhtmltopdf.exe'\n",
    "url = 'https://www.qcc.com/firm/6dfb7a4398bd97df265959899895dfcd.html'\n",
    "name = '诸暨市方秋劳务有限公司'\n",
    "\n",
    "pdf_options = {\n",
    "    'page-size': 'A4'\n",
    "}\n",
    "\n",
    "filename = 'C:/Users/Administrator/Desktop/'+name + '.pdf'\n",
    "config = pdfkit.configuration(wkhtmltopdf = wkhtmltopdf_exe_path)\n",
    "pdfkit.from_url(url, filename, options=pdf_options, configuration=config)"
   ]
  },
  {
   "cell_type": "markdown",
   "metadata": {},
   "source": [
    "# 通过浏览器打开 写成pdf（非常慢、不实用）"
   ]
  },
  {
   "cell_type": "raw",
   "metadata": {},
   "source": [
    "# 先打开网页 再driver.page_soruce 再string法写成pdf\n",
    "import pdfkit, time, pprint\n",
    "from selenium import webdriver\n",
    "\n",
    "driver = webdriver.Chrome('driver/chromedriver.exe')\n",
    "driver.implicitly_wait(2)\n",
    "\n",
    "\n",
    "url = 'https://www.qcc.com/firm/6dfb7a4398bd97df265959899895dfcd.html'\n",
    "driver.get(url)\n",
    "\n",
    "time.sleep(3) # sleep 1秒\n",
    "source_text = driver.page_source\n",
    "\n",
    "options_pdf = {\n",
    "    'page-size': 'A4'\n",
    "}\n",
    "config = pdfkit.configuration(wkhtmltopdf = r'C:\\Program Files\\wkhtmltopdf\\bin\\wkhtmltopdf.exe')\n",
    "\n",
    "\n",
    "result = pdfkit.from_string(source_text, 'test.pdf', options=options_pdf, configuration=config)\n",
    "\n",
    "driver.quit()"
   ]
  },
  {
   "cell_type": "code",
   "execution_count": null,
   "metadata": {},
   "outputs": [],
   "source": []
  }
 ],
 "metadata": {
  "kernelspec": {
   "display_name": "Python 3",
   "language": "python",
   "name": "python3"
  },
  "language_info": {
   "codemirror_mode": {
    "name": "ipython",
    "version": 3
   },
   "file_extension": ".py",
   "mimetype": "text/x-python",
   "name": "python",
   "nbconvert_exporter": "python",
   "pygments_lexer": "ipython3",
   "version": "3.6.5"
  }
 },
 "nbformat": 4,
 "nbformat_minor": 2
}
