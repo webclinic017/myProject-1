{
 "cells": [
  {
   "cell_type": "code",
   "execution_count": 11,
   "metadata": {},
   "outputs": [
    {
     "name": "stderr",
     "output_type": "stream",
     "text": [
      "C:\\Anaconda3\\lib\\site-packages\\ipykernel_launcher.py:30: DeprecationWarning: use options instead of chrome_options\n"
     ]
    },
    {
     "name": "stdout",
     "output_type": "stream",
     "text": [
      "https://www.baidu.com/\n"
     ]
    }
   ],
   "source": [
    "from selenium import webdriver\n",
    "\n",
    "from selenium.webdriver.chrome.options import Options\n",
    "\n",
    "\n",
    "\n",
    "my_setting = Options()\n",
    "\n",
    "\n",
    "# 下面几条是 无界面模式的添加设置项\n",
    "my_setting.add_argument('--no-sandbox') # 解决DevToolsActivePort文件不存在的报错\n",
    "\n",
    "my_setting.add_argument('window-size=1200,700') # 指定浏览器分辨率\n",
    "\n",
    "my_setting.add_argument('--disable-gpu') # 谷歌文档提到需要加上这个属性来规避bug\n",
    "\n",
    "my_setting.add_argument('--hide-scrollbars') # 隐藏滚动条, 应对一些特殊页面\n",
    "\n",
    "my_setting.add_argument('blink-settings=imagesEnabled=false') # 不加载图片, 提升速度\n",
    "\n",
    "my_setting.add_argument('--headless') # 浏览器不提供可视化页面. linux下如果系统不支持可视化不加这条会启动失败\n",
    "\n",
    "\n",
    "chrome_path = r'C:\\Users\\Administrator\\AppData\\Local\\Google\\Chrome\\Application\\chrome.exe'\n",
    "driver_path = 'driver/chromedriver.exe'\n",
    "url = 'https://www.baidu.com/'\n",
    "\n",
    "\n",
    "my_setting.binary_location = chrome_path #手动指定chrome浏览器的位置\n",
    "wd = webdriver.Chrome(driver_path, chrome_options=my_setting)\n",
    "wd.get(url)\n",
    "print(wd.current_url)\n",
    "wd.close() #切记关闭浏览器，回收资源"
   ]
  },
  {
   "cell_type": "code",
   "execution_count": null,
   "metadata": {},
   "outputs": [],
   "source": []
  }
 ],
 "metadata": {
  "kernelspec": {
   "display_name": "Python 3",
   "language": "python",
   "name": "python3"
  },
  "language_info": {
   "codemirror_mode": {
    "name": "ipython",
    "version": 3
   },
   "file_extension": ".py",
   "mimetype": "text/x-python",
   "name": "python",
   "nbconvert_exporter": "python",
   "pygments_lexer": "ipython3",
   "version": "3.6.13"
  }
 },
 "nbformat": 4,
 "nbformat_minor": 2
}
