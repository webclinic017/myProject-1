{
 "cells": [
  {
   "cell_type": "code",
   "execution_count": null,
   "id": "b3c1f97f",
   "metadata": {},
   "outputs": [],
   "source": [
    "from selenium import webdriver\n",
    "import time"
   ]
  },
  {
   "cell_type": "code",
   "execution_count": null,
   "id": "e7f669f1",
   "metadata": {},
   "outputs": [],
   "source": [
    "wd = webdriver.Chrome('driver/chromedriver.exe')"
   ]
  },
  {
   "cell_type": "markdown",
   "id": "e77cac0b",
   "metadata": {},
   "source": [
    "等号右边 是 WebDriver 类型的对象"
   ]
  },
  {
   "cell_type": "code",
   "execution_count": null,
   "id": "66ceeb0f",
   "metadata": {},
   "outputs": [],
   "source": [
    "wd.get('https://www.qcc.com/')"
   ]
  },
  {
   "cell_type": "code",
   "execution_count": null,
   "id": "e0f9ad22",
   "metadata": {},
   "outputs": [],
   "source": [
    "time.sleep(3)\n",
    "wd.quit()"
   ]
  }
 ],
 "metadata": {
  "kernelspec": {
   "display_name": "Python 3",
   "language": "python",
   "name": "python3"
  },
  "language_info": {
   "codemirror_mode": {
    "name": "ipython",
    "version": 3
   },
   "file_extension": ".py",
   "mimetype": "text/x-python",
   "name": "python",
   "nbconvert_exporter": "python",
   "pygments_lexer": "ipython3",
   "version": "3.6.13"
  }
 },
 "nbformat": 4,
 "nbformat_minor": 5
}
