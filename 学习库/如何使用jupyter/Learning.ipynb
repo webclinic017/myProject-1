{
 "cells": [
  {
   "cell_type": "code",
   "execution_count": 1,
   "id": "dd1ad0bb",
   "metadata": {},
   "outputs": [
    {
     "name": "stdout",
     "output_type": "stream",
     "text": [
      "hello\n"
     ]
    }
   ],
   "source": [
    "print('hello')"
   ]
  },
  {
   "cell_type": "code",
   "execution_count": 2,
   "id": "1a604b0c",
   "metadata": {},
   "outputs": [],
   "source": [
    "import time\n",
    "time.sleep(5)"
   ]
  },
  {
   "cell_type": "code",
   "execution_count": 3,
   "id": "cc72b9fc",
   "metadata": {},
   "outputs": [
    {
     "name": "stdout",
     "output_type": "stream",
     "text": [
      "aaa\n"
     ]
    }
   ],
   "source": [
    "print('aaa')"
   ]
  },
  {
   "cell_type": "code",
   "execution_count": 4,
   "id": "5f9f5198",
   "metadata": {},
   "outputs": [],
   "source": [
    "a='hello'"
   ]
  },
  {
   "cell_type": "code",
   "execution_count": 5,
   "id": "223de848",
   "metadata": {},
   "outputs": [],
   "source": [
    "?a"
   ]
  },
  {
   "cell_type": "code",
   "execution_count": 6,
   "id": "b6e51fd7",
   "metadata": {},
   "outputs": [],
   "source": [
    "a?"
   ]
  },
  {
   "cell_type": "code",
   "execution_count": 7,
   "id": "7bf77ee3",
   "metadata": {},
   "outputs": [],
   "source": [
    "?print"
   ]
  },
  {
   "cell_type": "code",
   "execution_count": 8,
   "id": "2a34177a",
   "metadata": {},
   "outputs": [],
   "source": [
    "import os"
   ]
  },
  {
   "cell_type": "code",
   "execution_count": 9,
   "id": "241b71a6",
   "metadata": {},
   "outputs": [],
   "source": [
    "os.mkdir?"
   ]
  },
  {
   "cell_type": "code",
   "execution_count": 10,
   "id": "fb2ea5ec",
   "metadata": {},
   "outputs": [],
   "source": [
    "def do_sth():\n",
    "    print('xxx')"
   ]
  },
  {
   "cell_type": "code",
   "execution_count": 11,
   "id": "a5c2d3c8",
   "metadata": {},
   "outputs": [],
   "source": [
    "do_sth?"
   ]
  },
  {
   "cell_type": "code",
   "execution_count": 12,
   "id": "0ca2aeff",
   "metadata": {},
   "outputs": [],
   "source": [
    "do_sth??"
   ]
  },
  {
   "cell_type": "code",
   "execution_count": 13,
   "id": "2975f72b",
   "metadata": {},
   "outputs": [
    {
     "name": "stdout",
     "output_type": "stream",
     "text": [
      "\n",
      "正在 Ping baidu.com [39.156.69.79] 具有 32 字节的数据:\n",
      "来自 39.156.69.79 的回复: 字节=32 时间=36ms TTL=53\n",
      "来自 39.156.69.79 的回复: 字节=32 时间=36ms TTL=53\n",
      "来自 39.156.69.79 的回复: 字节=32 时间=35ms TTL=53\n",
      "来自 39.156.69.79 的回复: 字节=32 时间=35ms TTL=53\n",
      "\n",
      "39.156.69.79 的 Ping 统计信息:\n",
      "    数据包: 已发送 = 4，已接收 = 4，丢失 = 0 (0% 丢失)，\n",
      "往返行程的估计时间(以毫秒为单位):\n",
      "    最短 = 35ms，最长 = 36ms，平均 = 35ms\n"
     ]
    }
   ],
   "source": [
    "!ping baidu.com"
   ]
  },
  {
   "cell_type": "code",
   "execution_count": 14,
   "id": "ae9f1e2c",
   "metadata": {},
   "outputs": [
    {
     "name": "stderr",
     "output_type": "stream",
     "text": [
      "'gerp' 不是内部或外部命令，也不是可运行的程序\n",
      "或批处理文件。\n"
     ]
    }
   ],
   "source": [
    "!pip list | gerp doc"
   ]
  },
  {
   "cell_type": "markdown",
   "id": "2dd35e4f",
   "metadata": {},
   "source": [
    "单元格中最后一行的值会默认被输出"
   ]
  },
  {
   "cell_type": "code",
   "execution_count": 15,
   "id": "e4ffce67",
   "metadata": {},
   "outputs": [
    {
     "name": "stdout",
     "output_type": "stream",
     "text": [
      "xxx\n"
     ]
    },
    {
     "data": {
      "text/plain": [
       "34"
      ]
     },
     "execution_count": 15,
     "metadata": {},
     "output_type": "execute_result"
    }
   ],
   "source": [
    "print('xxx')\n",
    "30\n",
    "18\n",
    "16\n",
    "21\n",
    "34"
   ]
  },
  {
   "cell_type": "code",
   "execution_count": 16,
   "id": "57c80f53",
   "metadata": {},
   "outputs": [
    {
     "data": {
      "text/plain": [
       "'hello'"
      ]
     },
     "execution_count": 16,
     "metadata": {},
     "output_type": "execute_result"
    }
   ],
   "source": [
    "a = 'hello'\n",
    "a"
   ]
  },
  {
   "cell_type": "code",
   "execution_count": 17,
   "id": "3a9f3801",
   "metadata": {},
   "outputs": [
    {
     "data": {
      "text/plain": [
       "5"
      ]
     },
     "execution_count": 17,
     "metadata": {},
     "output_type": "execute_result"
    }
   ],
   "source": [
    "b = 3\n",
    "c = 2\n",
    "b + c"
   ]
  },
  {
   "cell_type": "code",
   "execution_count": 18,
   "id": "ae69ddfb",
   "metadata": {},
   "outputs": [
    {
     "data": {
      "text/plain": [
       "10"
      ]
     },
     "execution_count": 18,
     "metadata": {},
     "output_type": "execute_result"
    }
   ],
   "source": [
    "def do_s1():\n",
    "    return 10\n",
    "do_s1()"
   ]
  },
  {
   "cell_type": "markdown",
   "id": "5976f082",
   "metadata": {},
   "source": [
    "如果不想把最后一行输出可以添加一个分号；"
   ]
  },
  {
   "cell_type": "code",
   "execution_count": 19,
   "id": "e54835b4",
   "metadata": {},
   "outputs": [],
   "source": [
    "b = 3\n",
    "c = 2\n",
    "b + c;"
   ]
  },
  {
   "cell_type": "code",
   "execution_count": 20,
   "id": "b860a64d",
   "metadata": {},
   "outputs": [],
   "source": [
    "a = 'hello'\n",
    "a;"
   ]
  },
  {
   "cell_type": "markdown",
   "id": "870a1bf8",
   "metadata": {},
   "source": [
    "如果希望每一行都自动输出 用InteractiveShell模块，只作用于当前的notebook"
   ]
  },
  {
   "cell_type": "code",
   "execution_count": 21,
   "id": "8a1c400e",
   "metadata": {},
   "outputs": [],
   "source": [
    "from IPython.core.interactiveshell import InteractiveShell\n",
    "InteractiveShell.ast_node_interactivity = 'all'"
   ]
  },
  {
   "cell_type": "code",
   "execution_count": 22,
   "id": "1500237c",
   "metadata": {},
   "outputs": [
    {
     "data": {
      "text/plain": [
       "10"
      ]
     },
     "execution_count": 22,
     "metadata": {},
     "output_type": "execute_result"
    },
    {
     "data": {
      "text/plain": [
       "5"
      ]
     },
     "execution_count": 22,
     "metadata": {},
     "output_type": "execute_result"
    },
    {
     "data": {
      "text/plain": [
       "'hello'"
      ]
     },
     "execution_count": 22,
     "metadata": {},
     "output_type": "execute_result"
    },
    {
     "name": "stdout",
     "output_type": "stream",
     "text": [
      "xxx\n"
     ]
    },
    {
     "data": {
      "text/plain": [
       "34"
      ]
     },
     "execution_count": 22,
     "metadata": {},
     "output_type": "execute_result"
    }
   ],
   "source": [
    "def do_s1():\n",
    "    return 10\n",
    "do_s1()\n",
    "b = 3\n",
    "c = 2\n",
    "b + c\n",
    "a = 'hello'\n",
    "a\n",
    "print('xxx')\n",
    "34"
   ]
  },
  {
   "cell_type": "markdown",
   "id": "a66fb2d4",
   "metadata": {},
   "source": [
    "如果想要在所有notebook中 都实现每行输出：  \n",
    "1.找到C:\\Users\\Administrator\\.ipython\\profile_default目录  \n",
    "2.新建一个文件 C:\\Users\\Administrator\\.ipython\\profile_default\\ipython_config.py  \n",
    "3.输入以下两行代码：  \n",
    "    c = get_config()  \n",
    "    c.InteractiveShell.ast_node_interactivity = 'all'  "
   ]
  },
  {
   "cell_type": "markdown",
   "id": "82b16a28",
   "metadata": {},
   "source": [
    "图解Python编程神器Jupyter Notebook"
   ]
  },
  {
   "cell_type": "markdown",
   "id": "60d22a5f",
   "metadata": {},
   "source": [
    "*图解Python编程神器Jupyter Notebook*"
   ]
  },
  {
   "cell_type": "markdown",
   "id": "0d50552b",
   "metadata": {},
   "source": [
    "**图解Python编程神器Jupyter Notebook**"
   ]
  },
  {
   "cell_type": "markdown",
   "id": "fcf27c37",
   "metadata": {},
   "source": [
    "~~图解Python编程神器Jupyter Notebook~~"
   ]
  },
  {
   "cell_type": "markdown",
   "id": "f5290f3e",
   "metadata": {},
   "source": [
    "> 图解Python编程神器Jupyter Notebook"
   ]
  },
  {
   "cell_type": "markdown",
   "id": "af0dbe9d",
   "metadata": {},
   "source": [
    "第一段：图解Python编程神器Jupyter Notebook 图解Python编程神器Jupyter Notebook 图解Python编程神器Jupyter Notebook 图解Python编程神器Jupyter Notebook 图解Python编程神器Jupyter Notebook 图解Python编程神器Jupyter Notebook 图解Python编程神器Jupyter Notebook  \n",
    "第二段：图解Python编程神器Jupyter Notebook 图解Python编程神器Jupyter Notebook 图解Python编程神器Jupyter Notebook 图解Python编程神器Jupyter Notebook 图解Python编程神器Jupyter Notebook 图解Python编程神器Jupyter Notebook 图解Python编程神器Jupyter Notebook\n",
    "\n",
    "第三段：图解Python编程神器Jupyter Notebook 图解Python编程神器Jupyter Notebook 图解Python编程神器Jupyter Notebook 图解Python编程神器Jupyter Notebook 图解Python编程神器Jupyter Notebook 图解Python编程神器Jupyter Notebook 图解Python编程神器Jupyter Notebook"
   ]
  },
  {
   "cell_type": "markdown",
   "id": "3c2af8da",
   "metadata": {},
   "source": [
    "# 一级标题\n",
    "## 二级标题\n",
    "### 三级标题\n",
    "#### 四级标题\n",
    "##### 五级标题\n",
    "###### 六级标题"
   ]
  },
  {
   "cell_type": "markdown",
   "id": "50828fa9",
   "metadata": {},
   "source": [
    "第一行  分隔线 分隔线 分隔线 分隔线 分隔线 分隔线 分隔线 分隔线\n",
    "***\n",
    "第二行  分隔线 分隔线 分隔线 分隔线 分隔线 分隔线 分隔线 分隔线"
   ]
  },
  {
   "cell_type": "markdown",
   "id": "22ee7c41",
   "metadata": {},
   "source": [
    "第一行 分隔线 分隔线 分隔线 分隔线 分隔线 分隔线 分隔线 分隔线\n",
    "--  --\n",
    "第二行 分隔线 分隔线 分隔线 分隔线 分隔线 分隔线 分隔线 分隔线"
   ]
  },
  {
   "cell_type": "markdown",
   "id": "4eb127cf",
   "metadata": {},
   "source": [
    "1. 有序列表项1\n",
    "2. 有序列表项2\n",
    "3. 有序列表项3"
   ]
  },
  {
   "cell_type": "markdown",
   "id": "3fc0e901",
   "metadata": {},
   "source": [
    "+ 无序列表项1\n",
    "+ 无序列表项2\n",
    "+ 无序列表项3"
   ]
  },
  {
   "cell_type": "markdown",
   "id": "031e60b0",
   "metadata": {},
   "source": [
    "- 无序列表项1\n",
    "- 无序列表项2\n",
    "- 无序列表项3"
   ]
  },
  {
   "cell_type": "markdown",
   "id": "7ea69e37",
   "metadata": {},
   "source": [
    "* 无序列表项1\n",
    "* 无序列表项2\n",
    "* 无序列表项3"
   ]
  },
  {
   "cell_type": "markdown",
   "id": "3f45bbfd",
   "metadata": {},
   "source": [
    "1. 有序列表项1\n",
    "    * 有序列表项1 嵌套的 无序列表1\n",
    "        * 无序列表项1 嵌套的 无序列表1.1\n",
    "        * 无序列表项1 嵌套的 无序列表1.1\n",
    "    * 有序列表项1 嵌套的 无序列表2\n",
    "2. 有序列表项2\n",
    "3. 有序列表项3"
   ]
  },
  {
   "cell_type": "markdown",
   "id": "0198f943",
   "metadata": {},
   "source": [
    "这是一句行内的代码：`print('hello')`用倒引号引起来"
   ]
  },
  {
   "cell_type": "markdown",
   "id": "f3644d61",
   "metadata": {},
   "source": [
    "```python\n",
    "for i in range(10):\n",
    "    print(i)\n",
    "```"
   ]
  },
  {
   "cell_type": "markdown",
   "id": "3b4b733b",
   "metadata": {
    "pycharm": {
     "name": "#%% md\n"
    }
   },
   "source": [
    "表头1 表头2 表头3 表头4  \n",
    "a b c d  \n",
    "aa bb cc dd  \n",
    "aaa bbb ccc ddd  \n",
    "aaaa bbbb cccc dddd  "
   ]
  },
  {
   "cell_type": "markdown",
   "id": "bea1f842",
   "metadata": {},
   "source": [
    "|表头1|表头2|表头3|表头4|\n",
    "|---|---|---|---|\n",
    "|a|b|c|d|\n",
    "|aa|bb|cc|dd|\n",
    "|aaa|bbb|ccc|ddd|\n",
    "|aaaa|bbbb|cccc|默认右对齐|"
   ]
  },
  {
   "cell_type": "markdown",
   "id": "8523a82a",
   "metadata": {},
   "source": [
    "|表头1|表头2|表头3|表头4|\n",
    "|---|:---|---:|:---:|\n",
    "|a|b|c|d|\n",
    "|aa|bb|cc|dd|\n",
    "|aaa|bbb|ccc|ddd|\n",
    "|aaaa|bbbb|cccc|dddd|"
   ]
  },
  {
   "cell_type": "markdown",
   "id": "aed17d86",
   "metadata": {},
   "source": [
    "[图解Python](https://weibo.com/234133988)"
   ]
  },
  {
   "cell_type": "markdown",
   "id": "11788e00",
   "metadata": {},
   "source": [
    "[https://weibo.com/234133988](https://weibo.com/234133988)  \n",
    "<https://weibo.com/234133988>"
   ]
  },
  {
   "cell_type": "markdown",
   "id": "07f3e286",
   "metadata": {},
   "source": [
    "[图解Python1][weibo_url]  \n",
    "[图解Python2][weibo_url]  \n",
    "[图解Python3][weibo_url]  \n",
    "\n",
    "[weibo_url]:https://weibo.com/234133988"
   ]
  },
  {
   "cell_type": "markdown",
   "id": "3b17bc64",
   "metadata": {},
   "source": [
    "$c =\\sqrt{a^{2}+b^{2}}$"
   ]
  },
  {
   "cell_type": "markdown",
   "id": "67bbdb4c",
   "metadata": {},
   "source": [
    "$$c =\\sqrt{a^{2}+b^{2}}$$"
   ]
  },
  {
   "cell_type": "markdown",
   "id": "6df144f3",
   "metadata": {},
   "source": [
    "<u>图解python<u>"
   ]
  },
  {
   "cell_type": "markdown",
   "id": "3dafeca8",
   "metadata": {},
   "source": [
    "<a href=\"https://weibo.com/234133988\">图解Python</a>"
   ]
  },
  {
   "cell_type": "markdown",
   "id": "2904cd6f",
   "metadata": {},
   "source": [
    "<font color='pink'>图解Python</font>"
   ]
  },
  {
   "cell_type": "markdown",
   "id": "bd4d391c",
   "metadata": {},
   "source": [
    "<span style='color:brown'>图解Python</span>"
   ]
  },
  {
   "attachments": {
    "TB2iMidilcHL1JjSZJiXXcKcpXa_!!2217081772.jpg_80x80.jpg": {
     "image/jpeg": "[encoded data removed]"
    }
   },
   "cell_type": "markdown",
   "id": "2248c174",
   "metadata": {},
   "source": [
    "![TB2iMidilcHL1JjSZJiXXcKcpXa_!!2217081772.jpg_80x80.jpg](attachment:TB2iMidilcHL1JjSZJiXXcKcpXa_!!2217081772.jpg_80x80.jpg)"
   ]
  },
  {
   "attachments": {
    "TB1sNxoge7JL1JjSZFKXXc4KXXa_!!0-item_pic.jpg_310x310.jpg": {
     "image/jpeg": "[encoded data removed]"
    }
   },
   "cell_type": "markdown",
   "id": "c8f0dbfd",
   "metadata": {},
   "source": [
    "![TB1sNxoge7JL1JjSZFKXXc4KXXa_!!0-item_pic.jpg_310x310.jpg](attachment:TB1sNxoge7JL1JjSZFKXXc4KXXa_!!0-item_pic.jpg_310x310.jpg '裤子')"
   ]
  },
  {
   "cell_type": "markdown",
   "id": "7ed32bfa",
   "metadata": {},
   "source": [
    "![猴哥韩服被人针对，放狠话让你们吃不下饭](https://gimg2.baidu.com/image_search/src=http%3A%2F%2Fsta-op.douyucdn.cn%2Fvod-cover%2F2020%2F06%2F20%2F7cd1ce423a6c547a583b254b9e5d8a9e.jpg&refer=http%3A%2F%2Fsta-op.douyucdn.cn&app=2002&size=f9999,10000&q=a80&n=0&g=0n&fmt=jpeg?sec=1626852348&t=c0e54ae5cd61efc510f39dbfde33fb31https://gimg2.baidu.com/image_search/src=http%3A%2F%2Fsta-op.douyucdn.cn%2Fvod-cover%2F2020%2F06%2F20%2F7cd1ce423a6c547a583b254b9e5d8a9e.jpg&refer=http%3A%2F%2Fsta-op.douyucdn.cn&app=2002&size=f9999,10000&q=a80&n=0&g=0n&fmt=jpeg?sec=1626852348&t=c0e54ae5cd61efc510f39dbfde33fb31 '兰林汉')"
   ]
  },
  {
   "cell_type": "markdown",
   "id": "7b7d1563",
   "metadata": {},
   "source": [
    "<img src='https://gimg2.baidu.com/image_search/src=http%3A%2F%2Fsta-op.douyucdn.cn%2Fvod-cover%2F2020%2F06%2F20%2F7cd1ce423a6c547a583b254b9e5d8a9e.jpg&refer=http%3A%2F%2Fsta-op.douyucdn.cn&app=2002&size=f9999,10000&q=a80&n=0&g=0n&fmt=jpeg?sec=1626852348&t=c0e54ae5cd61efc510f39dbfde33fb31https://gimg2.baidu.com/image_search/src=http%3A%2F%2Fsta-op.douyucdn.cn%2Fvod-cover%2F2020%2F06%2F20%2F7cd1ce423a6c547a583b254b9e5d8a9e.jpg&refer=http%3A%2F%2Fsta-op.douyucdn.cn&app=2002&size=f9999,10000&q=a80&n=0&g=0n&fmt=jpeg?sec=1626852348&t=c0e54ae5cd61efc510f39dbfde33fb31'width:200px;height:200px'>"
   ]
  },
  {
   "cell_type": "code",
   "execution_count": 23,
   "id": "6e52f1fd",
   "metadata": {
    "pycharm": {
     "name": "#%%\n"
    }
   },
   "outputs": [
    {
     "data": {
      "text/plain": [
       "'3.6.13 |Anaconda, Inc.| (default, Mar 16 2021, 11:37:27) [MSC v.1916 64 bit (AMD64)]'"
      ]
     },
     "execution_count": 23,
     "metadata": {},
     "output_type": "execute_result"
    },
    {
     "name": "stdout",
     "output_type": "stream",
     "text": [
      "[5, 3, 2, 1, 4]\n"
     ]
    }
   ],
   "source": [
    "import sys\n",
    "sys.version\n",
    "import random\n",
    "list=[1,2,3,4,5]\n",
    "random.shuffle(list)\n",
    "print(list)"
   ]
  },
  {
   "cell_type": "code",
   "execution_count": 23,
   "id": "25c33eff",
   "metadata": {},
   "outputs": [],
   "source": []
  }
 ],
 "metadata": {
  "kernelspec": {
   "display_name": "Python 3 (ipykernel)",
   "language": "python",
   "name": "python3"
  },
  "language_info": {
   "codemirror_mode": {
    "name": "ipython",
    "version": 3
   },
   "file_extension": ".py",
   "mimetype": "text/x-python",
   "name": "python",
   "nbconvert_exporter": "python",
   "pygments_lexer": "ipython3",
   "version": "3.7.11"
  }
 },
 "nbformat": 4,
 "nbformat_minor": 5
}
